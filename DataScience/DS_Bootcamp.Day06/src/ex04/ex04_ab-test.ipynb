{
 "cells": [
  {
   "cell_type": "markdown",
   "id": "cf5d7e2c",
   "metadata": {},
   "source": [
    "## A/B-testing"
   ]
  },
  {
   "cell_type": "code",
   "execution_count": 38,
   "id": "c9d261fa",
   "metadata": {},
   "outputs": [],
   "source": [
    "import pandas as pd\n",
    "import sqlite3"
   ]
  },
  {
   "cell_type": "markdown",
   "id": "fc260fb3",
   "metadata": {},
   "source": [
    "## Connection to sqlite3"
   ]
  },
  {
   "cell_type": "code",
   "execution_count": 39,
   "id": "d2c1fc0c",
   "metadata": {},
   "outputs": [],
   "source": [
    "conn = sqlite3.connect(\"../ex00/data/checking-logs.sqlite\")"
   ]
  },
  {
   "cell_type": "code",
   "execution_count": 40,
   "id": "16dd3c57",
   "metadata": {},
   "outputs": [
    {
     "data": {
      "text/plain": [
       "np.float64(1587901354.1818182)"
      ]
     },
     "execution_count": 40,
     "metadata": {},
     "output_type": "execute_result"
    }
   ],
   "source": [
    "query = \"\"\"\n",
    "SELECT AVG(UNIXEPOCH(first_view)) as avg_first_view\n",
    "FROM (\n",
    "    SELECT test.uid, MIN(pviews.datetime) as first_view\n",
    "    FROM test \n",
    "    JOIN pageviews pviews ON test.uid = pviews.uid \n",
    "    WHERE test.first_commit_ts IS NOT NULL \n",
    "    GROUP BY test.uid\n",
    ")\n",
    "\"\"\"\n",
    "avg_view_df = pd.io.sql.read_sql(query, conn)\n",
    "avg_first_view = avg_view_df['avg_first_view'].mean()\n",
    "avg_first_view"
   ]
  },
  {
   "cell_type": "markdown",
   "id": "7de7c59a",
   "metadata": {},
   "source": [
    "### Test table"
   ]
  },
  {
   "cell_type": "code",
   "execution_count": 41,
   "id": "3619c104",
   "metadata": {},
   "outputs": [
    {
     "data": {
      "text/html": [
       "<div>\n",
       "<style scoped>\n",
       "    .dataframe tbody tr th:only-of-type {\n",
       "        vertical-align: middle;\n",
       "    }\n",
       "\n",
       "    .dataframe tbody tr th {\n",
       "        vertical-align: top;\n",
       "    }\n",
       "\n",
       "    .dataframe thead th {\n",
       "        text-align: right;\n",
       "    }\n",
       "</style>\n",
       "<table border=\"1\" class=\"dataframe\">\n",
       "  <thead>\n",
       "    <tr style=\"text-align: right;\">\n",
       "      <th></th>\n",
       "      <th>time</th>\n",
       "      <th>avg_diff</th>\n",
       "    </tr>\n",
       "  </thead>\n",
       "  <tbody>\n",
       "    <tr>\n",
       "      <th>0</th>\n",
       "      <td>after</td>\n",
       "      <td>-93.8500</td>\n",
       "    </tr>\n",
       "    <tr>\n",
       "      <th>1</th>\n",
       "      <td>before</td>\n",
       "      <td>-60.5625</td>\n",
       "    </tr>\n",
       "  </tbody>\n",
       "</table>\n",
       "</div>"
      ],
      "text/plain": [
       "     time  avg_diff\n",
       "0   after  -93.8500\n",
       "1  before  -60.5625"
      ]
     },
     "execution_count": 41,
     "metadata": {},
     "output_type": "execute_result"
    }
   ],
   "source": [
    "query_test = \"\"\"\n",
    "WITH FirstViews AS (\n",
    "    SELECT uid, MIN(datetime) AS first_view\n",
    "    FROM pageviews\n",
    "    GROUP BY uid\n",
    ")\n",
    "\n",
    "SELECT \n",
    "    CASE \n",
    "        WHEN UNIXEPOCH(test.first_commit_ts) < UNIXEPOCH(FirstViews.first_view) THEN 'before'\n",
    "        ELSE 'after'\n",
    "    END AS time,\n",
    "    AVG((UNIXEPOCH(test.first_commit_ts) - deadlines.deadlines) / 3600) AS avg_diff\n",
    "FROM test\n",
    "JOIN deadlines ON deadlines.labs = test.labname\n",
    "JOIN FirstViews ON test.uid = FirstViews.uid\n",
    "WHERE test.labname != 'project1'\n",
    "AND test.uid IN (         \n",
    "    SELECT DISTINCT test.uid\n",
    "    FROM test\n",
    "    JOIN FirstViews ON test.uid = FirstViews.uid\n",
    "    GROUP BY test.uid\n",
    "    HAVING \n",
    "        COUNT(CASE WHEN UNIXEPOCH(test.first_commit_ts) < UNIXEPOCH(FirstViews.first_view) THEN 1 END) > 0\n",
    "        AND COUNT(CASE WHEN UNIXEPOCH(test.first_commit_ts) >= UNIXEPOCH(FirstViews.first_view) THEN 1 END) > 0\n",
    ")\n",
    "GROUP BY time\n",
    "\"\"\"\n",
    "test_results = pd.io.sql.read_sql(query_test, conn)\n",
    "test_results"
   ]
  },
  {
   "cell_type": "markdown",
   "id": "6ef7b4d9",
   "metadata": {},
   "source": [
    "### Control test"
   ]
  },
  {
   "cell_type": "code",
   "execution_count": 42,
   "id": "83ddced3",
   "metadata": {},
   "outputs": [
    {
     "data": {
      "text/html": [
       "<div>\n",
       "<style scoped>\n",
       "    .dataframe tbody tr th:only-of-type {\n",
       "        vertical-align: middle;\n",
       "    }\n",
       "\n",
       "    .dataframe tbody tr th {\n",
       "        vertical-align: top;\n",
       "    }\n",
       "\n",
       "    .dataframe thead th {\n",
       "        text-align: right;\n",
       "    }\n",
       "</style>\n",
       "<table border=\"1\" class=\"dataframe\">\n",
       "  <thead>\n",
       "    <tr style=\"text-align: right;\">\n",
       "      <th></th>\n",
       "      <th>time</th>\n",
       "      <th>avg_diff</th>\n",
       "    </tr>\n",
       "  </thead>\n",
       "  <tbody>\n",
       "    <tr>\n",
       "      <th>0</th>\n",
       "      <td>after</td>\n",
       "      <td>-110.457143</td>\n",
       "    </tr>\n",
       "    <tr>\n",
       "      <th>1</th>\n",
       "      <td>before</td>\n",
       "      <td>-130.952381</td>\n",
       "    </tr>\n",
       "  </tbody>\n",
       "</table>\n",
       "</div>"
      ],
      "text/plain": [
       "     time    avg_diff\n",
       "0   after -110.457143\n",
       "1  before -130.952381"
      ]
     },
     "execution_count": 42,
     "metadata": {},
     "output_type": "execute_result"
    }
   ],
   "source": [
    "query_control = \"\"\"\n",
    "SELECT \n",
    "    CASE \n",
    "        WHEN UNIXEPOCH(control.first_commit_ts) < ? THEN 'before'\n",
    "        ELSE 'after'\n",
    "    END AS time,\n",
    "    AVG((UNIXEPOCH(control.first_commit_ts) - deadlines.deadlines) / 3600) AS avg_diff\n",
    "FROM control\n",
    "JOIN deadlines ON deadlines.labs = control.labname\n",
    "WHERE control.labname != 'project1'\n",
    "AND control.uid IN (\n",
    "    SELECT DISTINCT control.uid\n",
    "    FROM control\n",
    "    GROUP BY control.uid\n",
    "    HAVING \n",
    "        COUNT(CASE WHEN UNIXEPOCH(control.first_commit_ts) < ? THEN 1 END) > 0\n",
    "        AND COUNT(CASE WHEN UNIXEPOCH(control.first_commit_ts) >= ? THEN 1 END) > 0\n",
    ")\n",
    "GROUP BY time\n",
    "\"\"\"\n",
    "\n",
    "control_results = pd.io.sql.read_sql(query_control, conn, params=(avg_first_view, avg_first_view, avg_first_view))\n",
    "control_results"
   ]
  },
  {
   "cell_type": "markdown",
   "id": "0841ab4b",
   "metadata": {},
   "source": [
    "### Connection closed"
   ]
  },
  {
   "cell_type": "code",
   "execution_count": 43,
   "id": "01000899",
   "metadata": {},
   "outputs": [],
   "source": [
    "conn.close()"
   ]
  },
  {
   "cell_type": "markdown",
   "id": "baf9225e",
   "metadata": {},
   "source": [
    "## Answer"
   ]
  },
  {
   "cell_type": "code",
   "execution_count": 44,
   "id": "cdc7425a",
   "metadata": {},
   "outputs": [
    {
     "name": "stdout",
     "output_type": "stream",
     "text": [
      "Test period difference: -33.29 hour\n",
      "Control period difference: 20.50 hour\n",
      "Gipoteza: sahifa talabalarning xatti-harakatlariga ijobiy ta'sir qiladi.\n"
     ]
    }
   ],
   "source": [
    "test_before = test_results.query(\"time == 'before'\")['avg_diff'].iloc[0]\n",
    "test_after = test_results.query(\"time == 'after'\")['avg_diff'].iloc[0]\n",
    "control_before = control_results.query(\"time == 'before'\")['avg_diff'].iloc[0]\n",
    "control_after = control_results.query(\"time == 'after'\")['avg_diff'].iloc[0]\n",
    "\n",
    "test_diff = test_after - test_before\n",
    "control_diff = control_after - control_before\n",
    "\n",
    "print(f\"Test period difference: {test_diff:.2f} hour\")\n",
    "print(f\"Control period difference: {control_diff:.2f} hour\")\n",
    "\n",
    "if test_diff < 0 and abs(test_diff) > abs(control_diff):\n",
    "    print(\"Gipoteza: sahifa talabalarning xatti-harakatlariga ijobiy ta'sir qiladi.\")\n",
    "else:\n",
    "    print(\"Gipoteza: sahifa talabalarning xatti-harakatlariga sezilarli ta'sir ko'rsatmaydi.\")"
   ]
  }
 ],
 "metadata": {
  "kernelspec": {
   "display_name": "Python 3",
   "language": "python",
   "name": "python3"
  },
  "language_info": {
   "codemirror_mode": {
    "name": "ipython",
    "version": 3
   },
   "file_extension": ".py",
   "mimetype": "text/x-python",
   "name": "python",
   "nbconvert_exporter": "python",
   "pygments_lexer": "ipython3",
   "version": "3.13.3"
  }
 },
 "nbformat": 4,
 "nbformat_minor": 5
}
