{
 "cells": [
  {
   "cell_type": "markdown",
   "metadata": {},
   "source": [
    "# Day 08. Exercise 03\n",
    "# Overfitting"
   ]
  },
  {
   "cell_type": "markdown",
   "metadata": {},
   "source": [
    "## 0. Imports"
   ]
  },
  {
   "cell_type": "code",
   "execution_count": 1,
   "metadata": {},
   "outputs": [],
   "source": [
    "import pandas as pd\n",
    "import numpy as np\n",
    "import matplotlib.pyplot as plt\n",
    "import seaborn as sns\n",
    "from sklearn.model_selection import train_test_split, cross_val_score, KFold, StratifiedKFold\n",
    "from sklearn.linear_model import LogisticRegression\n",
    "from sklearn.svm import SVC\n",
    "from sklearn.tree import DecisionTreeClassifier\n",
    "from sklearn.ensemble import RandomForestClassifier\n",
    "from sklearn.metrics import accuracy_score\n",
    "from sklearn.multiclass import OneVsRestClassifier\n",
    "import joblib"
   ]
  },
  {
   "cell_type": "markdown",
   "metadata": {},
   "source": [
    "## 1. Preprocessing"
   ]
  },
  {
   "cell_type": "markdown",
   "metadata": {},
   "source": [
    "1. Read the file `dayofweek.csv` to a dataframe.\n",
    "2. Using `train_test_split` with parameters `test_size=0.2`, `random_state=21` get `X_train`, `y_train`, `X_test`, `y_test`.\n",
    "3. Using, for example, `value_counts()` to check if the distribution of classes is similar in train and test.\n",
    "4. Use the additional parameter `stratify=` and check the distribution again, now it should be more or less similar in both datasets."
   ]
  },
  {
   "cell_type": "code",
   "execution_count": 2,
   "metadata": {},
   "outputs": [
    {
     "data": {
      "text/html": [
       "<div>\n",
       "<style scoped>\n",
       "    .dataframe tbody tr th:only-of-type {\n",
       "        vertical-align: middle;\n",
       "    }\n",
       "\n",
       "    .dataframe tbody tr th {\n",
       "        vertical-align: top;\n",
       "    }\n",
       "\n",
       "    .dataframe thead th {\n",
       "        text-align: right;\n",
       "    }\n",
       "</style>\n",
       "<table border=\"1\" class=\"dataframe\">\n",
       "  <thead>\n",
       "    <tr style=\"text-align: right;\">\n",
       "      <th></th>\n",
       "      <th>numTrials</th>\n",
       "      <th>hour</th>\n",
       "      <th>dayofweek</th>\n",
       "      <th>uid_user_0</th>\n",
       "      <th>uid_user_1</th>\n",
       "      <th>uid_user_10</th>\n",
       "      <th>uid_user_11</th>\n",
       "      <th>uid_user_12</th>\n",
       "      <th>uid_user_13</th>\n",
       "      <th>uid_user_14</th>\n",
       "      <th>...</th>\n",
       "      <th>labname_lab02</th>\n",
       "      <th>labname_lab03</th>\n",
       "      <th>labname_lab03s</th>\n",
       "      <th>labname_lab05s</th>\n",
       "      <th>labname_laba04</th>\n",
       "      <th>labname_laba04s</th>\n",
       "      <th>labname_laba05</th>\n",
       "      <th>labname_laba06</th>\n",
       "      <th>labname_laba06s</th>\n",
       "      <th>labname_project1</th>\n",
       "    </tr>\n",
       "  </thead>\n",
       "  <tbody>\n",
       "    <tr>\n",
       "      <th>0</th>\n",
       "      <td>-0.788667</td>\n",
       "      <td>-2.562352</td>\n",
       "      <td>4</td>\n",
       "      <td>0.0</td>\n",
       "      <td>0.0</td>\n",
       "      <td>0.0</td>\n",
       "      <td>0.0</td>\n",
       "      <td>0.0</td>\n",
       "      <td>0.0</td>\n",
       "      <td>0.0</td>\n",
       "      <td>...</td>\n",
       "      <td>0.0</td>\n",
       "      <td>0.0</td>\n",
       "      <td>0.0</td>\n",
       "      <td>0.0</td>\n",
       "      <td>0.0</td>\n",
       "      <td>0.0</td>\n",
       "      <td>0.0</td>\n",
       "      <td>0.0</td>\n",
       "      <td>0.0</td>\n",
       "      <td>1.0</td>\n",
       "    </tr>\n",
       "    <tr>\n",
       "      <th>1</th>\n",
       "      <td>-0.756764</td>\n",
       "      <td>-2.562352</td>\n",
       "      <td>4</td>\n",
       "      <td>0.0</td>\n",
       "      <td>0.0</td>\n",
       "      <td>0.0</td>\n",
       "      <td>0.0</td>\n",
       "      <td>0.0</td>\n",
       "      <td>0.0</td>\n",
       "      <td>0.0</td>\n",
       "      <td>...</td>\n",
       "      <td>0.0</td>\n",
       "      <td>0.0</td>\n",
       "      <td>0.0</td>\n",
       "      <td>0.0</td>\n",
       "      <td>0.0</td>\n",
       "      <td>0.0</td>\n",
       "      <td>0.0</td>\n",
       "      <td>0.0</td>\n",
       "      <td>0.0</td>\n",
       "      <td>1.0</td>\n",
       "    </tr>\n",
       "    <tr>\n",
       "      <th>2</th>\n",
       "      <td>-0.724861</td>\n",
       "      <td>-2.562352</td>\n",
       "      <td>4</td>\n",
       "      <td>0.0</td>\n",
       "      <td>0.0</td>\n",
       "      <td>0.0</td>\n",
       "      <td>0.0</td>\n",
       "      <td>0.0</td>\n",
       "      <td>0.0</td>\n",
       "      <td>0.0</td>\n",
       "      <td>...</td>\n",
       "      <td>0.0</td>\n",
       "      <td>0.0</td>\n",
       "      <td>0.0</td>\n",
       "      <td>0.0</td>\n",
       "      <td>0.0</td>\n",
       "      <td>0.0</td>\n",
       "      <td>0.0</td>\n",
       "      <td>0.0</td>\n",
       "      <td>0.0</td>\n",
       "      <td>1.0</td>\n",
       "    </tr>\n",
       "    <tr>\n",
       "      <th>3</th>\n",
       "      <td>-0.692958</td>\n",
       "      <td>-2.562352</td>\n",
       "      <td>4</td>\n",
       "      <td>0.0</td>\n",
       "      <td>0.0</td>\n",
       "      <td>0.0</td>\n",
       "      <td>0.0</td>\n",
       "      <td>0.0</td>\n",
       "      <td>0.0</td>\n",
       "      <td>0.0</td>\n",
       "      <td>...</td>\n",
       "      <td>0.0</td>\n",
       "      <td>0.0</td>\n",
       "      <td>0.0</td>\n",
       "      <td>0.0</td>\n",
       "      <td>0.0</td>\n",
       "      <td>0.0</td>\n",
       "      <td>0.0</td>\n",
       "      <td>0.0</td>\n",
       "      <td>0.0</td>\n",
       "      <td>1.0</td>\n",
       "    </tr>\n",
       "    <tr>\n",
       "      <th>4</th>\n",
       "      <td>-0.661055</td>\n",
       "      <td>-2.562352</td>\n",
       "      <td>4</td>\n",
       "      <td>0.0</td>\n",
       "      <td>0.0</td>\n",
       "      <td>0.0</td>\n",
       "      <td>0.0</td>\n",
       "      <td>0.0</td>\n",
       "      <td>0.0</td>\n",
       "      <td>0.0</td>\n",
       "      <td>...</td>\n",
       "      <td>0.0</td>\n",
       "      <td>0.0</td>\n",
       "      <td>0.0</td>\n",
       "      <td>0.0</td>\n",
       "      <td>0.0</td>\n",
       "      <td>0.0</td>\n",
       "      <td>0.0</td>\n",
       "      <td>0.0</td>\n",
       "      <td>0.0</td>\n",
       "      <td>1.0</td>\n",
       "    </tr>\n",
       "    <tr>\n",
       "      <th>...</th>\n",
       "      <td>...</td>\n",
       "      <td>...</td>\n",
       "      <td>...</td>\n",
       "      <td>...</td>\n",
       "      <td>...</td>\n",
       "      <td>...</td>\n",
       "      <td>...</td>\n",
       "      <td>...</td>\n",
       "      <td>...</td>\n",
       "      <td>...</td>\n",
       "      <td>...</td>\n",
       "      <td>...</td>\n",
       "      <td>...</td>\n",
       "      <td>...</td>\n",
       "      <td>...</td>\n",
       "      <td>...</td>\n",
       "      <td>...</td>\n",
       "      <td>...</td>\n",
       "      <td>...</td>\n",
       "      <td>...</td>\n",
       "      <td>...</td>\n",
       "    </tr>\n",
       "    <tr>\n",
       "      <th>1681</th>\n",
       "      <td>-0.533442</td>\n",
       "      <td>0.945382</td>\n",
       "      <td>3</td>\n",
       "      <td>0.0</td>\n",
       "      <td>0.0</td>\n",
       "      <td>0.0</td>\n",
       "      <td>0.0</td>\n",
       "      <td>0.0</td>\n",
       "      <td>0.0</td>\n",
       "      <td>0.0</td>\n",
       "      <td>...</td>\n",
       "      <td>0.0</td>\n",
       "      <td>0.0</td>\n",
       "      <td>0.0</td>\n",
       "      <td>0.0</td>\n",
       "      <td>0.0</td>\n",
       "      <td>0.0</td>\n",
       "      <td>0.0</td>\n",
       "      <td>0.0</td>\n",
       "      <td>1.0</td>\n",
       "      <td>0.0</td>\n",
       "    </tr>\n",
       "    <tr>\n",
       "      <th>1682</th>\n",
       "      <td>-0.629151</td>\n",
       "      <td>0.945382</td>\n",
       "      <td>3</td>\n",
       "      <td>0.0</td>\n",
       "      <td>1.0</td>\n",
       "      <td>0.0</td>\n",
       "      <td>0.0</td>\n",
       "      <td>0.0</td>\n",
       "      <td>0.0</td>\n",
       "      <td>0.0</td>\n",
       "      <td>...</td>\n",
       "      <td>0.0</td>\n",
       "      <td>0.0</td>\n",
       "      <td>0.0</td>\n",
       "      <td>0.0</td>\n",
       "      <td>0.0</td>\n",
       "      <td>0.0</td>\n",
       "      <td>0.0</td>\n",
       "      <td>0.0</td>\n",
       "      <td>1.0</td>\n",
       "      <td>0.0</td>\n",
       "    </tr>\n",
       "    <tr>\n",
       "      <th>1683</th>\n",
       "      <td>-0.597248</td>\n",
       "      <td>0.945382</td>\n",
       "      <td>3</td>\n",
       "      <td>0.0</td>\n",
       "      <td>1.0</td>\n",
       "      <td>0.0</td>\n",
       "      <td>0.0</td>\n",
       "      <td>0.0</td>\n",
       "      <td>0.0</td>\n",
       "      <td>0.0</td>\n",
       "      <td>...</td>\n",
       "      <td>0.0</td>\n",
       "      <td>0.0</td>\n",
       "      <td>0.0</td>\n",
       "      <td>0.0</td>\n",
       "      <td>0.0</td>\n",
       "      <td>0.0</td>\n",
       "      <td>0.0</td>\n",
       "      <td>0.0</td>\n",
       "      <td>1.0</td>\n",
       "      <td>0.0</td>\n",
       "    </tr>\n",
       "    <tr>\n",
       "      <th>1684</th>\n",
       "      <td>-0.565345</td>\n",
       "      <td>0.945382</td>\n",
       "      <td>3</td>\n",
       "      <td>0.0</td>\n",
       "      <td>1.0</td>\n",
       "      <td>0.0</td>\n",
       "      <td>0.0</td>\n",
       "      <td>0.0</td>\n",
       "      <td>0.0</td>\n",
       "      <td>0.0</td>\n",
       "      <td>...</td>\n",
       "      <td>0.0</td>\n",
       "      <td>0.0</td>\n",
       "      <td>0.0</td>\n",
       "      <td>0.0</td>\n",
       "      <td>0.0</td>\n",
       "      <td>0.0</td>\n",
       "      <td>0.0</td>\n",
       "      <td>0.0</td>\n",
       "      <td>1.0</td>\n",
       "      <td>0.0</td>\n",
       "    </tr>\n",
       "    <tr>\n",
       "      <th>1685</th>\n",
       "      <td>-0.533442</td>\n",
       "      <td>0.945382</td>\n",
       "      <td>3</td>\n",
       "      <td>0.0</td>\n",
       "      <td>1.0</td>\n",
       "      <td>0.0</td>\n",
       "      <td>0.0</td>\n",
       "      <td>0.0</td>\n",
       "      <td>0.0</td>\n",
       "      <td>0.0</td>\n",
       "      <td>...</td>\n",
       "      <td>0.0</td>\n",
       "      <td>0.0</td>\n",
       "      <td>0.0</td>\n",
       "      <td>0.0</td>\n",
       "      <td>0.0</td>\n",
       "      <td>0.0</td>\n",
       "      <td>0.0</td>\n",
       "      <td>0.0</td>\n",
       "      <td>1.0</td>\n",
       "      <td>0.0</td>\n",
       "    </tr>\n",
       "  </tbody>\n",
       "</table>\n",
       "<p>1686 rows × 44 columns</p>\n",
       "</div>"
      ],
      "text/plain": [
       "      numTrials      hour  dayofweek  uid_user_0  uid_user_1  uid_user_10  \\\n",
       "0     -0.788667 -2.562352          4         0.0         0.0          0.0   \n",
       "1     -0.756764 -2.562352          4         0.0         0.0          0.0   \n",
       "2     -0.724861 -2.562352          4         0.0         0.0          0.0   \n",
       "3     -0.692958 -2.562352          4         0.0         0.0          0.0   \n",
       "4     -0.661055 -2.562352          4         0.0         0.0          0.0   \n",
       "...         ...       ...        ...         ...         ...          ...   \n",
       "1681  -0.533442  0.945382          3         0.0         0.0          0.0   \n",
       "1682  -0.629151  0.945382          3         0.0         1.0          0.0   \n",
       "1683  -0.597248  0.945382          3         0.0         1.0          0.0   \n",
       "1684  -0.565345  0.945382          3         0.0         1.0          0.0   \n",
       "1685  -0.533442  0.945382          3         0.0         1.0          0.0   \n",
       "\n",
       "      uid_user_11  uid_user_12  uid_user_13  uid_user_14  ...  labname_lab02  \\\n",
       "0             0.0          0.0          0.0          0.0  ...            0.0   \n",
       "1             0.0          0.0          0.0          0.0  ...            0.0   \n",
       "2             0.0          0.0          0.0          0.0  ...            0.0   \n",
       "3             0.0          0.0          0.0          0.0  ...            0.0   \n",
       "4             0.0          0.0          0.0          0.0  ...            0.0   \n",
       "...           ...          ...          ...          ...  ...            ...   \n",
       "1681          0.0          0.0          0.0          0.0  ...            0.0   \n",
       "1682          0.0          0.0          0.0          0.0  ...            0.0   \n",
       "1683          0.0          0.0          0.0          0.0  ...            0.0   \n",
       "1684          0.0          0.0          0.0          0.0  ...            0.0   \n",
       "1685          0.0          0.0          0.0          0.0  ...            0.0   \n",
       "\n",
       "      labname_lab03  labname_lab03s  labname_lab05s  labname_laba04  \\\n",
       "0               0.0             0.0             0.0             0.0   \n",
       "1               0.0             0.0             0.0             0.0   \n",
       "2               0.0             0.0             0.0             0.0   \n",
       "3               0.0             0.0             0.0             0.0   \n",
       "4               0.0             0.0             0.0             0.0   \n",
       "...             ...             ...             ...             ...   \n",
       "1681            0.0             0.0             0.0             0.0   \n",
       "1682            0.0             0.0             0.0             0.0   \n",
       "1683            0.0             0.0             0.0             0.0   \n",
       "1684            0.0             0.0             0.0             0.0   \n",
       "1685            0.0             0.0             0.0             0.0   \n",
       "\n",
       "      labname_laba04s  labname_laba05  labname_laba06  labname_laba06s  \\\n",
       "0                 0.0             0.0             0.0              0.0   \n",
       "1                 0.0             0.0             0.0              0.0   \n",
       "2                 0.0             0.0             0.0              0.0   \n",
       "3                 0.0             0.0             0.0              0.0   \n",
       "4                 0.0             0.0             0.0              0.0   \n",
       "...               ...             ...             ...              ...   \n",
       "1681              0.0             0.0             0.0              1.0   \n",
       "1682              0.0             0.0             0.0              1.0   \n",
       "1683              0.0             0.0             0.0              1.0   \n",
       "1684              0.0             0.0             0.0              1.0   \n",
       "1685              0.0             0.0             0.0              1.0   \n",
       "\n",
       "      labname_project1  \n",
       "0                  1.0  \n",
       "1                  1.0  \n",
       "2                  1.0  \n",
       "3                  1.0  \n",
       "4                  1.0  \n",
       "...                ...  \n",
       "1681               0.0  \n",
       "1682               0.0  \n",
       "1683               0.0  \n",
       "1684               0.0  \n",
       "1685               0.0  \n",
       "\n",
       "[1686 rows x 44 columns]"
      ]
     },
     "execution_count": 2,
     "metadata": {},
     "output_type": "execute_result"
    }
   ],
   "source": [
    "df = pd.read_csv(\"../ex02/data/dayofweek.csv\")\n",
    "df"
   ]
  },
  {
   "cell_type": "code",
   "execution_count": 3,
   "metadata": {},
   "outputs": [],
   "source": [
    "y = df['dayofweek']\n",
    "X = df.drop(columns=['dayofweek'])"
   ]
  },
  {
   "cell_type": "code",
   "execution_count": 4,
   "metadata": {},
   "outputs": [
    {
     "name": "stdout",
     "output_type": "stream",
     "text": [
      "\n",
      "Ma'lumotlar 1686 ta qatordan iborat.\n",
      "O'qitish to'plami hajmi: 1348 ta qator.\n",
      "Test to'plami hajmi: 338 ta qator.\n"
     ]
    }
   ],
   "source": [
    "# Ma'lumotlarni o'qitish va test to'plamlariga ajratish\n",
    "X_train_non_stratified, X_test_non_stratified, y_train_non_stratified, y_test_non_stratified = train_test_split(\n",
    "    X, y, test_size=0.2, random_state=21\n",
    ")\n",
    "\n",
    "print(f\"\\nMa'lumotlar {X.shape[0]} ta qatordan iborat.\")\n",
    "print(f\"O'qitish to'plami hajmi: {X_train_non_stratified.shape[0]} ta qator.\")\n",
    "print(f\"Test to'plami hajmi: {X_test_non_stratified.shape[0]} ta qator.\")"
   ]
  },
  {
   "cell_type": "code",
   "execution_count": 5,
   "metadata": {},
   "outputs": [
    {
     "name": "stdout",
     "output_type": "stream",
     "text": [
      "O'qitish to'plamidagi 'dayofweek' taqsimoti (mutlaq son):\n"
     ]
    },
    {
     "data": {
      "text/plain": [
       "dayofweek\n",
       "0    105\n",
       "1    222\n",
       "2    125\n",
       "3    313\n",
       "4     80\n",
       "5    216\n",
       "6    287\n",
       "Name: count, dtype: int64"
      ]
     },
     "execution_count": 5,
     "metadata": {},
     "output_type": "execute_result"
    }
   ],
   "source": [
    "# Ma'lumotlarni `stratify=y` parametri bilan ajratamiz\n",
    "X_train_stratified, X_test_stratified, y_train_stratified, y_test_stratified = train_test_split(\n",
    "    X, y, test_size=0.2, random_state=21, stratify=y\n",
    ")\n",
    "\n",
    "# Taqsimotni tekshirish uchun y_train_non_stratified va y_test_non_stratified.value_counts() dan foydalaniladi\n",
    "y_train_non_stratified_counts = y_train_non_stratified.value_counts().sort_index()\n",
    "print(\"O'qitish to'plamidagi 'dayofweek' taqsimoti (mutlaq son):\")\n",
    "y_train_non_stratified_counts"
   ]
  },
  {
   "cell_type": "code",
   "execution_count": 6,
   "metadata": {},
   "outputs": [
    {
     "name": "stdout",
     "output_type": "stream",
     "text": [
      "\n",
      "O'qitish to'plamidagi 'dayofweek' taqsimoti (foizda):\n"
     ]
    },
    {
     "data": {
      "text/plain": [
       "dayofweek\n",
       "0    0.077893\n",
       "1    0.164688\n",
       "2    0.092730\n",
       "3    0.232196\n",
       "4    0.059347\n",
       "5    0.160237\n",
       "6    0.212908\n",
       "Name: proportion, dtype: float64"
      ]
     },
     "execution_count": 6,
     "metadata": {},
     "output_type": "execute_result"
    }
   ],
   "source": [
    "y_train_non_stratified_percentages = y_train_non_stratified.value_counts(normalize=True).sort_index()\n",
    "print(\"\\nO'qitish to'plamidagi 'dayofweek' taqsimoti (foizda):\")\n",
    "y_train_non_stratified_percentages"
   ]
  },
  {
   "cell_type": "code",
   "execution_count": 7,
   "metadata": {},
   "outputs": [
    {
     "name": "stdout",
     "output_type": "stream",
     "text": [
      "\n",
      "Test to'plamidagi 'dayofweek' taqsimoti (mutlaq son):\n"
     ]
    },
    {
     "data": {
      "text/plain": [
       "dayofweek\n",
       "0    31\n",
       "1    52\n",
       "2    24\n",
       "3    83\n",
       "4    24\n",
       "5    55\n",
       "6    69\n",
       "Name: count, dtype: int64"
      ]
     },
     "execution_count": 7,
     "metadata": {},
     "output_type": "execute_result"
    }
   ],
   "source": [
    "y_test_non_stratified_counts = y_test_non_stratified.value_counts().sort_index()\n",
    "print(\"\\nTest to'plamidagi 'dayofweek' taqsimoti (mutlaq son):\")\n",
    "y_test_non_stratified_counts"
   ]
  },
  {
   "cell_type": "code",
   "execution_count": 8,
   "metadata": {},
   "outputs": [
    {
     "name": "stdout",
     "output_type": "stream",
     "text": [
      "\n",
      "Test to'plamidagi 'dayofweek' taqsimoti (foizda):\n"
     ]
    },
    {
     "data": {
      "text/plain": [
       "dayofweek\n",
       "0    0.091716\n",
       "1    0.153846\n",
       "2    0.071006\n",
       "3    0.245562\n",
       "4    0.071006\n",
       "5    0.162722\n",
       "6    0.204142\n",
       "Name: proportion, dtype: float64"
      ]
     },
     "execution_count": 8,
     "metadata": {},
     "output_type": "execute_result"
    }
   ],
   "source": [
    "y_test_non_stratified_percentages = y_test_non_stratified.value_counts(normalize=True).sort_index()\n",
    "print(\"\\nTest to'plamidagi 'dayofweek' taqsimoti (foizda):\")\n",
    "y_test_non_stratified_percentages"
   ]
  },
  {
   "cell_type": "markdown",
   "metadata": {},
   "source": [
    "## 2. Baseline models"
   ]
  },
  {
   "cell_type": "markdown",
   "metadata": {},
   "source": [
    "1. Train exactly the same baseline models from the previous exercise and calculate the accuracies using the test dataset with stratification.\n",
    "2. Did all the models show the similar values of the metric? Which one has the largest difference comparing the current exercise and the previous? Put the answer to the markdown cell in the end of the section."
   ]
  },
  {
   "cell_type": "markdown",
   "metadata": {},
   "source": [
    "### a. Logreg"
   ]
  },
  {
   "cell_type": "code",
   "execution_count": 9,
   "metadata": {},
   "outputs": [],
   "source": [
    "X_train, X_test, y_train, y_test = train_test_split(\n",
    "    X, y, test_size=0.2, random_state=21, stratify=y\n",
    ")"
   ]
  },
  {
   "cell_type": "code",
   "execution_count": 10,
   "metadata": {},
   "outputs": [
    {
     "name": "stdout",
     "output_type": "stream",
     "text": [
      "Logistik Regressiya (test to'plamida) aniqligi: 0.6153846153846154\n"
     ]
    }
   ],
   "source": [
    "logreg_model = LogisticRegression(random_state=21, fit_intercept=False, solver='liblinear', multi_class='ovr')\n",
    "logreg_model.fit(X_train, y_train)\n",
    "\n",
    "y_pred_logreg = logreg_model.predict(X_test)\n",
    "\n",
    "accuracy_logreg = accuracy_score(y_test, y_pred_logreg)\n",
    "print(f\"Logistik Regressiya (test to'plamida) aniqligi: {accuracy_logreg}\")"
   ]
  },
  {
   "cell_type": "markdown",
   "metadata": {},
   "source": [
    "### b. SVM"
   ]
  },
  {
   "cell_type": "code",
   "execution_count": 11,
   "metadata": {},
   "outputs": [
    {
     "name": "stdout",
     "output_type": "stream",
     "text": [
      "SVC (linear kernel, test to'plamida) aniqligi: 0.6183431952662722\n"
     ]
    }
   ],
   "source": [
    "svc_base_estimator = SVC(kernel='linear', probability=True, random_state=21)\n",
    "svc_model = OneVsRestClassifier(svc_base_estimator)\n",
    "svc_model.fit(X_train, y_train)\n",
    "\n",
    "y_pred_svc = svc_model.predict(X_test)\n",
    "\n",
    "accuracy_svc = accuracy_score(y_test, y_pred_svc)\n",
    "print(f\"SVC (linear kernel, test to'plamida) aniqligi: {accuracy_svc}\")"
   ]
  },
  {
   "cell_type": "markdown",
   "metadata": {},
   "source": [
    "### c. Decision tree"
   ]
  },
  {
   "cell_type": "code",
   "execution_count": 12,
   "metadata": {},
   "outputs": [
    {
     "name": "stdout",
     "output_type": "stream",
     "text": [
      "Decision Tree (max_depth=4, test to'plamida) aniqligi: 0.5295857988165681\n"
     ]
    }
   ],
   "source": [
    "dt_model = DecisionTreeClassifier(max_depth=4, random_state=21)\n",
    "dt_model.fit(X_train, y_train)\n",
    "\n",
    "y_pred_dt = dt_model.predict(X_test)\n",
    "\n",
    "accuracy_dt = accuracy_score(y_test, y_pred_dt)\n",
    "print(f\"Decision Tree (max_depth=4, test to'plamida) aniqligi: {accuracy_dt}\")"
   ]
  },
  {
   "cell_type": "markdown",
   "metadata": {},
   "source": [
    "### d. Random forest"
   ]
  },
  {
   "cell_type": "code",
   "execution_count": 13,
   "metadata": {},
   "outputs": [
    {
     "name": "stdout",
     "output_type": "stream",
     "text": [
      "RandomForestClassifier (baseline, test to'plamida) aniqligi: 0.9289940828402367\n"
     ]
    }
   ],
   "source": [
    "rf_model = RandomForestClassifier(n_estimators=100, max_depth=25, random_state=21)\n",
    "rf_model.fit(X_train, y_train)\n",
    "\n",
    "y_pred_rf = rf_model.predict(X_test)\n",
    "\n",
    "accuracy_rf = accuracy_score(y_test, y_pred_rf)\n",
    "print(f\"RandomForestClassifier (baseline, test to'plamida) aniqligi: {accuracy_rf}\")"
   ]
  },
  {
   "cell_type": "markdown",
   "metadata": {},
   "source": [
    "Answer the question is `random forest`"
   ]
  },
  {
   "cell_type": "markdown",
   "metadata": {},
   "source": [
    "## 3. Crossvalidation"
   ]
  },
  {
   "cell_type": "markdown",
   "metadata": {},
   "source": [
    "We could play with parameters of the model trying to achive a better accuracy on the test dataset, but it is a bad practice. It leads us again to overfitting. Test dataset is only for checking quality of a final model.\n",
    "\n",
    "But there is another way of solving the problem – crossvalidation. It does not use test dataset, but creates one more split of train dataset. Again, there are different ways of doing it, but the common thing is that there is a validation dataset that is used for hyperparameters optimization."
   ]
  },
  {
   "cell_type": "markdown",
   "metadata": {},
   "source": [
    "1. Using `cross_val_score` with `cv=10` calculate the mean accuracy and standard deviation for every model that you used before (logreg with `solver='liblinear'`, SVC, decision tree, random forest)."
   ]
  },
  {
   "cell_type": "markdown",
   "metadata": {},
   "source": [
    "### a. Logreg"
   ]
  },
  {
   "cell_type": "code",
   "execution_count": 14,
   "metadata": {},
   "outputs": [],
   "source": [
    "# StratifiedKFold — bu scikit-learndagi kross-valitatsiya texnikasi bo‘lib, \n",
    "# u ma’lumot to‘plamini K bo‘lakka ajratadi, har bir bo‘lakda sinflar nisbati (distribution) saqlanadi.\n",
    "cv_strategy = StratifiedKFold(n_splits=10, shuffle=True, random_state=21)"
   ]
  },
  {
   "cell_type": "code",
   "execution_count": 15,
   "metadata": {},
   "outputs": [
    {
     "name": "stdout",
     "output_type": "stream",
     "text": [
      "Logistik Regressiya kross-validatsiya aniqliklari (har bir fold uchun):\n",
      "[0.62222222 0.59259259 0.58518519 0.60740741 0.59259259 0.58518519\n",
      " 0.6        0.55555556 0.6641791  0.58955224]\n",
      "Logistik Regressiya o'rtacha aniqligi: 0.5994472084024323\n",
      "Logistik Regressiya aniqligining standart og'ishi: 0.02701436601509257\n"
     ]
    }
   ],
   "source": [
    "logreg_model_cv = LogisticRegression(random_state=21, fit_intercept=False, solver='liblinear')\n",
    "\n",
    "cv_scores_logreg = cross_val_score(logreg_model_cv, X_train, y_train, cv=cv_strategy, scoring='accuracy')\n",
    "\n",
    "mean_accuracy_logreg = np.mean(cv_scores_logreg)\n",
    "std_dev_logreg = np.std(cv_scores_logreg)\n",
    "\n",
    "print(\"Logistik Regressiya kross-validatsiya aniqliklari (har bir fold uchun):\")\n",
    "print(cv_scores_logreg)\n",
    "print(f\"Logistik Regressiya o'rtacha aniqligi: {mean_accuracy_logreg}\")\n",
    "print(f\"Logistik Regressiya aniqligining standart og'ishi: {std_dev_logreg}\")"
   ]
  },
  {
   "cell_type": "markdown",
   "metadata": {},
   "source": [
    "### b. SVM"
   ]
  },
  {
   "cell_type": "code",
   "execution_count": 16,
   "metadata": {},
   "outputs": [
    {
     "name": "stdout",
     "output_type": "stream",
     "text": [
      "SVC kross-validatsiya aniqliklari (har bir fold uchun):\n",
      "[0.61481481 0.53333333 0.58518519 0.60740741 0.53333333 0.61481481\n",
      " 0.54074074 0.53333333 0.55223881 0.58208955]\n",
      "SVC o'rtacha aniqligi: 0.5697291321171918\n",
      "SVC aniqligining standart og'ishi: 0.033161665232855464\n"
     ]
    }
   ],
   "source": [
    "svc_base_estimator_cv = SVC(kernel='linear', probability=True, random_state=21)\n",
    "svc_model_cv = OneVsRestClassifier(svc_base_estimator_cv)\n",
    "\n",
    "cv_scores_svc = cross_val_score(svc_model_cv, X_train, y_train, cv=cv_strategy, scoring='accuracy')\n",
    "\n",
    "mean_accuracy_svc = np.mean(cv_scores_svc)\n",
    "std_dev_svc = np.std(cv_scores_svc)\n",
    "\n",
    "print(\"SVC kross-validatsiya aniqliklari (har bir fold uchun):\")\n",
    "print(cv_scores_svc)\n",
    "print(f\"SVC o'rtacha aniqligi: {mean_accuracy_svc}\")\n",
    "print(f\"SVC aniqligining standart og'ishi: {std_dev_svc}\")"
   ]
  },
  {
   "cell_type": "markdown",
   "metadata": {},
   "source": [
    "### c. Decision tree"
   ]
  },
  {
   "cell_type": "code",
   "execution_count": 17,
   "metadata": {},
   "outputs": [
    {
     "name": "stdout",
     "output_type": "stream",
     "text": [
      "Decision Tree kross-validatsiya aniqliklari (har bir fold uchun):\n",
      "[0.57037037 0.51851852 0.5037037  0.55555556 0.48888889 0.4962963\n",
      " 0.46666667 0.47407407 0.53731343 0.46268657]\n",
      "Decision Tree o'rtacha aniqligi: 0.5074074074074074\n",
      "Decision Tree aniqligining standart og'ishi: 0.03542793866550036\n"
     ]
    }
   ],
   "source": [
    "dt_model_cv = DecisionTreeClassifier(max_depth=4, random_state=21)\n",
    "\n",
    "cv_scores_dt = cross_val_score(dt_model_cv, X_train, y_train, cv=cv_strategy, scoring='accuracy')\n",
    "\n",
    "mean_accuracy_dt = np.mean(cv_scores_dt)\n",
    "std_dev_dt = np.std(cv_scores_dt)\n",
    "\n",
    "print(\"Decision Tree kross-validatsiya aniqliklari (har bir fold uchun):\")\n",
    "print(cv_scores_dt)\n",
    "print(f\"Decision Tree o'rtacha aniqligi: {mean_accuracy_dt}\")\n",
    "print(f\"Decision Tree aniqligining standart og'ishi: {std_dev_dt}\")"
   ]
  },
  {
   "cell_type": "markdown",
   "metadata": {},
   "source": [
    "### d. Random forest"
   ]
  },
  {
   "cell_type": "code",
   "execution_count": 18,
   "metadata": {},
   "outputs": [
    {
     "name": "stdout",
     "output_type": "stream",
     "text": [
      "Random Forest kross-validatsiya aniqliklari (har bir fold uchun):\n",
      "[0.9037037  0.88148148 0.95555556 0.95555556 0.92592593 0.92592593\n",
      " 0.94074074 0.88148148 0.94029851 0.88059701]\n",
      "Random Forest o'rtacha aniqligi: 0.919126589275843\n",
      "Random Forest aniqligining standart og'ishi: 0.028668318001122805\n"
     ]
    }
   ],
   "source": [
    "rf_model_cv = RandomForestClassifier(n_estimators=100, max_depth=25, random_state=21)\n",
    "\n",
    "cv_scores_rf = cross_val_score(rf_model_cv, X_train, y_train, cv=cv_strategy, scoring='accuracy')\n",
    "\n",
    "mean_accuracy_rf = np.mean(cv_scores_rf)\n",
    "std_dev_rf = np.std(cv_scores_rf)\n",
    "\n",
    "print(\"Random Forest kross-validatsiya aniqliklari (har bir fold uchun):\")\n",
    "print(cv_scores_rf)\n",
    "print(f\"Random Forest o'rtacha aniqligi: {mean_accuracy_rf}\")\n",
    "print(f\"Random Forest aniqligining standart og'ishi: {std_dev_rf}\")"
   ]
  },
  {
   "cell_type": "markdown",
   "metadata": {},
   "source": [
    "#### Answer the question is `c`"
   ]
  },
  {
   "cell_type": "markdown",
   "metadata": {},
   "source": [
    "## 4. Optimization"
   ]
  },
  {
   "cell_type": "markdown",
   "metadata": {},
   "source": [
    "1. Choose the best model and play a little bit with the parameters on cross-validation, find a good enough parameter or a combination of the parameters.\n",
    "2. Calculate the accuracy for the final model on the test dataset.\n",
    "3. Draw a plot that displays the top-10 most  important features for that model.\n",
    "4. Save the model using `joblib`.\n",
    "5. Load the model, make predictions for the test dataset and calculate the accuracy."
   ]
  },
  {
   "cell_type": "code",
   "execution_count": 19,
   "metadata": {},
   "outputs": [
    {
     "name": "stdout",
     "output_type": "stream",
     "text": [
      "  n_estimators: 50, max_depth: 10, O'rtacha CV aniqligi: 0.7967440574903261\n",
      "  n_estimators: 100, max_depth: 10, O'rtacha CV aniqligi: 0.8071310116086237\n",
      "  n_estimators: 150, max_depth: 10, O'rtacha CV aniqligi: 0.8041569928137091\n",
      "  n_estimators: 200, max_depth: 10, O'rtacha CV aniqligi: 0.8123051409618574\n",
      "  n_estimators: 250, max_depth: 10, O'rtacha CV aniqligi: 0.8086069651741294\n",
      "  n_estimators: 50, max_depth: 15, O'rtacha CV aniqligi: 0.8887341072415701\n",
      "  n_estimators: 100, max_depth: 15, O'rtacha CV aniqligi: 0.8961359867330015\n",
      "  n_estimators: 150, max_depth: 15, O'rtacha CV aniqligi: 0.891680486456606\n",
      "  n_estimators: 200, max_depth: 15, O'rtacha CV aniqligi: 0.8939137645107795\n",
      "  n_estimators: 250, max_depth: 15, O'rtacha CV aniqligi: 0.8954007739082366\n",
      "  n_estimators: 50, max_depth: 20, O'rtacha CV aniqligi: 0.913200663349917\n",
      "  n_estimators: 100, max_depth: 20, O'rtacha CV aniqligi: 0.9154228855721392\n",
      "  n_estimators: 150, max_depth: 20, O'rtacha CV aniqligi: 0.9124709784411277\n",
      "  n_estimators: 200, max_depth: 20, O'rtacha CV aniqligi: 0.9132117191818685\n",
      "  n_estimators: 250, max_depth: 20, O'rtacha CV aniqligi: 0.9124709784411277\n",
      "  n_estimators: 50, max_depth: 25, O'rtacha CV aniqligi: 0.9154173576561636\n",
      "  n_estimators: 100, max_depth: 25, O'rtacha CV aniqligi: 0.919126589275843\n",
      "  n_estimators: 150, max_depth: 25, O'rtacha CV aniqligi: 0.9183969043670537\n",
      "  n_estimators: 200, max_depth: 25, O'rtacha CV aniqligi: 0.916915422885572\n",
      "  n_estimators: 250, max_depth: 25, O'rtacha CV aniqligi: 0.9169098949695963\n",
      "  n_estimators: 50, max_depth: 30, O'rtacha CV aniqligi: 0.9191210613598673\n",
      "  n_estimators: 100, max_depth: 30, O'rtacha CV aniqligi: 0.9220950801547817\n",
      "  n_estimators: 150, max_depth: 30, O'rtacha CV aniqligi: 0.9213598673300165\n",
      "  n_estimators: 200, max_depth: 30, O'rtacha CV aniqligi: 0.922106135986733\n",
      "  n_estimators: 250, max_depth: 30, O'rtacha CV aniqligi: 0.9213598673300165\n",
      "  n_estimators: 50, max_depth: None, O'rtacha CV aniqligi: 0.9176506357103371\n",
      "  n_estimators: 100, max_depth: None, O'rtacha CV aniqligi: 0.9221006080707573\n",
      "  n_estimators: 150, max_depth: None, O'rtacha CV aniqligi: 0.9213598673300165\n",
      "  n_estimators: 200, max_depth: None, O'rtacha CV aniqligi: 0.9191376451077943\n",
      "  n_estimators: 250, max_depth: None, O'rtacha CV aniqligi: 0.9206191265892759\n",
      "\n",
      "Eng yaxshi RandomForest parametrlari (CV bo'yicha): {'n_estimators': 200, 'max_depth': 30}\n",
      "Eng yaxshi o'rtacha CV aniqligi: 0.922106135986733\n"
     ]
    },
    {
     "data": {
      "text/plain": [
       "RandomForestClassifier(max_depth=30, n_estimators=200, n_jobs=-1,\n",
       "                       random_state=21)"
      ]
     },
     "execution_count": 19,
     "metadata": {},
     "output_type": "execute_result"
    }
   ],
   "source": [
    "n_splits = 10\n",
    "cv_strategy = StratifiedKFold(n_splits=n_splits, shuffle=True, random_state=21)\n",
    "\n",
    "# Optimal parametrlarni topish uchun sinab ko'rish diapazonlari\n",
    "max_depths = [10, 15, 20, 25, 30, None] # Chuqurlik\n",
    "n_estimators_list = [50, 100, 150, 200, 250] # Daraxtlar soni\n",
    "\n",
    "best_rf_accuracy_cv = 0\n",
    "best_rf_params = {}\n",
    "\n",
    "for depth in max_depths:\n",
    "    for n_est in n_estimators_list:\n",
    "        rf_model = RandomForestClassifier(n_estimators=n_est, max_depth=depth, random_state=21, n_jobs=-1) # n_jobs=-1 parallel ishlash uchun\n",
    "        cv_scores = cross_val_score(rf_model, X_train, y_train, cv=cv_strategy, scoring='accuracy')\n",
    "        mean_acc = np.mean(cv_scores)\n",
    "\n",
    "        print(f\"  n_estimators: {n_est}, max_depth: {depth}, O'rtacha CV aniqligi: {mean_acc}\")\n",
    "\n",
    "        if mean_acc > best_rf_accuracy_cv:\n",
    "            best_rf_accuracy_cv = mean_acc\n",
    "            best_rf_params = {'n_estimators': n_est, 'max_depth': depth}\n",
    "\n",
    "print(f\"\\nEng yaxshi RandomForest parametrlari (CV bo'yicha): {best_rf_params}\")\n",
    "print(f\"Eng yaxshi o'rtacha CV aniqligi: {best_rf_accuracy_cv}\")\n",
    "\n",
    "# Optimal parametrlar bilan yakuniy modelni o'qitamiz (butun o'qitish to'plamida)\n",
    "final_rf_model = RandomForestClassifier(n_estimators=best_rf_params['n_estimators'],\n",
    "                                        max_depth=best_rf_params['max_depth'],\n",
    "                                        random_state=21,\n",
    "                                        n_jobs=-1)\n",
    "final_rf_model.fit(X_train, y_train)\n"
   ]
  },
  {
   "cell_type": "code",
   "execution_count": 20,
   "metadata": {},
   "outputs": [
    {
     "name": "stdout",
     "output_type": "stream",
     "text": [
      "Yakuniy RandomForest modelining test to'plamidagi aniqligi: 0.9378698224852071\n"
     ]
    }
   ],
   "source": [
    "y_pred_final_rf = final_rf_model.predict(X_test)\n",
    "accuracy_final_rf_test = accuracy_score(y_test, y_pred_final_rf)\n",
    "print(f\"Yakuniy RandomForest modelining test to'plamidagi aniqligi: {accuracy_final_rf_test}\")"
   ]
  },
  {
   "cell_type": "code",
   "execution_count": 21,
   "metadata": {},
   "outputs": [
    {
     "data": {
      "image/png": "[encoded data removed]",
      "text/plain": [
       "<Figure size 1000x600 with 1 Axes>"
      ]
     },
     "metadata": {},
     "output_type": "display_data"
    }
   ],
   "source": [
    "def plot_feature_importance_generic(feature_importances, feature_names, top_n=10, title=\"Feature Importance\"):\n",
    "    \"\"\"\n",
    "    Modelning feature_importances_ atributi asosida xususiyat muhimligini\n",
    "    gorizontal ustunli grafikda chizadi (Decision Tree va Random Forest uchun mos).\n",
    "\n",
    "    Args:\n",
    "        feature_importances (numpy.ndarray): Modelning feature_importances_ massivi.\n",
    "        feature_names (list): Xususiyat nomlari ro'yxati.\n",
    "        top_n (int): Ko'rsatiladigan eng muhim xususiyatlarning soni.\n",
    "        title (str): Grafik sarlavhasi.\n",
    "    \"\"\"\n",
    "    feature_importance_df = pd.DataFrame({\n",
    "        'Feature': feature_names,\n",
    "        'Importance': feature_importances\n",
    "    })\n",
    "\n",
    "    feature_importance_df = feature_importance_df.sort_values(by='Importance', ascending=False).head(top_n)\n",
    "\n",
    "    plt.figure(figsize=(10, 6))\n",
    "    sns.barplot(x='Importance', y='Feature', data=feature_importance_df, hue='Feature', legend=False, palette='viridis')\n",
    "    plt.title(title)\n",
    "    plt.xlabel('Feature Importance')\n",
    "    plt.ylabel('Feature')\n",
    "    plt.grid(axis='x', linestyle='--', alpha=0.7)\n",
    "    plt.tight_layout()\n",
    "    plt.show()\n",
    "\n",
    "feature_names = X.columns.tolist()\n",
    "rf_feature_importances = final_rf_model.feature_importances_\n",
    "\n",
    "plot_feature_importance_generic(\n",
    "    rf_feature_importances,\n",
    "    feature_names,\n",
    "    top_n=10,\n",
    "    title='Top 10 Most Important Features for Optimized RandomForestClassifier'\n",
    ")"
   ]
  },
  {
   "cell_type": "code",
   "execution_count": 22,
   "metadata": {},
   "outputs": [
    {
     "data": {
      "text/plain": [
       "['optimized_random_forest_model.joblib']"
      ]
     },
     "execution_count": 22,
     "metadata": {},
     "output_type": "execute_result"
    }
   ],
   "source": [
    "model_filename = 'optimized_random_forest_model.joblib'\n",
    "joblib.dump(final_rf_model, model_filename) # save"
   ]
  },
  {
   "cell_type": "code",
   "execution_count": 23,
   "metadata": {},
   "outputs": [
    {
     "name": "stdout",
     "output_type": "stream",
     "text": [
      "Yuklangan RandomForest modelining test to'plamidagi aniqligi: 0.9378698224852071\n",
      "\n",
      "Aniqliklar mos kelmoqda.\n"
     ]
    }
   ],
   "source": [
    "# Modelni yuklaymiz\n",
    "loaded_rf_model = joblib.load(model_filename)\n",
    "\n",
    "y_pred_loaded_rf = loaded_rf_model.predict(X_test)\n",
    "\n",
    "accuracy_loaded_rf_test = accuracy_score(y_test, y_pred_loaded_rf)\n",
    "\n",
    "print(f\"Yuklangan RandomForest modelining test to'plamidagi aniqligi: {accuracy_loaded_rf_test}\")\n",
    "\n",
    "if accuracy_final_rf_test == accuracy_loaded_rf_test:\n",
    "    print(\"\\nAniqliklar mos kelmoqda.\")\n",
    "else:\n",
    "    print(\"\\nDIQQAT: Saqlangan va yuklangan model aniqliklari farq qilmoqda.\")"
   ]
  }
 ],
 "metadata": {
  "kernelspec": {
   "display_name": "Python 3",
   "language": "python",
   "name": "python3"
  },
  "language_info": {
   "codemirror_mode": {
    "name": "ipython",
    "version": 3
   },
   "file_extension": ".py",
   "mimetype": "text/x-python",
   "name": "python",
   "nbconvert_exporter": "python",
   "pygments_lexer": "ipython3",
   "version": "3.8.10"
  }
 },
 "nbformat": 4,
 "nbformat_minor": 4
}
