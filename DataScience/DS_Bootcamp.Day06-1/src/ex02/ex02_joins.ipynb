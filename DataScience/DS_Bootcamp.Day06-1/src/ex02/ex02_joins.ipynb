{
 "cells": [
  {
   "cell_type": "markdown",
   "id": "340f9751",
   "metadata": {},
   "source": [
    "## Join"
   ]
  },
  {
   "cell_type": "code",
   "execution_count": 141,
   "id": "11d9d2bf",
   "metadata": {},
   "outputs": [],
   "source": [
    "import pandas as pd\n",
    "import sqlite3"
   ]
  },
  {
   "cell_type": "markdown",
   "id": "50ad6dbf",
   "metadata": {},
   "source": [
    "### Connection to sqlite3"
   ]
  },
  {
   "cell_type": "code",
   "execution_count": 142,
   "id": "93aa49b0",
   "metadata": {},
   "outputs": [],
   "source": [
    "conn = sqlite3.connect(\"../ex00/data/checking-logs.sqlite\")"
   ]
  },
  {
   "cell_type": "markdown",
   "id": "1252e02a",
   "metadata": {},
   "source": [
    "### Created datamart"
   ]
  },
  {
   "cell_type": "code",
   "execution_count": null,
   "id": "432708e5",
   "metadata": {},
   "outputs": [
    {
     "name": "stdout",
     "output_type": "stream",
     "text": [
      "<class 'pandas.core.frame.DataFrame'>\n",
      "RangeIndex: 140 entries, 0 to 139\n",
      "Data columns (total 4 columns):\n",
      " #   Column           Non-Null Count  Dtype         \n",
      "---  ------           --------------  -----         \n",
      " 0   uid              140 non-null    object        \n",
      " 1   labname          140 non-null    object        \n",
      " 2   first_commit_ts  140 non-null    datetime64[ns]\n",
      " 3   first_view_ts    59 non-null     datetime64[ns]\n",
      "dtypes: datetime64[ns](2), object(2)\n",
      "memory usage: 4.5+ KB\n"
     ]
    }
   ],
   "source": [
    "query = \"\"\"\n",
    "SELECT\n",
    "    c.uid,\n",
    "    c.labname,\n",
    "    MIN(c.timestamp) AS first_commit_ts,\n",
    "    MIN(p.datetime) AS first_vie+w_ts\n",
    "FROM checker c\n",
    "LEFT JOIN pageviews p\n",
    "    ON c.uid = p.uid\n",
    "WHERE c.status = 'ready'\n",
    "  AND c.numTrials = 1\n",
    "  AND c.labname IN ('laba04', 'laba04s', 'laba05', 'laba06', 'laba06s', 'project1')\n",
    "  AND c.uid LIKE 'user_%'\n",
    "GROUP BY c.uid, c.labname\n",
    "\"\"\"\n",
    "datamart = pd.io.sql.read_sql(query, conn, parse_dates=[\"first_commit_ts\", \"first_view_ts\"])\n",
    "datamart.info()"
   ]
  },
  {
   "cell_type": "markdown",
   "id": "3c7a95dd",
   "metadata": {},
   "source": [
    "### Test and control guruhga ajratish"
   ]
  },
  {
   "cell_type": "code",
   "execution_count": 144,
   "id": "4e67d92c",
   "metadata": {},
   "outputs": [
    {
     "data": {
      "text/html": [
       "<div>\n",
       "<style scoped>\n",
       "    .dataframe tbody tr th:only-of-type {\n",
       "        vertical-align: middle;\n",
       "    }\n",
       "\n",
       "    .dataframe tbody tr th {\n",
       "        vertical-align: top;\n",
       "    }\n",
       "\n",
       "    .dataframe thead th {\n",
       "        text-align: right;\n",
       "    }\n",
       "</style>\n",
       "<table border=\"1\" class=\"dataframe\">\n",
       "  <thead>\n",
       "    <tr style=\"text-align: right;\">\n",
       "      <th></th>\n",
       "      <th>uid</th>\n",
       "      <th>labname</th>\n",
       "      <th>first_commit_ts</th>\n",
       "      <th>first_view_ts</th>\n",
       "    </tr>\n",
       "  </thead>\n",
       "  <tbody>\n",
       "    <tr>\n",
       "      <th>0</th>\n",
       "      <td>user_1</td>\n",
       "      <td>laba04</td>\n",
       "      <td>2020-04-26 17:06:18.462708</td>\n",
       "      <td>2020-04-26 21:53:59.624136</td>\n",
       "    </tr>\n",
       "    <tr>\n",
       "      <th>1</th>\n",
       "      <td>user_1</td>\n",
       "      <td>laba04s</td>\n",
       "      <td>2020-04-26 17:12:11.843671</td>\n",
       "      <td>2020-04-26 21:53:59.624136</td>\n",
       "    </tr>\n",
       "    <tr>\n",
       "      <th>2</th>\n",
       "      <td>user_1</td>\n",
       "      <td>laba05</td>\n",
       "      <td>2020-05-02 19:15:18.540185</td>\n",
       "      <td>2020-04-26 21:53:59.624136</td>\n",
       "    </tr>\n",
       "    <tr>\n",
       "      <th>3</th>\n",
       "      <td>user_1</td>\n",
       "      <td>laba06</td>\n",
       "      <td>2020-05-17 16:26:35.268534</td>\n",
       "      <td>2020-04-26 21:53:59.624136</td>\n",
       "    </tr>\n",
       "    <tr>\n",
       "      <th>4</th>\n",
       "      <td>user_1</td>\n",
       "      <td>laba06s</td>\n",
       "      <td>2020-05-20 12:23:37.289724</td>\n",
       "      <td>2020-04-26 21:53:59.624136</td>\n",
       "    </tr>\n",
       "    <tr>\n",
       "      <th>5</th>\n",
       "      <td>user_1</td>\n",
       "      <td>project1</td>\n",
       "      <td>2020-05-14 20:56:08.898880</td>\n",
       "      <td>2020-04-26 21:53:59.624136</td>\n",
       "    </tr>\n",
       "    <tr>\n",
       "      <th>6</th>\n",
       "      <td>user_10</td>\n",
       "      <td>laba04</td>\n",
       "      <td>2020-04-25 08:24:52.696624</td>\n",
       "      <td>2020-04-18 12:19:50.182714</td>\n",
       "    </tr>\n",
       "    <tr>\n",
       "      <th>7</th>\n",
       "      <td>user_10</td>\n",
       "      <td>laba04s</td>\n",
       "      <td>2020-04-25 08:37:54.604222</td>\n",
       "      <td>2020-04-18 12:19:50.182714</td>\n",
       "    </tr>\n",
       "    <tr>\n",
       "      <th>8</th>\n",
       "      <td>user_10</td>\n",
       "      <td>laba05</td>\n",
       "      <td>2020-05-01 19:27:26.063245</td>\n",
       "      <td>2020-04-18 12:19:50.182714</td>\n",
       "    </tr>\n",
       "    <tr>\n",
       "      <th>9</th>\n",
       "      <td>user_10</td>\n",
       "      <td>laba06</td>\n",
       "      <td>2020-05-19 11:39:28.885637</td>\n",
       "      <td>2020-04-18 12:19:50.182714</td>\n",
       "    </tr>\n",
       "  </tbody>\n",
       "</table>\n",
       "</div>"
      ],
      "text/plain": [
       "       uid   labname            first_commit_ts              first_view_ts\n",
       "0   user_1    laba04 2020-04-26 17:06:18.462708 2020-04-26 21:53:59.624136\n",
       "1   user_1   laba04s 2020-04-26 17:12:11.843671 2020-04-26 21:53:59.624136\n",
       "2   user_1    laba05 2020-05-02 19:15:18.540185 2020-04-26 21:53:59.624136\n",
       "3   user_1    laba06 2020-05-17 16:26:35.268534 2020-04-26 21:53:59.624136\n",
       "4   user_1   laba06s 2020-05-20 12:23:37.289724 2020-04-26 21:53:59.624136\n",
       "5   user_1  project1 2020-05-14 20:56:08.898880 2020-04-26 21:53:59.624136\n",
       "6  user_10    laba04 2020-04-25 08:24:52.696624 2020-04-18 12:19:50.182714\n",
       "7  user_10   laba04s 2020-04-25 08:37:54.604222 2020-04-18 12:19:50.182714\n",
       "8  user_10    laba05 2020-05-01 19:27:26.063245 2020-04-18 12:19:50.182714\n",
       "9  user_10    laba06 2020-05-19 11:39:28.885637 2020-04-18 12:19:50.182714"
      ]
     },
     "execution_count": 144,
     "metadata": {},
     "output_type": "execute_result"
    }
   ],
   "source": [
    "test = datamart[datamart[\"first_view_ts\"].notna()].copy()\n",
    "test.head(10)"
   ]
  },
  {
   "cell_type": "code",
   "execution_count": 145,
   "id": "9c03f290",
   "metadata": {},
   "outputs": [
    {
     "data": {
      "text/html": [
       "<div>\n",
       "<style scoped>\n",
       "    .dataframe tbody tr th:only-of-type {\n",
       "        vertical-align: middle;\n",
       "    }\n",
       "\n",
       "    .dataframe tbody tr th {\n",
       "        vertical-align: top;\n",
       "    }\n",
       "\n",
       "    .dataframe thead th {\n",
       "        text-align: right;\n",
       "    }\n",
       "</style>\n",
       "<table border=\"1\" class=\"dataframe\">\n",
       "  <thead>\n",
       "    <tr style=\"text-align: right;\">\n",
       "      <th></th>\n",
       "      <th>uid</th>\n",
       "      <th>labname</th>\n",
       "      <th>first_commit_ts</th>\n",
       "      <th>first_view_ts</th>\n",
       "    </tr>\n",
       "  </thead>\n",
       "  <tbody>\n",
       "    <tr>\n",
       "      <th>12</th>\n",
       "      <td>user_11</td>\n",
       "      <td>laba05</td>\n",
       "      <td>2020-05-03 21:06:55.970293</td>\n",
       "      <td>NaT</td>\n",
       "    </tr>\n",
       "    <tr>\n",
       "      <th>13</th>\n",
       "      <td>user_11</td>\n",
       "      <td>project1</td>\n",
       "      <td>2020-05-03 23:45:33.673409</td>\n",
       "      <td>NaT</td>\n",
       "    </tr>\n",
       "    <tr>\n",
       "      <th>14</th>\n",
       "      <td>user_12</td>\n",
       "      <td>laba04</td>\n",
       "      <td>2020-04-18 17:07:51.767358</td>\n",
       "      <td>NaT</td>\n",
       "    </tr>\n",
       "    <tr>\n",
       "      <th>15</th>\n",
       "      <td>user_12</td>\n",
       "      <td>laba04s</td>\n",
       "      <td>2020-04-26 15:42:38.070593</td>\n",
       "      <td>NaT</td>\n",
       "    </tr>\n",
       "    <tr>\n",
       "      <th>16</th>\n",
       "      <td>user_12</td>\n",
       "      <td>laba05</td>\n",
       "      <td>2020-05-03 08:39:25.174316</td>\n",
       "      <td>NaT</td>\n",
       "    </tr>\n",
       "    <tr>\n",
       "      <th>...</th>\n",
       "      <td>...</td>\n",
       "      <td>...</td>\n",
       "      <td>...</td>\n",
       "      <td>...</td>\n",
       "    </tr>\n",
       "    <tr>\n",
       "      <th>135</th>\n",
       "      <td>user_8</td>\n",
       "      <td>laba04s</td>\n",
       "      <td>2020-04-19 10:22:35.761944</td>\n",
       "      <td>NaT</td>\n",
       "    </tr>\n",
       "    <tr>\n",
       "      <th>136</th>\n",
       "      <td>user_8</td>\n",
       "      <td>laba05</td>\n",
       "      <td>2020-05-02 13:28:07.705193</td>\n",
       "      <td>NaT</td>\n",
       "    </tr>\n",
       "    <tr>\n",
       "      <th>137</th>\n",
       "      <td>user_8</td>\n",
       "      <td>laba06</td>\n",
       "      <td>2020-05-16 17:56:15.755553</td>\n",
       "      <td>NaT</td>\n",
       "    </tr>\n",
       "    <tr>\n",
       "      <th>138</th>\n",
       "      <td>user_8</td>\n",
       "      <td>laba06s</td>\n",
       "      <td>2020-05-16 20:01:07.900727</td>\n",
       "      <td>NaT</td>\n",
       "    </tr>\n",
       "    <tr>\n",
       "      <th>139</th>\n",
       "      <td>user_8</td>\n",
       "      <td>project1</td>\n",
       "      <td>2020-05-14 15:42:04.002981</td>\n",
       "      <td>NaT</td>\n",
       "    </tr>\n",
       "  </tbody>\n",
       "</table>\n",
       "<p>81 rows × 4 columns</p>\n",
       "</div>"
      ],
      "text/plain": [
       "         uid   labname            first_commit_ts first_view_ts\n",
       "12   user_11    laba05 2020-05-03 21:06:55.970293           NaT\n",
       "13   user_11  project1 2020-05-03 23:45:33.673409           NaT\n",
       "14   user_12    laba04 2020-04-18 17:07:51.767358           NaT\n",
       "15   user_12   laba04s 2020-04-26 15:42:38.070593           NaT\n",
       "16   user_12    laba05 2020-05-03 08:39:25.174316           NaT\n",
       "..       ...       ...                        ...           ...\n",
       "135   user_8   laba04s 2020-04-19 10:22:35.761944           NaT\n",
       "136   user_8    laba05 2020-05-02 13:28:07.705193           NaT\n",
       "137   user_8    laba06 2020-05-16 17:56:15.755553           NaT\n",
       "138   user_8   laba06s 2020-05-16 20:01:07.900727           NaT\n",
       "139   user_8  project1 2020-05-14 15:42:04.002981           NaT\n",
       "\n",
       "[81 rows x 4 columns]"
      ]
     },
     "execution_count": 145,
     "metadata": {},
     "output_type": "execute_result"
    }
   ],
   "source": [
    "control = datamart[datamart[\"first_view_ts\"].isna()].copy()\n",
    "control"
   ]
  },
  {
   "cell_type": "markdown",
   "id": "84fbbcd2",
   "metadata": {},
   "source": [
    "### controldagi bo‘sh first_view_ts qiymatlarini test dagi o‘rtacha vaqt bilan to‘ldirish"
   ]
  },
  {
   "cell_type": "code",
   "execution_count": 146,
   "id": "6ef81c1c",
   "metadata": {},
   "outputs": [
    {
     "data": {
      "text/plain": [
       "Timestamp('2020-04-27 00:40:05.761783552')"
      ]
     },
     "execution_count": 146,
     "metadata": {},
     "output_type": "execute_result"
    }
   ],
   "source": [
    "avg_view_ts = test[\"first_view_ts\"].mean()\n",
    "avg_view_ts"
   ]
  },
  {
   "cell_type": "code",
   "execution_count": 147,
   "id": "a4d03412",
   "metadata": {},
   "outputs": [
    {
     "data": {
      "text/html": [
       "<div>\n",
       "<style scoped>\n",
       "    .dataframe tbody tr th:only-of-type {\n",
       "        vertical-align: middle;\n",
       "    }\n",
       "\n",
       "    .dataframe tbody tr th {\n",
       "        vertical-align: top;\n",
       "    }\n",
       "\n",
       "    .dataframe thead th {\n",
       "        text-align: right;\n",
       "    }\n",
       "</style>\n",
       "<table border=\"1\" class=\"dataframe\">\n",
       "  <thead>\n",
       "    <tr style=\"text-align: right;\">\n",
       "      <th></th>\n",
       "      <th>uid</th>\n",
       "      <th>labname</th>\n",
       "      <th>first_commit_ts</th>\n",
       "      <th>first_view_ts</th>\n",
       "    </tr>\n",
       "  </thead>\n",
       "  <tbody>\n",
       "    <tr>\n",
       "      <th>12</th>\n",
       "      <td>user_11</td>\n",
       "      <td>laba05</td>\n",
       "      <td>2020-05-03 21:06:55.970293</td>\n",
       "      <td>2020-04-27 00:40:05.761783552</td>\n",
       "    </tr>\n",
       "    <tr>\n",
       "      <th>13</th>\n",
       "      <td>user_11</td>\n",
       "      <td>project1</td>\n",
       "      <td>2020-05-03 23:45:33.673409</td>\n",
       "      <td>2020-04-27 00:40:05.761783552</td>\n",
       "    </tr>\n",
       "    <tr>\n",
       "      <th>14</th>\n",
       "      <td>user_12</td>\n",
       "      <td>laba04</td>\n",
       "      <td>2020-04-18 17:07:51.767358</td>\n",
       "      <td>2020-04-27 00:40:05.761783552</td>\n",
       "    </tr>\n",
       "    <tr>\n",
       "      <th>15</th>\n",
       "      <td>user_12</td>\n",
       "      <td>laba04s</td>\n",
       "      <td>2020-04-26 15:42:38.070593</td>\n",
       "      <td>2020-04-27 00:40:05.761783552</td>\n",
       "    </tr>\n",
       "    <tr>\n",
       "      <th>16</th>\n",
       "      <td>user_12</td>\n",
       "      <td>laba05</td>\n",
       "      <td>2020-05-03 08:39:25.174316</td>\n",
       "      <td>2020-04-27 00:40:05.761783552</td>\n",
       "    </tr>\n",
       "    <tr>\n",
       "      <th>...</th>\n",
       "      <td>...</td>\n",
       "      <td>...</td>\n",
       "      <td>...</td>\n",
       "      <td>...</td>\n",
       "    </tr>\n",
       "    <tr>\n",
       "      <th>135</th>\n",
       "      <td>user_8</td>\n",
       "      <td>laba04s</td>\n",
       "      <td>2020-04-19 10:22:35.761944</td>\n",
       "      <td>2020-04-27 00:40:05.761783552</td>\n",
       "    </tr>\n",
       "    <tr>\n",
       "      <th>136</th>\n",
       "      <td>user_8</td>\n",
       "      <td>laba05</td>\n",
       "      <td>2020-05-02 13:28:07.705193</td>\n",
       "      <td>2020-04-27 00:40:05.761783552</td>\n",
       "    </tr>\n",
       "    <tr>\n",
       "      <th>137</th>\n",
       "      <td>user_8</td>\n",
       "      <td>laba06</td>\n",
       "      <td>2020-05-16 17:56:15.755553</td>\n",
       "      <td>2020-04-27 00:40:05.761783552</td>\n",
       "    </tr>\n",
       "    <tr>\n",
       "      <th>138</th>\n",
       "      <td>user_8</td>\n",
       "      <td>laba06s</td>\n",
       "      <td>2020-05-16 20:01:07.900727</td>\n",
       "      <td>2020-04-27 00:40:05.761783552</td>\n",
       "    </tr>\n",
       "    <tr>\n",
       "      <th>139</th>\n",
       "      <td>user_8</td>\n",
       "      <td>project1</td>\n",
       "      <td>2020-05-14 15:42:04.002981</td>\n",
       "      <td>2020-04-27 00:40:05.761783552</td>\n",
       "    </tr>\n",
       "  </tbody>\n",
       "</table>\n",
       "<p>81 rows × 4 columns</p>\n",
       "</div>"
      ],
      "text/plain": [
       "         uid   labname            first_commit_ts  \\\n",
       "12   user_11    laba05 2020-05-03 21:06:55.970293   \n",
       "13   user_11  project1 2020-05-03 23:45:33.673409   \n",
       "14   user_12    laba04 2020-04-18 17:07:51.767358   \n",
       "15   user_12   laba04s 2020-04-26 15:42:38.070593   \n",
       "16   user_12    laba05 2020-05-03 08:39:25.174316   \n",
       "..       ...       ...                        ...   \n",
       "135   user_8   laba04s 2020-04-19 10:22:35.761944   \n",
       "136   user_8    laba05 2020-05-02 13:28:07.705193   \n",
       "137   user_8    laba06 2020-05-16 17:56:15.755553   \n",
       "138   user_8   laba06s 2020-05-16 20:01:07.900727   \n",
       "139   user_8  project1 2020-05-14 15:42:04.002981   \n",
       "\n",
       "                    first_view_ts  \n",
       "12  2020-04-27 00:40:05.761783552  \n",
       "13  2020-04-27 00:40:05.761783552  \n",
       "14  2020-04-27 00:40:05.761783552  \n",
       "15  2020-04-27 00:40:05.761783552  \n",
       "16  2020-04-27 00:40:05.761783552  \n",
       "..                            ...  \n",
       "135 2020-04-27 00:40:05.761783552  \n",
       "136 2020-04-27 00:40:05.761783552  \n",
       "137 2020-04-27 00:40:05.761783552  \n",
       "138 2020-04-27 00:40:05.761783552  \n",
       "139 2020-04-27 00:40:05.761783552  \n",
       "\n",
       "[81 rows x 4 columns]"
      ]
     },
     "execution_count": 147,
     "metadata": {},
     "output_type": "execute_result"
    }
   ],
   "source": [
    "control[\"first_view_ts\"] = avg_view_ts\n",
    "control"
   ]
  },
  {
   "cell_type": "markdown",
   "id": "3604aad4",
   "metadata": {},
   "source": [
    "### Written to sql"
   ]
  },
  {
   "cell_type": "code",
   "execution_count": 148,
   "id": "04b9d99a",
   "metadata": {},
   "outputs": [
    {
     "data": {
      "text/plain": [
       "81"
      ]
     },
     "execution_count": 148,
     "metadata": {},
     "output_type": "execute_result"
    }
   ],
   "source": [
    "test.to_sql(\"test\", conn, if_exists=\"replace\", index=False)\n",
    "control.to_sql(\"control\", conn, if_exists=\"replace\", index=False)"
   ]
  },
  {
   "cell_type": "markdown",
   "id": "179aa0e3",
   "metadata": {},
   "source": [
    "### Connection closed"
   ]
  },
  {
   "cell_type": "code",
   "execution_count": 149,
   "id": "d3302019",
   "metadata": {},
   "outputs": [],
   "source": [
    "conn.close()"
   ]
  }
 ],
 "metadata": {
  "kernelspec": {
   "display_name": "Python 3",
   "language": "python",
   "name": "python3"
  },
  "language_info": {
   "codemirror_mode": {
    "name": "ipython",
    "version": 3
   },
   "file_extension": ".py",
   "mimetype": "text/x-python",
   "name": "python",
   "nbconvert_exporter": "python",
   "pygments_lexer": "ipython3",
   "version": "3.13.3"
  }
 },
 "nbformat": 4,
 "nbformat_minor": 5
}
