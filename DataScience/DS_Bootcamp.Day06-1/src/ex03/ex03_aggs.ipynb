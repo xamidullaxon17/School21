{
 "cells": [
  {
   "cell_type": "markdown",
   "id": "1297e2f6",
   "metadata": {},
   "source": [
    "## Aggregations"
   ]
  },
  {
   "cell_type": "code",
   "execution_count": 14,
   "id": "a0d0d295",
   "metadata": {},
   "outputs": [],
   "source": [
    "import sqlite3\n",
    "import pandas as pd"
   ]
  },
  {
   "cell_type": "markdown",
   "id": "c0731fc8",
   "metadata": {},
   "source": [
    "### Connection to sqlite3"
   ]
  },
  {
   "cell_type": "code",
   "execution_count": 15,
   "id": "ae38edf2",
   "metadata": {},
   "outputs": [],
   "source": [
    "conn = sqlite3.connect(\"../ex00/data/checking-logs.sqlite\")"
   ]
  },
  {
   "cell_type": "markdown",
   "id": "d9ca9ac3",
   "metadata": {},
   "source": [
    "### Get the schema"
   ]
  },
  {
   "cell_type": "code",
   "execution_count": 16,
   "id": "04c9bfba",
   "metadata": {},
   "outputs": [
    {
     "data": {
      "text/html": [
       "<div>\n",
       "<style scoped>\n",
       "    .dataframe tbody tr th:only-of-type {\n",
       "        vertical-align: middle;\n",
       "    }\n",
       "\n",
       "    .dataframe tbody tr th {\n",
       "        vertical-align: top;\n",
       "    }\n",
       "\n",
       "    .dataframe thead th {\n",
       "        text-align: right;\n",
       "    }\n",
       "</style>\n",
       "<table border=\"1\" class=\"dataframe\">\n",
       "  <thead>\n",
       "    <tr style=\"text-align: right;\">\n",
       "      <th></th>\n",
       "      <th>cid</th>\n",
       "      <th>name</th>\n",
       "      <th>type</th>\n",
       "      <th>notnull</th>\n",
       "      <th>dflt_value</th>\n",
       "      <th>pk</th>\n",
       "    </tr>\n",
       "  </thead>\n",
       "  <tbody>\n",
       "    <tr>\n",
       "      <th>0</th>\n",
       "      <td>0</td>\n",
       "      <td>uid</td>\n",
       "      <td>TEXT</td>\n",
       "      <td>0</td>\n",
       "      <td>None</td>\n",
       "      <td>0</td>\n",
       "    </tr>\n",
       "    <tr>\n",
       "      <th>1</th>\n",
       "      <td>1</td>\n",
       "      <td>labname</td>\n",
       "      <td>TEXT</td>\n",
       "      <td>0</td>\n",
       "      <td>None</td>\n",
       "      <td>0</td>\n",
       "    </tr>\n",
       "    <tr>\n",
       "      <th>2</th>\n",
       "      <td>2</td>\n",
       "      <td>first_commit_ts</td>\n",
       "      <td>TIMESTAMP</td>\n",
       "      <td>0</td>\n",
       "      <td>None</td>\n",
       "      <td>0</td>\n",
       "    </tr>\n",
       "    <tr>\n",
       "      <th>3</th>\n",
       "      <td>3</td>\n",
       "      <td>first_view_ts</td>\n",
       "      <td>TIMESTAMP</td>\n",
       "      <td>0</td>\n",
       "      <td>None</td>\n",
       "      <td>0</td>\n",
       "    </tr>\n",
       "  </tbody>\n",
       "</table>\n",
       "</div>"
      ],
      "text/plain": [
       "   cid             name       type  notnull dflt_value  pk\n",
       "0    0              uid       TEXT        0       None   0\n",
       "1    1          labname       TEXT        0       None   0\n",
       "2    2  first_commit_ts  TIMESTAMP        0       None   0\n",
       "3    3    first_view_ts  TIMESTAMP        0       None   0"
      ]
     },
     "execution_count": 16,
     "metadata": {},
     "output_type": "execute_result"
    }
   ],
   "source": [
    "schema_test = pd.read_sql(\"PRAGMA table_info(test);\", conn)\n",
    "schema_test"
   ]
  },
  {
   "cell_type": "markdown",
   "id": "de7e8fd0",
   "metadata": {},
   "source": [
    "### First 10 rows of the table"
   ]
  },
  {
   "cell_type": "code",
   "execution_count": 17,
   "id": "21d16010",
   "metadata": {},
   "outputs": [
    {
     "data": {
      "text/html": [
       "<div>\n",
       "<style scoped>\n",
       "    .dataframe tbody tr th:only-of-type {\n",
       "        vertical-align: middle;\n",
       "    }\n",
       "\n",
       "    .dataframe tbody tr th {\n",
       "        vertical-align: top;\n",
       "    }\n",
       "\n",
       "    .dataframe thead th {\n",
       "        text-align: right;\n",
       "    }\n",
       "</style>\n",
       "<table border=\"1\" class=\"dataframe\">\n",
       "  <thead>\n",
       "    <tr style=\"text-align: right;\">\n",
       "      <th></th>\n",
       "      <th>uid</th>\n",
       "      <th>labname</th>\n",
       "      <th>first_commit_ts</th>\n",
       "      <th>first_view_ts</th>\n",
       "    </tr>\n",
       "  </thead>\n",
       "  <tbody>\n",
       "    <tr>\n",
       "      <th>0</th>\n",
       "      <td>user_1</td>\n",
       "      <td>laba04</td>\n",
       "      <td>2020-04-26 17:06:18.462708</td>\n",
       "      <td>2020-04-26 21:53:59.624136</td>\n",
       "    </tr>\n",
       "    <tr>\n",
       "      <th>1</th>\n",
       "      <td>user_1</td>\n",
       "      <td>laba04s</td>\n",
       "      <td>2020-04-26 17:12:11.843671</td>\n",
       "      <td>2020-04-26 21:53:59.624136</td>\n",
       "    </tr>\n",
       "    <tr>\n",
       "      <th>2</th>\n",
       "      <td>user_1</td>\n",
       "      <td>laba05</td>\n",
       "      <td>2020-05-02 19:15:18.540185</td>\n",
       "      <td>2020-04-26 21:53:59.624136</td>\n",
       "    </tr>\n",
       "    <tr>\n",
       "      <th>3</th>\n",
       "      <td>user_1</td>\n",
       "      <td>laba06</td>\n",
       "      <td>2020-05-17 16:26:35.268534</td>\n",
       "      <td>2020-04-26 21:53:59.624136</td>\n",
       "    </tr>\n",
       "    <tr>\n",
       "      <th>4</th>\n",
       "      <td>user_1</td>\n",
       "      <td>laba06s</td>\n",
       "      <td>2020-05-20 12:23:37.289724</td>\n",
       "      <td>2020-04-26 21:53:59.624136</td>\n",
       "    </tr>\n",
       "    <tr>\n",
       "      <th>5</th>\n",
       "      <td>user_1</td>\n",
       "      <td>project1</td>\n",
       "      <td>2020-05-14 20:56:08.898880</td>\n",
       "      <td>2020-04-26 21:53:59.624136</td>\n",
       "    </tr>\n",
       "    <tr>\n",
       "      <th>6</th>\n",
       "      <td>user_10</td>\n",
       "      <td>laba04</td>\n",
       "      <td>2020-04-25 08:24:52.696624</td>\n",
       "      <td>2020-04-18 12:19:50.182714</td>\n",
       "    </tr>\n",
       "    <tr>\n",
       "      <th>7</th>\n",
       "      <td>user_10</td>\n",
       "      <td>laba04s</td>\n",
       "      <td>2020-04-25 08:37:54.604222</td>\n",
       "      <td>2020-04-18 12:19:50.182714</td>\n",
       "    </tr>\n",
       "    <tr>\n",
       "      <th>8</th>\n",
       "      <td>user_10</td>\n",
       "      <td>laba05</td>\n",
       "      <td>2020-05-01 19:27:26.063245</td>\n",
       "      <td>2020-04-18 12:19:50.182714</td>\n",
       "    </tr>\n",
       "    <tr>\n",
       "      <th>9</th>\n",
       "      <td>user_10</td>\n",
       "      <td>laba06</td>\n",
       "      <td>2020-05-19 11:39:28.885637</td>\n",
       "      <td>2020-04-18 12:19:50.182714</td>\n",
       "    </tr>\n",
       "  </tbody>\n",
       "</table>\n",
       "</div>"
      ],
      "text/plain": [
       "       uid   labname             first_commit_ts               first_view_ts\n",
       "0   user_1    laba04  2020-04-26 17:06:18.462708  2020-04-26 21:53:59.624136\n",
       "1   user_1   laba04s  2020-04-26 17:12:11.843671  2020-04-26 21:53:59.624136\n",
       "2   user_1    laba05  2020-05-02 19:15:18.540185  2020-04-26 21:53:59.624136\n",
       "3   user_1    laba06  2020-05-17 16:26:35.268534  2020-04-26 21:53:59.624136\n",
       "4   user_1   laba06s  2020-05-20 12:23:37.289724  2020-04-26 21:53:59.624136\n",
       "5   user_1  project1  2020-05-14 20:56:08.898880  2020-04-26 21:53:59.624136\n",
       "6  user_10    laba04  2020-04-25 08:24:52.696624  2020-04-18 12:19:50.182714\n",
       "7  user_10   laba04s  2020-04-25 08:37:54.604222  2020-04-18 12:19:50.182714\n",
       "8  user_10    laba05  2020-05-01 19:27:26.063245  2020-04-18 12:19:50.182714\n",
       "9  user_10    laba06  2020-05-19 11:39:28.885637  2020-04-18 12:19:50.182714"
      ]
     },
     "execution_count": 17,
     "metadata": {},
     "output_type": "execute_result"
    }
   ],
   "source": [
    "df_test = pd.read_sql(\"SELECT * FROM test LIMIT 10;\", conn)\n",
    "df_test"
   ]
  },
  {
   "cell_type": "markdown",
   "id": "cf2dc37b",
   "metadata": {},
   "source": [
    "### Min delta"
   ]
  },
  {
   "cell_type": "code",
   "execution_count": null,
   "id": "9851da47",
   "metadata": {},
   "outputs": [
    {
     "data": {
      "text/html": [
       "<div>\n",
       "<style scoped>\n",
       "    .dataframe tbody tr th:only-of-type {\n",
       "        vertical-align: middle;\n",
       "    }\n",
       "\n",
       "    .dataframe tbody tr th {\n",
       "        vertical-align: top;\n",
       "    }\n",
       "\n",
       "    .dataframe thead th {\n",
       "        text-align: right;\n",
       "    }\n",
       "</style>\n",
       "<table border=\"1\" class=\"dataframe\">\n",
       "  <thead>\n",
       "    <tr style=\"text-align: right;\">\n",
       "      <th></th>\n",
       "      <th>uid</th>\n",
       "      <th>min_delta_hours</th>\n",
       "    </tr>\n",
       "  </thead>\n",
       "  <tbody>\n",
       "    <tr>\n",
       "      <th>0</th>\n",
       "      <td>user_30</td>\n",
       "      <td>-202</td>\n",
       "    </tr>\n",
       "  </tbody>\n",
       "</table>\n",
       "</div>"
      ],
      "text/plain": [
       "       uid  min_delta_hours\n",
       "0  user_30             -202"
      ]
     },
     "execution_count": 18,
     "metadata": {},
     "output_type": "execute_result"
    }
   ],
   "source": [
    "query_min = \"\"\"\n",
    "SELECT test.uid,\n",
    "    MIN((UNIXEPOCH(test.first_commit_ts) - deadlines.deadlines) / 3600) AS min_delta_hours\n",
    "FROM test\n",
    "JOIN deadlines ON deadlines.labs = test.labname\n",
    "WHERE test.labname != 'project1'\n",
    "ORDER BY min_delta_hours ASC;\n",
    "\"\"\"\n",
    "\n",
    "df_min = pd.read_sql(query_min, conn)\n",
    "df_min"
   ]
  },
  {
   "cell_type": "markdown",
   "id": "e2edbed5",
   "metadata": {},
   "source": [
    "### Max delta"
   ]
  },
  {
   "cell_type": "code",
   "execution_count": 19,
   "id": "79d234e8",
   "metadata": {},
   "outputs": [
    {
     "data": {
      "text/html": [
       "<div>\n",
       "<style scoped>\n",
       "    .dataframe tbody tr th:only-of-type {\n",
       "        vertical-align: middle;\n",
       "    }\n",
       "\n",
       "    .dataframe tbody tr th {\n",
       "        vertical-align: top;\n",
       "    }\n",
       "\n",
       "    .dataframe thead th {\n",
       "        text-align: right;\n",
       "    }\n",
       "</style>\n",
       "<table border=\"1\" class=\"dataframe\">\n",
       "  <thead>\n",
       "    <tr style=\"text-align: right;\">\n",
       "      <th></th>\n",
       "      <th>uid</th>\n",
       "      <th>max_delta_hours</th>\n",
       "    </tr>\n",
       "  </thead>\n",
       "  <tbody>\n",
       "    <tr>\n",
       "      <th>0</th>\n",
       "      <td>user_25</td>\n",
       "      <td>-2</td>\n",
       "    </tr>\n",
       "  </tbody>\n",
       "</table>\n",
       "</div>"
      ],
      "text/plain": [
       "       uid  max_delta_hours\n",
       "0  user_25               -2"
      ]
     },
     "execution_count": 19,
     "metadata": {},
     "output_type": "execute_result"
    }
   ],
   "source": [
    "query_max = \"\"\"\n",
    "SELECT test.uid,\n",
    "    MAX((UNIXEPOCH(test.first_commit_ts) - deadlines.deadlines) / 3600) AS max_delta_hours\n",
    "FROM test\n",
    "JOIN deadlines ON deadlines.labs = test.labname\n",
    "WHERE test.labname != 'project1'\n",
    "ORDER BY max_delta_hours DESC;\n",
    "\"\"\"\n",
    "df_max = pd.read_sql(query_max, conn)\n",
    "df_max\n"
   ]
  },
  {
   "cell_type": "markdown",
   "id": "bf78e902",
   "metadata": {},
   "source": [
    "### Avarage delta"
   ]
  },
  {
   "cell_type": "code",
   "execution_count": 20,
   "id": "dc1983fb",
   "metadata": {},
   "outputs": [
    {
     "data": {
      "text/html": [
       "<div>\n",
       "<style scoped>\n",
       "    .dataframe tbody tr th:only-of-type {\n",
       "        vertical-align: middle;\n",
       "    }\n",
       "\n",
       "    .dataframe tbody tr th {\n",
       "        vertical-align: top;\n",
       "    }\n",
       "\n",
       "    .dataframe thead th {\n",
       "        text-align: right;\n",
       "    }\n",
       "</style>\n",
       "<table border=\"1\" class=\"dataframe\">\n",
       "  <thead>\n",
       "    <tr style=\"text-align: right;\">\n",
       "      <th></th>\n",
       "      <th>avg_delta_hours</th>\n",
       "    </tr>\n",
       "  </thead>\n",
       "  <tbody>\n",
       "    <tr>\n",
       "      <th>0</th>\n",
       "      <td>-89.125</td>\n",
       "    </tr>\n",
       "  </tbody>\n",
       "</table>\n",
       "</div>"
      ],
      "text/plain": [
       "   avg_delta_hours\n",
       "0          -89.125"
      ]
     },
     "execution_count": 20,
     "metadata": {},
     "output_type": "execute_result"
    }
   ],
   "source": [
    "query_avg = \"\"\"\n",
    "SELECT \n",
    "    AVG((UNIXEPOCH(test.first_commit_ts) - deadlines.deadlines) / 3600) AS avg_delta_hours\n",
    "FROM test\n",
    "JOIN deadlines ON deadlines.labs = test.labname\n",
    "WHERE test.labname != 'project1'\n",
    "ORDER BY avg_delta_hours ASC;\n",
    "\"\"\"\n",
    "df_avg = pd.read_sql(query_avg, conn)\n",
    "df_avg"
   ]
  },
  {
   "cell_type": "markdown",
   "id": "69bd7217",
   "metadata": {},
   "source": [
    "### Hypothesis(gipoteza) test: newsfeed ko‘rishlar soni bilan bog‘liqlik"
   ]
  },
  {
   "cell_type": "code",
   "execution_count": 21,
   "id": "5efb6d85",
   "metadata": {},
   "outputs": [
    {
     "data": {
      "text/html": [
       "<div>\n",
       "<style scoped>\n",
       "    .dataframe tbody tr th:only-of-type {\n",
       "        vertical-align: middle;\n",
       "    }\n",
       "\n",
       "    .dataframe tbody tr th {\n",
       "        vertical-align: top;\n",
       "    }\n",
       "\n",
       "    .dataframe thead th {\n",
       "        text-align: right;\n",
       "    }\n",
       "</style>\n",
       "<table border=\"1\" class=\"dataframe\">\n",
       "  <thead>\n",
       "    <tr style=\"text-align: right;\">\n",
       "      <th></th>\n",
       "      <th>uid</th>\n",
       "      <th>avg_diff</th>\n",
       "      <th>pageviews</th>\n",
       "    </tr>\n",
       "  </thead>\n",
       "  <tbody>\n",
       "    <tr>\n",
       "      <th>0</th>\n",
       "      <td>user_1</td>\n",
       "      <td>-64.400000</td>\n",
       "      <td>140</td>\n",
       "    </tr>\n",
       "    <tr>\n",
       "      <th>1</th>\n",
       "      <td>user_10</td>\n",
       "      <td>-74.800000</td>\n",
       "      <td>445</td>\n",
       "    </tr>\n",
       "    <tr>\n",
       "      <th>2</th>\n",
       "      <td>user_14</td>\n",
       "      <td>-159.000000</td>\n",
       "      <td>429</td>\n",
       "    </tr>\n",
       "    <tr>\n",
       "      <th>3</th>\n",
       "      <td>user_17</td>\n",
       "      <td>-61.600000</td>\n",
       "      <td>235</td>\n",
       "    </tr>\n",
       "    <tr>\n",
       "      <th>4</th>\n",
       "      <td>user_18</td>\n",
       "      <td>-5.666667</td>\n",
       "      <td>9</td>\n",
       "    </tr>\n",
       "    <tr>\n",
       "      <th>5</th>\n",
       "      <td>user_19</td>\n",
       "      <td>-98.750000</td>\n",
       "      <td>64</td>\n",
       "    </tr>\n",
       "    <tr>\n",
       "      <th>6</th>\n",
       "      <td>user_21</td>\n",
       "      <td>-95.500000</td>\n",
       "      <td>40</td>\n",
       "    </tr>\n",
       "    <tr>\n",
       "      <th>7</th>\n",
       "      <td>user_25</td>\n",
       "      <td>-92.600000</td>\n",
       "      <td>895</td>\n",
       "    </tr>\n",
       "    <tr>\n",
       "      <th>8</th>\n",
       "      <td>user_28</td>\n",
       "      <td>-86.400000</td>\n",
       "      <td>745</td>\n",
       "    </tr>\n",
       "    <tr>\n",
       "      <th>9</th>\n",
       "      <td>user_3</td>\n",
       "      <td>-105.400000</td>\n",
       "      <td>1585</td>\n",
       "    </tr>\n",
       "    <tr>\n",
       "      <th>10</th>\n",
       "      <td>user_30</td>\n",
       "      <td>-145.250000</td>\n",
       "      <td>12</td>\n",
       "    </tr>\n",
       "  </tbody>\n",
       "</table>\n",
       "</div>"
      ],
      "text/plain": [
       "        uid    avg_diff  pageviews\n",
       "0    user_1  -64.400000        140\n",
       "1   user_10  -74.800000        445\n",
       "2   user_14 -159.000000        429\n",
       "3   user_17  -61.600000        235\n",
       "4   user_18   -5.666667          9\n",
       "5   user_19  -98.750000         64\n",
       "6   user_21  -95.500000         40\n",
       "7   user_25  -92.600000        895\n",
       "8   user_28  -86.400000        745\n",
       "9    user_3 -105.400000       1585\n",
       "10  user_30 -145.250000         12"
      ]
     },
     "execution_count": 21,
     "metadata": {},
     "output_type": "execute_result"
    }
   ],
   "source": [
    "query_views_diff = \"\"\"\n",
    "SELECT  \n",
    "    test.uid,\n",
    "    AVG((UNIXEPOCH(test.first_commit_ts) - deadlines.deadlines) / 3600) AS avg_diff,\n",
    "    COUNT(pviews.datetime) as pageviews\n",
    "FROM test\n",
    "JOIN deadlines ON deadlines.labs = test.labname\n",
    "LEFT JOIN pageviews pviews ON test.uid = pviews.uid\n",
    "WHERE test.labname != 'project1'\n",
    "GROUP BY test.uid;\n",
    "\"\"\"\n",
    "views_diff = pd.read_sql(query_views_diff, conn)\n",
    "views_diff"
   ]
  },
  {
   "cell_type": "markdown",
   "id": "c484d470",
   "metadata": {},
   "source": [
    "### Correlation coefficient"
   ]
  },
  {
   "cell_type": "code",
   "execution_count": null,
   "id": "0558686a",
   "metadata": {},
   "outputs": [],
   "source": []
  },
  {
   "cell_type": "code",
   "execution_count": 22,
   "id": "900ba371",
   "metadata": {},
   "outputs": [
    {
     "data": {
      "text/html": [
       "<div>\n",
       "<style scoped>\n",
       "    .dataframe tbody tr th:only-of-type {\n",
       "        vertical-align: middle;\n",
       "    }\n",
       "\n",
       "    .dataframe tbody tr th {\n",
       "        vertical-align: top;\n",
       "    }\n",
       "\n",
       "    .dataframe thead th {\n",
       "        text-align: right;\n",
       "    }\n",
       "</style>\n",
       "<table border=\"1\" class=\"dataframe\">\n",
       "  <thead>\n",
       "    <tr style=\"text-align: right;\">\n",
       "      <th></th>\n",
       "      <th>avg_diff</th>\n",
       "      <th>pageviews</th>\n",
       "    </tr>\n",
       "  </thead>\n",
       "  <tbody>\n",
       "    <tr>\n",
       "      <th>avg_diff</th>\n",
       "      <td>1.000000</td>\n",
       "      <td>-0.185834</td>\n",
       "    </tr>\n",
       "    <tr>\n",
       "      <th>pageviews</th>\n",
       "      <td>-0.185834</td>\n",
       "      <td>1.000000</td>\n",
       "    </tr>\n",
       "  </tbody>\n",
       "</table>\n",
       "</div>"
      ],
      "text/plain": [
       "           avg_diff  pageviews\n",
       "avg_diff   1.000000  -0.185834\n",
       "pageviews -0.185834   1.000000"
      ]
     },
     "execution_count": 22,
     "metadata": {},
     "output_type": "execute_result"
    }
   ],
   "source": [
    "correlation = views_diff.drop(columns=['uid']).corr()\n",
    "correlation"
   ]
  },
  {
   "cell_type": "markdown",
   "id": "8f95026a",
   "metadata": {},
   "source": [
    "### Connection closed"
   ]
  },
  {
   "cell_type": "code",
   "execution_count": 23,
   "id": "8a9d0f69",
   "metadata": {},
   "outputs": [],
   "source": [
    "conn.close()"
   ]
  }
 ],
 "metadata": {
  "kernelspec": {
   "display_name": "Python 3",
   "language": "python",
   "name": "python3"
  },
  "language_info": {
   "codemirror_mode": {
    "name": "ipython",
    "version": 3
   },
   "file_extension": ".py",
   "mimetype": "text/x-python",
   "name": "python",
   "nbconvert_exporter": "python",
   "pygments_lexer": "ipython3",
   "version": "3.13.3"
  }
 },
 "nbformat": 4,
 "nbformat_minor": 5
}
