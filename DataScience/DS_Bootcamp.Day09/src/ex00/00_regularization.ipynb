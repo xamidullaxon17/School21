{
 "cells": [
  {
   "cell_type": "markdown",
   "metadata": {},
   "source": [
    "# Day 09. Exercise 00\n",
    "# Regularization"
   ]
  },
  {
   "cell_type": "markdown",
   "metadata": {},
   "source": [
    "## 0. Imports"
   ]
  },
  {
   "cell_type": "code",
   "execution_count": 1,
   "metadata": {},
   "outputs": [],
   "source": [
    "import pandas as pd\n",
    "import numpy as np\n",
    "from sklearn.model_selection import train_test_split\n",
    "from sklearn.linear_model import LogisticRegression\n",
    "from sklearn.model_selection import StratifiedKFold, cross_val_score\n",
    "from sklearn.svm import SVC\n",
    "from sklearn.tree import DecisionTreeClassifier\n",
    "from sklearn.ensemble import RandomForestClassifier\n",
    "from sklearn.metrics import accuracy_score, classification_report\n",
    "import joblib"
   ]
  },
  {
   "cell_type": "markdown",
   "metadata": {},
   "source": [
    "## 1. Preprocessing"
   ]
  },
  {
   "cell_type": "markdown",
   "metadata": {},
   "source": [
    "1. Read the file `dayofweek.csv` that you used in the previous day to a dataframe.\n",
    "2. Using `train_test_split` with parameters `test_size=0.2`, `random_state=21` get `X_train`, `y_train`, `X_test`, `y_test`. Use the additional parameter `stratify`."
   ]
  },
  {
   "cell_type": "code",
   "execution_count": 2,
   "metadata": {},
   "outputs": [
    {
     "data": {
      "text/html": [
       "<div>\n",
       "<style scoped>\n",
       "    .dataframe tbody tr th:only-of-type {\n",
       "        vertical-align: middle;\n",
       "    }\n",
       "\n",
       "    .dataframe tbody tr th {\n",
       "        vertical-align: top;\n",
       "    }\n",
       "\n",
       "    .dataframe thead th {\n",
       "        text-align: right;\n",
       "    }\n",
       "</style>\n",
       "<table border=\"1\" class=\"dataframe\">\n",
       "  <thead>\n",
       "    <tr style=\"text-align: right;\">\n",
       "      <th></th>\n",
       "      <th>numTrials</th>\n",
       "      <th>hour</th>\n",
       "      <th>dayofweek</th>\n",
       "      <th>uid_user_0</th>\n",
       "      <th>uid_user_1</th>\n",
       "      <th>uid_user_10</th>\n",
       "      <th>uid_user_11</th>\n",
       "      <th>uid_user_12</th>\n",
       "      <th>uid_user_13</th>\n",
       "      <th>uid_user_14</th>\n",
       "      <th>...</th>\n",
       "      <th>labname_lab02</th>\n",
       "      <th>labname_lab03</th>\n",
       "      <th>labname_lab03s</th>\n",
       "      <th>labname_lab05s</th>\n",
       "      <th>labname_laba04</th>\n",
       "      <th>labname_laba04s</th>\n",
       "      <th>labname_laba05</th>\n",
       "      <th>labname_laba06</th>\n",
       "      <th>labname_laba06s</th>\n",
       "      <th>labname_project1</th>\n",
       "    </tr>\n",
       "  </thead>\n",
       "  <tbody>\n",
       "    <tr>\n",
       "      <th>0</th>\n",
       "      <td>-0.788667</td>\n",
       "      <td>-2.562352</td>\n",
       "      <td>4</td>\n",
       "      <td>0.0</td>\n",
       "      <td>0.0</td>\n",
       "      <td>0.0</td>\n",
       "      <td>0.0</td>\n",
       "      <td>0.0</td>\n",
       "      <td>0.0</td>\n",
       "      <td>0.0</td>\n",
       "      <td>...</td>\n",
       "      <td>0.0</td>\n",
       "      <td>0.0</td>\n",
       "      <td>0.0</td>\n",
       "      <td>0.0</td>\n",
       "      <td>0.0</td>\n",
       "      <td>0.0</td>\n",
       "      <td>0.0</td>\n",
       "      <td>0.0</td>\n",
       "      <td>0.0</td>\n",
       "      <td>1.0</td>\n",
       "    </tr>\n",
       "    <tr>\n",
       "      <th>1</th>\n",
       "      <td>-0.756764</td>\n",
       "      <td>-2.562352</td>\n",
       "      <td>4</td>\n",
       "      <td>0.0</td>\n",
       "      <td>0.0</td>\n",
       "      <td>0.0</td>\n",
       "      <td>0.0</td>\n",
       "      <td>0.0</td>\n",
       "      <td>0.0</td>\n",
       "      <td>0.0</td>\n",
       "      <td>...</td>\n",
       "      <td>0.0</td>\n",
       "      <td>0.0</td>\n",
       "      <td>0.0</td>\n",
       "      <td>0.0</td>\n",
       "      <td>0.0</td>\n",
       "      <td>0.0</td>\n",
       "      <td>0.0</td>\n",
       "      <td>0.0</td>\n",
       "      <td>0.0</td>\n",
       "      <td>1.0</td>\n",
       "    </tr>\n",
       "    <tr>\n",
       "      <th>2</th>\n",
       "      <td>-0.724861</td>\n",
       "      <td>-2.562352</td>\n",
       "      <td>4</td>\n",
       "      <td>0.0</td>\n",
       "      <td>0.0</td>\n",
       "      <td>0.0</td>\n",
       "      <td>0.0</td>\n",
       "      <td>0.0</td>\n",
       "      <td>0.0</td>\n",
       "      <td>0.0</td>\n",
       "      <td>...</td>\n",
       "      <td>0.0</td>\n",
       "      <td>0.0</td>\n",
       "      <td>0.0</td>\n",
       "      <td>0.0</td>\n",
       "      <td>0.0</td>\n",
       "      <td>0.0</td>\n",
       "      <td>0.0</td>\n",
       "      <td>0.0</td>\n",
       "      <td>0.0</td>\n",
       "      <td>1.0</td>\n",
       "    </tr>\n",
       "    <tr>\n",
       "      <th>3</th>\n",
       "      <td>-0.692958</td>\n",
       "      <td>-2.562352</td>\n",
       "      <td>4</td>\n",
       "      <td>0.0</td>\n",
       "      <td>0.0</td>\n",
       "      <td>0.0</td>\n",
       "      <td>0.0</td>\n",
       "      <td>0.0</td>\n",
       "      <td>0.0</td>\n",
       "      <td>0.0</td>\n",
       "      <td>...</td>\n",
       "      <td>0.0</td>\n",
       "      <td>0.0</td>\n",
       "      <td>0.0</td>\n",
       "      <td>0.0</td>\n",
       "      <td>0.0</td>\n",
       "      <td>0.0</td>\n",
       "      <td>0.0</td>\n",
       "      <td>0.0</td>\n",
       "      <td>0.0</td>\n",
       "      <td>1.0</td>\n",
       "    </tr>\n",
       "    <tr>\n",
       "      <th>4</th>\n",
       "      <td>-0.661055</td>\n",
       "      <td>-2.562352</td>\n",
       "      <td>4</td>\n",
       "      <td>0.0</td>\n",
       "      <td>0.0</td>\n",
       "      <td>0.0</td>\n",
       "      <td>0.0</td>\n",
       "      <td>0.0</td>\n",
       "      <td>0.0</td>\n",
       "      <td>0.0</td>\n",
       "      <td>...</td>\n",
       "      <td>0.0</td>\n",
       "      <td>0.0</td>\n",
       "      <td>0.0</td>\n",
       "      <td>0.0</td>\n",
       "      <td>0.0</td>\n",
       "      <td>0.0</td>\n",
       "      <td>0.0</td>\n",
       "      <td>0.0</td>\n",
       "      <td>0.0</td>\n",
       "      <td>1.0</td>\n",
       "    </tr>\n",
       "    <tr>\n",
       "      <th>...</th>\n",
       "      <td>...</td>\n",
       "      <td>...</td>\n",
       "      <td>...</td>\n",
       "      <td>...</td>\n",
       "      <td>...</td>\n",
       "      <td>...</td>\n",
       "      <td>...</td>\n",
       "      <td>...</td>\n",
       "      <td>...</td>\n",
       "      <td>...</td>\n",
       "      <td>...</td>\n",
       "      <td>...</td>\n",
       "      <td>...</td>\n",
       "      <td>...</td>\n",
       "      <td>...</td>\n",
       "      <td>...</td>\n",
       "      <td>...</td>\n",
       "      <td>...</td>\n",
       "      <td>...</td>\n",
       "      <td>...</td>\n",
       "      <td>...</td>\n",
       "    </tr>\n",
       "    <tr>\n",
       "      <th>1681</th>\n",
       "      <td>-0.533442</td>\n",
       "      <td>0.945382</td>\n",
       "      <td>3</td>\n",
       "      <td>0.0</td>\n",
       "      <td>0.0</td>\n",
       "      <td>0.0</td>\n",
       "      <td>0.0</td>\n",
       "      <td>0.0</td>\n",
       "      <td>0.0</td>\n",
       "      <td>0.0</td>\n",
       "      <td>...</td>\n",
       "      <td>0.0</td>\n",
       "      <td>0.0</td>\n",
       "      <td>0.0</td>\n",
       "      <td>0.0</td>\n",
       "      <td>0.0</td>\n",
       "      <td>0.0</td>\n",
       "      <td>0.0</td>\n",
       "      <td>0.0</td>\n",
       "      <td>1.0</td>\n",
       "      <td>0.0</td>\n",
       "    </tr>\n",
       "    <tr>\n",
       "      <th>1682</th>\n",
       "      <td>-0.629151</td>\n",
       "      <td>0.945382</td>\n",
       "      <td>3</td>\n",
       "      <td>0.0</td>\n",
       "      <td>1.0</td>\n",
       "      <td>0.0</td>\n",
       "      <td>0.0</td>\n",
       "      <td>0.0</td>\n",
       "      <td>0.0</td>\n",
       "      <td>0.0</td>\n",
       "      <td>...</td>\n",
       "      <td>0.0</td>\n",
       "      <td>0.0</td>\n",
       "      <td>0.0</td>\n",
       "      <td>0.0</td>\n",
       "      <td>0.0</td>\n",
       "      <td>0.0</td>\n",
       "      <td>0.0</td>\n",
       "      <td>0.0</td>\n",
       "      <td>1.0</td>\n",
       "      <td>0.0</td>\n",
       "    </tr>\n",
       "    <tr>\n",
       "      <th>1683</th>\n",
       "      <td>-0.597248</td>\n",
       "      <td>0.945382</td>\n",
       "      <td>3</td>\n",
       "      <td>0.0</td>\n",
       "      <td>1.0</td>\n",
       "      <td>0.0</td>\n",
       "      <td>0.0</td>\n",
       "      <td>0.0</td>\n",
       "      <td>0.0</td>\n",
       "      <td>0.0</td>\n",
       "      <td>...</td>\n",
       "      <td>0.0</td>\n",
       "      <td>0.0</td>\n",
       "      <td>0.0</td>\n",
       "      <td>0.0</td>\n",
       "      <td>0.0</td>\n",
       "      <td>0.0</td>\n",
       "      <td>0.0</td>\n",
       "      <td>0.0</td>\n",
       "      <td>1.0</td>\n",
       "      <td>0.0</td>\n",
       "    </tr>\n",
       "    <tr>\n",
       "      <th>1684</th>\n",
       "      <td>-0.565345</td>\n",
       "      <td>0.945382</td>\n",
       "      <td>3</td>\n",
       "      <td>0.0</td>\n",
       "      <td>1.0</td>\n",
       "      <td>0.0</td>\n",
       "      <td>0.0</td>\n",
       "      <td>0.0</td>\n",
       "      <td>0.0</td>\n",
       "      <td>0.0</td>\n",
       "      <td>...</td>\n",
       "      <td>0.0</td>\n",
       "      <td>0.0</td>\n",
       "      <td>0.0</td>\n",
       "      <td>0.0</td>\n",
       "      <td>0.0</td>\n",
       "      <td>0.0</td>\n",
       "      <td>0.0</td>\n",
       "      <td>0.0</td>\n",
       "      <td>1.0</td>\n",
       "      <td>0.0</td>\n",
       "    </tr>\n",
       "    <tr>\n",
       "      <th>1685</th>\n",
       "      <td>-0.533442</td>\n",
       "      <td>0.945382</td>\n",
       "      <td>3</td>\n",
       "      <td>0.0</td>\n",
       "      <td>1.0</td>\n",
       "      <td>0.0</td>\n",
       "      <td>0.0</td>\n",
       "      <td>0.0</td>\n",
       "      <td>0.0</td>\n",
       "      <td>0.0</td>\n",
       "      <td>...</td>\n",
       "      <td>0.0</td>\n",
       "      <td>0.0</td>\n",
       "      <td>0.0</td>\n",
       "      <td>0.0</td>\n",
       "      <td>0.0</td>\n",
       "      <td>0.0</td>\n",
       "      <td>0.0</td>\n",
       "      <td>0.0</td>\n",
       "      <td>1.0</td>\n",
       "      <td>0.0</td>\n",
       "    </tr>\n",
       "  </tbody>\n",
       "</table>\n",
       "<p>1686 rows × 44 columns</p>\n",
       "</div>"
      ],
      "text/plain": [
       "      numTrials      hour  dayofweek  uid_user_0  uid_user_1  uid_user_10  \\\n",
       "0     -0.788667 -2.562352          4         0.0         0.0          0.0   \n",
       "1     -0.756764 -2.562352          4         0.0         0.0          0.0   \n",
       "2     -0.724861 -2.562352          4         0.0         0.0          0.0   \n",
       "3     -0.692958 -2.562352          4         0.0         0.0          0.0   \n",
       "4     -0.661055 -2.562352          4         0.0         0.0          0.0   \n",
       "...         ...       ...        ...         ...         ...          ...   \n",
       "1681  -0.533442  0.945382          3         0.0         0.0          0.0   \n",
       "1682  -0.629151  0.945382          3         0.0         1.0          0.0   \n",
       "1683  -0.597248  0.945382          3         0.0         1.0          0.0   \n",
       "1684  -0.565345  0.945382          3         0.0         1.0          0.0   \n",
       "1685  -0.533442  0.945382          3         0.0         1.0          0.0   \n",
       "\n",
       "      uid_user_11  uid_user_12  uid_user_13  uid_user_14  ...  labname_lab02  \\\n",
       "0             0.0          0.0          0.0          0.0  ...            0.0   \n",
       "1             0.0          0.0          0.0          0.0  ...            0.0   \n",
       "2             0.0          0.0          0.0          0.0  ...            0.0   \n",
       "3             0.0          0.0          0.0          0.0  ...            0.0   \n",
       "4             0.0          0.0          0.0          0.0  ...            0.0   \n",
       "...           ...          ...          ...          ...  ...            ...   \n",
       "1681          0.0          0.0          0.0          0.0  ...            0.0   \n",
       "1682          0.0          0.0          0.0          0.0  ...            0.0   \n",
       "1683          0.0          0.0          0.0          0.0  ...            0.0   \n",
       "1684          0.0          0.0          0.0          0.0  ...            0.0   \n",
       "1685          0.0          0.0          0.0          0.0  ...            0.0   \n",
       "\n",
       "      labname_lab03  labname_lab03s  labname_lab05s  labname_laba04  \\\n",
       "0               0.0             0.0             0.0             0.0   \n",
       "1               0.0             0.0             0.0             0.0   \n",
       "2               0.0             0.0             0.0             0.0   \n",
       "3               0.0             0.0             0.0             0.0   \n",
       "4               0.0             0.0             0.0             0.0   \n",
       "...             ...             ...             ...             ...   \n",
       "1681            0.0             0.0             0.0             0.0   \n",
       "1682            0.0             0.0             0.0             0.0   \n",
       "1683            0.0             0.0             0.0             0.0   \n",
       "1684            0.0             0.0             0.0             0.0   \n",
       "1685            0.0             0.0             0.0             0.0   \n",
       "\n",
       "      labname_laba04s  labname_laba05  labname_laba06  labname_laba06s  \\\n",
       "0                 0.0             0.0             0.0              0.0   \n",
       "1                 0.0             0.0             0.0              0.0   \n",
       "2                 0.0             0.0             0.0              0.0   \n",
       "3                 0.0             0.0             0.0              0.0   \n",
       "4                 0.0             0.0             0.0              0.0   \n",
       "...               ...             ...             ...              ...   \n",
       "1681              0.0             0.0             0.0              1.0   \n",
       "1682              0.0             0.0             0.0              1.0   \n",
       "1683              0.0             0.0             0.0              1.0   \n",
       "1684              0.0             0.0             0.0              1.0   \n",
       "1685              0.0             0.0             0.0              1.0   \n",
       "\n",
       "      labname_project1  \n",
       "0                  1.0  \n",
       "1                  1.0  \n",
       "2                  1.0  \n",
       "3                  1.0  \n",
       "4                  1.0  \n",
       "...                ...  \n",
       "1681               0.0  \n",
       "1682               0.0  \n",
       "1683               0.0  \n",
       "1684               0.0  \n",
       "1685               0.0  \n",
       "\n",
       "[1686 rows x 44 columns]"
      ]
     },
     "execution_count": 2,
     "metadata": {},
     "output_type": "execute_result"
    }
   ],
   "source": [
    "df = pd.read_csv(\"data/dayofweek.csv\")\n",
    "df"
   ]
  },
  {
   "cell_type": "code",
   "execution_count": 3,
   "metadata": {},
   "outputs": [],
   "source": [
    "X = df.drop('dayofweek', axis=1) # axis 1 - column, axis 0 - row\n",
    "y = df['dayofweek']"
   ]
  },
  {
   "cell_type": "code",
   "execution_count": 4,
   "metadata": {},
   "outputs": [
    {
     "name": "stdout",
     "output_type": "stream",
     "text": [
      "X_train shakli: (1348, 43)\n",
      "y_train shakli: (1348,)\n",
      "X_test shakli: (338, 43)\n",
      "y_test shakli: (338,)\n"
     ]
    }
   ],
   "source": [
    "X_train, X_test, y_train, y_test = train_test_split(X, y, test_size=0.2, random_state=21, stratify=y)\n",
    "print(\"X_train shakli:\", X_train.shape)\n",
    "print(\"y_train shakli:\", y_train.shape)\n",
    "print(\"X_test shakli:\", X_test.shape)\n",
    "print(\"y_test shakli:\", y_test.shape)"
   ]
  },
  {
   "cell_type": "markdown",
   "metadata": {},
   "source": [
    "## 2. Logreg regularization"
   ]
  },
  {
   "cell_type": "markdown",
   "metadata": {},
   "source": [
    "### a. Default regularization"
   ]
  },
  {
   "cell_type": "markdown",
   "metadata": {},
   "source": [
    "1. Train a baseline model with the only parameters `random_state=21`, `fit_intercept=False`.\n",
    "2. Use stratified K-fold cross-validation with `10` splits to evaluate the accuracy of the model\n",
    "\n",
    "\n",
    "The result of the code where you trained and evaluated the baseline model should be exactly like this (use `%%time` to get the info about how long it took to run the cell):\n",
    "\n",
    "```\n",
    "train -  0.62902   |   valid -  0.59259\n",
    "train -  0.64633   |   valid -  0.62963\n",
    "train -  0.63479   |   valid -  0.56296\n",
    "train -  0.65622   |   valid -  0.61481\n",
    "train -  0.63397   |   valid -  0.57778\n",
    "train -  0.64056   |   valid -  0.59259\n",
    "train -  0.64138   |   valid -  0.65926\n",
    "train -  0.65952   |   valid -  0.56296\n",
    "train -  0.64333   |   valid -  0.59701\n",
    "train -  0.63674   |   valid -  0.62687\n",
    "Average accuracy on crossval is 0.60165\n",
    "Std is 0.02943\n",
    "```"
   ]
  },
  {
   "cell_type": "code",
   "execution_count": 5,
   "metadata": {},
   "outputs": [
    {
     "name": "stdout",
     "output_type": "stream",
     "text": [
      "K-fold cross-validation natijalari:\n"
     ]
    },
    {
     "name": "stderr",
     "output_type": "stream",
     "text": [
      "C:\\Users\\hp\\AppData\\Roaming\\Python\\Python38\\site-packages\\sklearn\\model_selection\\_split.py:293: FutureWarning: Setting a random_state has no effect since shuffle is False. This will raise an error in 0.24. You should leave random_state to its default (None), or set shuffle=True.\n",
      "  warnings.warn(\n"
     ]
    },
    {
     "name": "stdout",
     "output_type": "stream",
     "text": [
      "train - 0.62902   |   valid - 0.59259\n",
      "train - 0.64633   |   valid - 0.62963\n",
      "train - 0.63479   |   valid - 0.56296\n",
      "train - 0.65622   |   valid - 0.61481\n",
      "train - 0.63397   |   valid - 0.57778\n",
      "train - 0.64056   |   valid - 0.59259\n",
      "train - 0.64138   |   valid - 0.65926\n",
      "train - 0.65952   |   valid - 0.56296\n",
      "train - 0.64333   |   valid - 0.59701\n",
      "train - 0.63674   |   valid - 0.62687\n",
      "Average accuracy on crossval is 0.60165\n",
      "Std is 0.02943\n",
      "CPU times: total: 3.88 s\n",
      "Wall time: 3.23 s\n"
     ]
    }
   ],
   "source": [
    "%%time\n",
    "logreg_baseline = LogisticRegression(random_state=21, fit_intercept=False)\n",
    "\n",
    "# Stratified K-Fold cross-validationni sozlash\n",
    "kf = StratifiedKFold(n_splits=10,  random_state=21) # shuffle=False bo'lganda natija to'g'ri chiqdi\n",
    "\n",
    "train_scores = []\n",
    "valid_scores = []\n",
    "\n",
    "print(\"K-fold cross-validation natijalari:\")\n",
    "\n",
    "for fold, (train_index, val_index) in enumerate(kf.split(X_train, y_train)):\n",
    "    X_train_fold, X_val_fold = X_train.iloc[train_index], X_train.iloc[val_index]\n",
    "    y_train_fold, y_val_fold = y_train.iloc[train_index], y_train.iloc[val_index]\n",
    "\n",
    "    logreg_baseline.fit(X_train_fold, y_train_fold)\n",
    "\n",
    "    train_accuracy = logreg_baseline.score(X_train_fold, y_train_fold)\n",
    "    val_accuracy = logreg_baseline.score(X_val_fold, y_val_fold)\n",
    "\n",
    "    train_scores.append(train_accuracy)\n",
    "    valid_scores.append(val_accuracy)\n",
    "\n",
    "    print(f\"train - {train_accuracy:.5f}   |   valid - {val_accuracy:.5f}\")\n",
    "\n",
    "average_accuracy = np.mean(valid_scores)\n",
    "std_accuracy = np.std(valid_scores)\n",
    "\n",
    "print(f\"Average accuracy on crossval is {average_accuracy:.5f}\")\n",
    "print(f\"Std is {std_accuracy:.5f}\")"
   ]
  },
  {
   "cell_type": "markdown",
   "metadata": {},
   "source": [
    "### b. Optimizing regularization parameters"
   ]
  },
  {
   "cell_type": "markdown",
   "metadata": {},
   "source": [
    "1. In the cells below try different values of penalty: `none`, `l1`, `l2` – you can change the values of solver too."
   ]
  },
  {
   "cell_type": "code",
   "execution_count": 6,
   "metadata": {},
   "outputs": [
    {
     "name": "stdout",
     "output_type": "stream",
     "text": [
      "--- Penalty: 'none' ---\n"
     ]
    },
    {
     "name": "stderr",
     "output_type": "stream",
     "text": [
      "C:\\Users\\hp\\AppData\\Roaming\\Python\\Python38\\site-packages\\sklearn\\model_selection\\_split.py:293: FutureWarning: Setting a random_state has no effect since shuffle is False. This will raise an error in 0.24. You should leave random_state to its default (None), or set shuffle=True.\n",
      "  warnings.warn(\n"
     ]
    },
    {
     "name": "stdout",
     "output_type": "stream",
     "text": [
      "train - 0.66612   |   valid - 0.63704\n",
      "train - 0.65787   |   valid - 0.65926\n",
      "train - 0.66694   |   valid - 0.57778\n",
      "train - 0.66529   |   valid - 0.62963\n",
      "train - 0.66694   |   valid - 0.62222\n",
      "train - 0.65952   |   valid - 0.57778\n",
      "train - 0.65045   |   valid - 0.69630\n",
      "train - 0.68425   |   valid - 0.61481\n",
      "train - 0.66474   |   valid - 0.62687\n",
      "train - 0.65651   |   valid - 0.60448\n",
      "Average accuracy on crossval is 0.62462\n",
      "Std is 0.03379\n"
     ]
    }
   ],
   "source": [
    "print(\"--- Penalty: 'none' ---\")\n",
    "logreg_none = LogisticRegression(penalty='none', solver='lbfgs', random_state=21, fit_intercept=False, max_iter=1000)\n",
    "\n",
    "kf = StratifiedKFold(n_splits=10, random_state=21)\n",
    "\n",
    "train_scores_none = []\n",
    "valid_scores_none = []\n",
    "\n",
    "for fold, (train_index, val_index) in enumerate(kf.split(X_train, y_train)):\n",
    "    X_train_fold, X_val_fold = X_train.iloc[train_index], X_train.iloc[val_index]\n",
    "    y_train_fold, y_val_fold = y_train.iloc[train_index], y_train.iloc[val_index]\n",
    "\n",
    "    logreg_none.fit(X_train_fold, y_train_fold)\n",
    "\n",
    "    train_accuracy = logreg_none.score(X_train_fold, y_train_fold)\n",
    "    val_accuracy = logreg_none.score(X_val_fold, y_val_fold)\n",
    "\n",
    "    train_scores_none.append(train_accuracy)\n",
    "    valid_scores_none.append(val_accuracy)\n",
    "\n",
    "    print(f\"train - {train_accuracy:.5f}   |   valid - {val_accuracy:.5f}\")\n",
    "\n",
    "print(f\"Average accuracy on crossval is {np.mean(valid_scores_none):.5f}\")\n",
    "print(f\"Std is {np.std(valid_scores_none):.5f}\")"
   ]
  },
  {
   "cell_type": "code",
   "execution_count": 7,
   "metadata": {},
   "outputs": [
    {
     "name": "stdout",
     "output_type": "stream",
     "text": [
      "\n",
      "--- Penalty: 'l1' ---\n",
      "train - 0.61830   |   valid - 0.54815\n",
      "train - 0.62737   |   valid - 0.62222\n",
      "train - 0.60511   |   valid - 0.54074\n",
      "train - 0.63644   |   valid - 0.62222\n",
      "train - 0.62407   |   valid - 0.55556\n",
      "train - 0.62325   |   valid - 0.58519\n",
      "train - 0.61253   |   valid - 0.63704\n",
      "train - 0.64716   |   valid - 0.58519\n",
      "train - 0.63015   |   valid - 0.59701\n",
      "train - 0.61367   |   valid - 0.59701\n",
      "Average accuracy on crossval is 0.58903\n",
      "Std is 0.03129\n"
     ]
    }
   ],
   "source": [
    "print(\"\\n--- Penalty: 'l1' ---\")\n",
    "logreg_l1 = LogisticRegression(penalty='l1', solver='liblinear', random_state=21, fit_intercept=False, max_iter=1000)\n",
    "\n",
    "train_scores_l1 = []\n",
    "valid_scores_l1 = []\n",
    "\n",
    "for fold, (train_index, val_index) in enumerate(kf.split(X_train, y_train)):\n",
    "    X_train_fold, X_val_fold = X_train.iloc[train_index], X_train.iloc[val_index]\n",
    "    y_train_fold, y_val_fold = y_train.iloc[train_index], y_train.iloc[val_index]\n",
    "\n",
    "    logreg_l1.fit(X_train_fold, y_train_fold)\n",
    "\n",
    "    train_accuracy = logreg_l1.score(X_train_fold, y_train_fold)\n",
    "    val_accuracy = logreg_l1.score(X_val_fold, y_val_fold)\n",
    "\n",
    "    train_scores_l1.append(train_accuracy)\n",
    "    valid_scores_l1.append(val_accuracy)\n",
    "\n",
    "    print(f\"train - {train_accuracy:.5f}   |   valid - {val_accuracy:.5f}\")\n",
    "\n",
    "print(f\"Average accuracy on crossval is {np.mean(valid_scores_l1):.5f}\")\n",
    "print(f\"Std is {np.std(valid_scores_l1):.5f}\")"
   ]
  },
  {
   "cell_type": "code",
   "execution_count": 8,
   "metadata": {},
   "outputs": [
    {
     "name": "stdout",
     "output_type": "stream",
     "text": [
      "\n",
      "--- Penalty: 'l2' ---\n",
      "train - 0.62902   |   valid - 0.59259\n",
      "train - 0.64633   |   valid - 0.62963\n",
      "train - 0.63479   |   valid - 0.56296\n",
      "train - 0.65622   |   valid - 0.61481\n",
      "train - 0.63397   |   valid - 0.57778\n",
      "train - 0.64056   |   valid - 0.59259\n",
      "train - 0.64138   |   valid - 0.65926\n",
      "train - 0.65952   |   valid - 0.56296\n",
      "train - 0.64333   |   valid - 0.59701\n",
      "train - 0.63674   |   valid - 0.62687\n",
      "Average accuracy on crossval is 0.60165\n",
      "Std is 0.02943\n"
     ]
    }
   ],
   "source": [
    "print(\"\\n--- Penalty: 'l2' ---\")\n",
    "logreg_l2 = LogisticRegression(penalty='l2', solver='lbfgs', random_state=21, fit_intercept=False, max_iter=1000)\n",
    "\n",
    "train_scores_l2 = []\n",
    "valid_scores_l2 = []\n",
    "\n",
    "for fold, (train_index, val_index) in enumerate(kf.split(X_train, y_train)):\n",
    "    X_train_fold, X_val_fold = X_train.iloc[train_index], X_train.iloc[val_index]\n",
    "    y_train_fold, y_val_fold = y_train.iloc[train_index], y_train.iloc[val_index]\n",
    "\n",
    "    logreg_l2.fit(X_train_fold, y_train_fold)\n",
    "\n",
    "    train_accuracy = logreg_l2.score(X_train_fold, y_train_fold)\n",
    "    val_accuracy = logreg_l2.score(X_val_fold, y_val_fold)\n",
    "\n",
    "    train_scores_l2.append(train_accuracy)\n",
    "    valid_scores_l2.append(val_accuracy)\n",
    "\n",
    "    print(f\"train - {train_accuracy:.5f}   |   valid - {val_accuracy:.5f}\")\n",
    "\n",
    "print(f\"Average accuracy on crossval is {np.mean(valid_scores_l2):.5f}\")\n",
    "print(f\"Std is {np.std(valid_scores_l2):.5f}\")"
   ]
  },
  {
   "cell_type": "markdown",
   "metadata": {},
   "source": [
    "## 3. SVM regularization"
   ]
  },
  {
   "cell_type": "markdown",
   "metadata": {},
   "source": [
    "### a. Default regularization"
   ]
  },
  {
   "cell_type": "markdown",
   "metadata": {},
   "source": [
    "1. Train a baseline model with the only parameters `probability=True`, `kernel='linear'`, `random_state=21`.\n",
    "2. Use stratified K-fold cross-validation with `10` splits to evaluate the accuracy of the model.\n",
    "3. The format of the result of the code where you trained and evaluated the baseline model should be similar to what you have got for the logreg."
   ]
  },
  {
   "cell_type": "code",
   "execution_count": 9,
   "metadata": {},
   "outputs": [
    {
     "name": "stdout",
     "output_type": "stream",
     "text": [
      "K-fold cross-validation natijalari:\n"
     ]
    },
    {
     "name": "stderr",
     "output_type": "stream",
     "text": [
      "C:\\Users\\hp\\AppData\\Roaming\\Python\\Python38\\site-packages\\sklearn\\model_selection\\_split.py:293: FutureWarning: Setting a random_state has no effect since shuffle is False. This will raise an error in 0.24. You should leave random_state to its default (None), or set shuffle=True.\n",
      "  warnings.warn(\n"
     ]
    },
    {
     "name": "stdout",
     "output_type": "stream",
     "text": [
      "train - 0.70486   |   valid - 0.65926\n",
      "train - 0.69662   |   valid - 0.75556\n",
      "train - 0.69415   |   valid - 0.62222\n",
      "train - 0.70239   |   valid - 0.65185\n",
      "train - 0.69085   |   valid - 0.65185\n",
      "train - 0.68920   |   valid - 0.64444\n",
      "train - 0.69250   |   valid - 0.72593\n",
      "train - 0.70074   |   valid - 0.62222\n",
      "train - 0.69605   |   valid - 0.61940\n",
      "train - 0.71087   |   valid - 0.63433\n",
      "Average accuracy on crossval is 0.65871\n",
      "Std is 0.04359\n"
     ]
    }
   ],
   "source": [
    "svm_baseline = SVC(probability=True, kernel='linear', random_state=21)\n",
    "\n",
    "kf = StratifiedKFold(n_splits=10, random_state=21)\n",
    "\n",
    "train_scores = []\n",
    "valid_scores = []\n",
    "\n",
    "print(\"K-fold cross-validation natijalari:\")\n",
    "\n",
    "for fold, (train_index, val_index) in enumerate(kf.split(X_train, y_train)):\n",
    "    X_train_fold, X_val_fold = X_train.iloc[train_index], X_train.iloc[val_index]\n",
    "    y_train_fold, y_val_fold = y_train.iloc[train_index], y_train.iloc[val_index]\n",
    "\n",
    "    # Modelni o'rgatish\n",
    "    svm_baseline.fit(X_train_fold, y_train_fold)\n",
    "\n",
    "    # O'quv va validatsiya to'plamlaridagi aniqlikni hisoblash\n",
    "    train_accuracy = svm_baseline.score(X_train_fold, y_train_fold)\n",
    "    val_accuracy = svm_baseline.score(X_val_fold, y_val_fold)\n",
    "\n",
    "    train_scores.append(train_accuracy)\n",
    "    valid_scores.append(val_accuracy)\n",
    "\n",
    "    print(f\"train - {train_accuracy:.5f}   |   valid - {val_accuracy:.5f}\")\n",
    "\n",
    "average_accuracy = np.mean(valid_scores)\n",
    "std_accuracy = np.std(valid_scores)\n",
    "\n",
    "print(f\"Average accuracy on crossval is {average_accuracy:.5f}\")\n",
    "print(f\"Std is {std_accuracy:.5f}\")"
   ]
  },
  {
   "cell_type": "markdown",
   "metadata": {},
   "source": [
    "### b. Optimizing regularization parameters"
   ]
  },
  {
   "cell_type": "markdown",
   "metadata": {},
   "source": [
    "1. In the cells below try different values of the parameter `C`."
   ]
  },
  {
   "cell_type": "code",
   "execution_count": 10,
   "metadata": {},
   "outputs": [
    {
     "name": "stdout",
     "output_type": "stream",
     "text": [
      "\n",
      "--- C qiymati: 0.01 ---\n"
     ]
    },
    {
     "name": "stderr",
     "output_type": "stream",
     "text": [
      "C:\\Users\\hp\\AppData\\Roaming\\Python\\Python38\\site-packages\\sklearn\\model_selection\\_split.py:293: FutureWarning: Setting a random_state has no effect since shuffle is False. This will raise an error in 0.24. You should leave random_state to its default (None), or set shuffle=True.\n",
      "  warnings.warn(\n"
     ]
    },
    {
     "name": "stdout",
     "output_type": "stream",
     "text": [
      "train - 0.37923   |   valid - 0.40000\n",
      "train - 0.37923   |   valid - 0.40000\n",
      "train - 0.38417   |   valid - 0.35556\n",
      "train - 0.35449   |   valid - 0.36296\n",
      "train - 0.38252   |   valid - 0.37037\n",
      "train - 0.38087   |   valid - 0.38519\n",
      "train - 0.37923   |   valid - 0.40000\n",
      "train - 0.38252   |   valid - 0.37037\n",
      "train - 0.38468   |   valid - 0.35075\n",
      "train - 0.38386   |   valid - 0.35821\n",
      "Average accuracy on crossval is 0.37534\n",
      "Std is 0.01848\n",
      "\n",
      "--- C qiymati: 0.1 ---\n"
     ]
    },
    {
     "name": "stderr",
     "output_type": "stream",
     "text": [
      "C:\\Users\\hp\\AppData\\Roaming\\Python\\Python38\\site-packages\\sklearn\\model_selection\\_split.py:293: FutureWarning: Setting a random_state has no effect since shuffle is False. This will raise an error in 0.24. You should leave random_state to its default (None), or set shuffle=True.\n",
      "  warnings.warn(\n"
     ]
    },
    {
     "name": "stdout",
     "output_type": "stream",
     "text": [
      "train - 0.58120   |   valid - 0.55556\n",
      "train - 0.57543   |   valid - 0.56296\n",
      "train - 0.57378   |   valid - 0.57037\n",
      "train - 0.59275   |   valid - 0.57037\n",
      "train - 0.58120   |   valid - 0.54815\n",
      "train - 0.57955   |   valid - 0.54815\n",
      "train - 0.57296   |   valid - 0.61481\n",
      "train - 0.59192   |   valid - 0.54815\n",
      "train - 0.59967   |   valid - 0.52985\n",
      "train - 0.57825   |   valid - 0.57463\n",
      "Average accuracy on crossval is 0.56230\n",
      "Std is 0.02177\n",
      "\n",
      "--- C qiymati: 1 ---\n"
     ]
    },
    {
     "name": "stderr",
     "output_type": "stream",
     "text": [
      "C:\\Users\\hp\\AppData\\Roaming\\Python\\Python38\\site-packages\\sklearn\\model_selection\\_split.py:293: FutureWarning: Setting a random_state has no effect since shuffle is False. This will raise an error in 0.24. You should leave random_state to its default (None), or set shuffle=True.\n",
      "  warnings.warn(\n"
     ]
    },
    {
     "name": "stdout",
     "output_type": "stream",
     "text": [
      "train - 0.70486   |   valid - 0.65926\n",
      "train - 0.69662   |   valid - 0.75556\n",
      "train - 0.69415   |   valid - 0.62222\n",
      "train - 0.70239   |   valid - 0.65185\n",
      "train - 0.69085   |   valid - 0.65185\n",
      "train - 0.68920   |   valid - 0.64444\n",
      "train - 0.69250   |   valid - 0.72593\n",
      "train - 0.70074   |   valid - 0.62222\n",
      "train - 0.69605   |   valid - 0.61940\n",
      "train - 0.71087   |   valid - 0.63433\n",
      "Average accuracy on crossval is 0.65871\n",
      "Std is 0.04359\n",
      "\n",
      "--- C qiymati: 10 ---\n"
     ]
    },
    {
     "name": "stderr",
     "output_type": "stream",
     "text": [
      "C:\\Users\\hp\\AppData\\Roaming\\Python\\Python38\\site-packages\\sklearn\\model_selection\\_split.py:293: FutureWarning: Setting a random_state has no effect since shuffle is False. This will raise an error in 0.24. You should leave random_state to its default (None), or set shuffle=True.\n",
      "  warnings.warn(\n"
     ]
    },
    {
     "name": "stdout",
     "output_type": "stream",
     "text": [
      "train - 0.75021   |   valid - 0.72593\n",
      "train - 0.77741   |   valid - 0.82963\n",
      "train - 0.78566   |   valid - 0.68148\n",
      "train - 0.76834   |   valid - 0.73333\n",
      "train - 0.75185   |   valid - 0.77778\n",
      "train - 0.75598   |   valid - 0.68889\n",
      "train - 0.76257   |   valid - 0.74074\n",
      "train - 0.77411   |   valid - 0.68889\n",
      "train - 0.78254   |   valid - 0.71642\n",
      "train - 0.78418   |   valid - 0.69403\n",
      "Average accuracy on crossval is 0.72771\n",
      "Std is 0.04417\n",
      "\n",
      "--- C qiymati: 100 ---\n"
     ]
    },
    {
     "name": "stderr",
     "output_type": "stream",
     "text": [
      "C:\\Users\\hp\\AppData\\Roaming\\Python\\Python38\\site-packages\\sklearn\\model_selection\\_split.py:293: FutureWarning: Setting a random_state has no effect since shuffle is False. This will raise an error in 0.24. You should leave random_state to its default (None), or set shuffle=True.\n",
      "  warnings.warn(\n"
     ]
    },
    {
     "name": "stdout",
     "output_type": "stream",
     "text": [
      "train - 0.78401   |   valid - 0.74815\n",
      "train - 0.79720   |   valid - 0.84444\n",
      "train - 0.80956   |   valid - 0.72593\n",
      "train - 0.79060   |   valid - 0.76296\n",
      "train - 0.79060   |   valid - 0.77778\n",
      "train - 0.79637   |   valid - 0.74815\n",
      "train - 0.78401   |   valid - 0.77037\n",
      "train - 0.80462   |   valid - 0.73333\n",
      "train - 0.79819   |   valid - 0.70896\n",
      "train - 0.79901   |   valid - 0.73881\n",
      "Average accuracy on crossval is 0.75589\n",
      "Std is 0.03550\n"
     ]
    }
   ],
   "source": [
    "c_values = [0.01, 0.1, 1, 10, 100]\n",
    "\n",
    "for c_val in c_values:\n",
    "    print(f\"\\n--- C qiymati: {c_val} ---\")\n",
    "    # SVM modelini berilgan C qiymati bilan yaratish\n",
    "    svm_tuned = SVC(C=c_val, probability=True, kernel='linear', random_state=21)\n",
    "\n",
    "    kf = StratifiedKFold(n_splits=10, random_state=21)\n",
    "\n",
    "    train_scores_c = []\n",
    "    valid_scores_c = []\n",
    "\n",
    "    for fold, (train_index, val_index) in enumerate(kf.split(X_train, y_train)):\n",
    "        X_train_fold, X_val_fold = X_train.iloc[train_index], X_train.iloc[val_index]\n",
    "        y_train_fold, y_val_fold = y_train.iloc[train_index], y_train.iloc[val_index]\n",
    "\n",
    "        # Modelni o'rgatish\n",
    "        svm_tuned.fit(X_train_fold, y_train_fold)\n",
    "\n",
    "        # O'quv va validatsiya to'plamlaridagi aniqlikni hisoblash\n",
    "        train_accuracy = svm_tuned.score(X_train_fold, y_train_fold)\n",
    "        val_accuracy = svm_tuned.score(X_val_fold, y_val_fold)\n",
    "\n",
    "        train_scores_c.append(train_accuracy)\n",
    "        valid_scores_c.append(val_accuracy)\n",
    "\n",
    "        print(f\"train - {train_accuracy:.5f}   |   valid - {val_accuracy:.5f}\")\n",
    "\n",
    "    average_accuracy = np.mean(valid_scores_c)\n",
    "    std_accuracy = np.std(valid_scores_c)\n",
    "\n",
    "    print(f\"Average accuracy on crossval is {average_accuracy:.5f}\")\n",
    "    print(f\"Std is {std_accuracy:.5f}\")"
   ]
  },
  {
   "cell_type": "markdown",
   "metadata": {},
   "source": [
    "## 4. Tree"
   ]
  },
  {
   "cell_type": "markdown",
   "metadata": {},
   "source": [
    "### a. Default regularization"
   ]
  },
  {
   "cell_type": "markdown",
   "metadata": {},
   "source": [
    "1. Train a baseline model with the only parameter `max_depth=10` and `random_state=21`.\n",
    "2. Use stratified K-fold cross-validation with `10` splits to evaluate the accuracy of the model.\n",
    "3. The format of the result of the code where you trained and evaluated the baseline model should be similar to what you have got for the logreg."
   ]
  },
  {
   "cell_type": "code",
   "execution_count": 11,
   "metadata": {},
   "outputs": [
    {
     "name": "stdout",
     "output_type": "stream",
     "text": [
      "K-fold cross-validation natijalari:\n",
      "train - 0.81039   |   valid - 0.74074\n",
      "train - 0.77741   |   valid - 0.74074\n",
      "train - 0.83347   |   valid - 0.70370\n",
      "train - 0.79720   |   valid - 0.76296\n",
      "train - 0.82440   |   valid - 0.75556\n",
      "train - 0.80379   |   valid - 0.68889\n",
      "train - 0.80709   |   valid - 0.76296\n",
      "train - 0.80132   |   valid - 0.65926\n",
      "train - 0.80807   |   valid - 0.75373\n"
     ]
    },
    {
     "name": "stderr",
     "output_type": "stream",
     "text": [
      "C:\\Users\\hp\\AppData\\Roaming\\Python\\Python38\\site-packages\\sklearn\\model_selection\\_split.py:293: FutureWarning: Setting a random_state has no effect since shuffle is False. This will raise an error in 0.24. You should leave random_state to its default (None), or set shuffle=True.\n",
      "  warnings.warn(\n"
     ]
    },
    {
     "name": "stdout",
     "output_type": "stream",
     "text": [
      "train - 0.80478   |   valid - 0.68657\n",
      "Average accuracy on crossval is 0.72551\n",
      "Std is 0.03562\n"
     ]
    }
   ],
   "source": [
    "tree_baseline = DecisionTreeClassifier(max_depth=10, random_state=21)\n",
    "\n",
    "kf = StratifiedKFold(n_splits=10, random_state=21)\n",
    "\n",
    "train_scores = []\n",
    "valid_scores = []\n",
    "\n",
    "print(\"K-fold cross-validation natijalari:\")\n",
    "\n",
    "for fold, (train_index, val_index) in enumerate(kf.split(X_train, y_train)):\n",
    "    X_train_fold, X_val_fold = X_train.iloc[train_index], X_train.iloc[val_index]\n",
    "    y_train_fold, y_val_fold = y_train.iloc[train_index], y_train.iloc[val_index]\n",
    "\n",
    "    # Modelni o'rgatish\n",
    "    tree_baseline.fit(X_train_fold, y_train_fold)\n",
    "\n",
    "    # O'quv va validatsiya to'plamlaridagi aniqlikni hisoblash\n",
    "    train_accuracy = tree_baseline.score(X_train_fold, y_train_fold)\n",
    "    val_accuracy = tree_baseline.score(X_val_fold, y_val_fold)\n",
    "\n",
    "    train_scores.append(train_accuracy)\n",
    "    valid_scores.append(val_accuracy)\n",
    "\n",
    "    print(f\"train - {train_accuracy:.5f}   |   valid - {val_accuracy:.5f}\")\n",
    "\n",
    "average_accuracy = np.mean(valid_scores)\n",
    "std_accuracy = np.std(valid_scores)\n",
    "\n",
    "print(f\"Average accuracy on crossval is {average_accuracy:.5f}\")\n",
    "print(f\"Std is {std_accuracy:.5f}\")"
   ]
  },
  {
   "cell_type": "markdown",
   "metadata": {},
   "source": [
    "### b. Optimizing regularization parameters"
   ]
  },
  {
   "cell_type": "markdown",
   "metadata": {},
   "source": [
    "1. In the cells below try different values of the parameter `max_depth`.\n",
    "2. As a bonus, play with other regularization parameters trying to find the best combination."
   ]
  },
  {
   "cell_type": "code",
   "execution_count": 12,
   "metadata": {},
   "outputs": [
    {
     "name": "stdout",
     "output_type": "stream",
     "text": [
      "\n",
      "--- max_depth: 5 ---\n",
      "train - 0.59522   |   valid - 0.53333\n",
      "train - 0.56307   |   valid - 0.53333\n",
      "train - 0.60181   |   valid - 0.55556\n",
      "train - 0.59604   |   valid - 0.57037\n",
      "train - 0.60264   |   valid - 0.57778\n",
      "train - 0.57955   |   valid - 0.53333\n",
      "train - 0.58368   |   valid - 0.54815\n",
      "train - 0.59275   |   valid - 0.51111\n",
      "train - 0.58237   |   valid - 0.56716\n",
      "train - 0.60132   |   valid - 0.50000\n",
      "Average accuracy on crossval is 0.54301\n",
      "Std is 0.02423\n",
      "\n",
      "--- max_depth: 15 ---\n",
      "train - 0.95796   |   valid - 0.82222\n",
      "train - 0.93075   |   valid - 0.83704\n",
      "train - 0.95631   |   valid - 0.83704\n"
     ]
    },
    {
     "name": "stderr",
     "output_type": "stream",
     "text": [
      "C:\\Users\\hp\\AppData\\Roaming\\Python\\Python38\\site-packages\\sklearn\\model_selection\\_split.py:293: FutureWarning: Setting a random_state has no effect since shuffle is False. This will raise an error in 0.24. You should leave random_state to its default (None), or set shuffle=True.\n",
      "  warnings.warn(\n",
      "C:\\Users\\hp\\AppData\\Roaming\\Python\\Python38\\site-packages\\sklearn\\model_selection\\_split.py:293: FutureWarning: Setting a random_state has no effect since shuffle is False. This will raise an error in 0.24. You should leave random_state to its default (None), or set shuffle=True.\n",
      "  warnings.warn(\n"
     ]
    },
    {
     "name": "stdout",
     "output_type": "stream",
     "text": [
      "train - 0.95301   |   valid - 0.86667\n",
      "train - 0.95136   |   valid - 0.88889\n",
      "train - 0.94724   |   valid - 0.82222\n",
      "train - 0.95466   |   valid - 0.90370\n",
      "train - 0.94971   |   valid - 0.87407\n",
      "train - 0.95305   |   valid - 0.83582\n",
      "train - 0.94316   |   valid - 0.85821\n",
      "Average accuracy on crossval is 0.85459\n",
      "Std is 0.02682\n",
      "\n",
      "--- max_depth: 20 ---\n",
      "train - 0.98846   |   valid - 0.86667\n",
      "train - 0.99011   |   valid - 0.91111\n",
      "train - 0.98681   |   valid - 0.85926\n",
      "train - 0.98763   |   valid - 0.91111\n",
      "train - 0.98928   |   valid - 0.88148\n",
      "train - 0.98186   |   valid - 0.85926\n",
      "train - 0.98846   |   valid - 0.91852\n",
      "train - 0.99176   |   valid - 0.89630\n",
      "train - 0.99094   |   valid - 0.88060\n"
     ]
    },
    {
     "name": "stderr",
     "output_type": "stream",
     "text": [
      "C:\\Users\\hp\\AppData\\Roaming\\Python\\Python38\\site-packages\\sklearn\\model_selection\\_split.py:293: FutureWarning: Setting a random_state has no effect since shuffle is False. This will raise an error in 0.24. You should leave random_state to its default (None), or set shuffle=True.\n",
      "  warnings.warn(\n",
      "C:\\Users\\hp\\AppData\\Roaming\\Python\\Python38\\site-packages\\sklearn\\model_selection\\_split.py:293: FutureWarning: Setting a random_state has no effect since shuffle is False. This will raise an error in 0.24. You should leave random_state to its default (None), or set shuffle=True.\n",
      "  warnings.warn(\n"
     ]
    },
    {
     "name": "stdout",
     "output_type": "stream",
     "text": [
      "train - 0.98847   |   valid - 0.88060\n",
      "Average accuracy on crossval is 0.88649\n",
      "Std is 0.02075\n",
      "\n",
      "--- max_depth: 25 ---\n",
      "train - 1.00000   |   valid - 0.85926\n",
      "train - 1.00000   |   valid - 0.91852\n",
      "train - 0.99918   |   valid - 0.86667\n",
      "train - 1.00000   |   valid - 0.91111\n",
      "train - 0.99918   |   valid - 0.88889\n",
      "train - 0.99835   |   valid - 0.85185\n",
      "train - 0.99753   |   valid - 0.92593\n",
      "train - 1.00000   |   valid - 0.88148\n",
      "train - 1.00000   |   valid - 0.88060\n",
      "train - 1.00000   |   valid - 0.88060\n",
      "Average accuracy on crossval is 0.88649\n",
      "Std is 0.02371\n",
      "\n",
      "--- Bonus: Boshqa regularizatsiya parametrlari bilan o'ynash ---\n",
      "\n",
      "Kombinatsiya 1: max_depth=10, min_samples_split=10, min_samples_leaf=5\n",
      "train - 0.75021   |   valid - 0.73333\n",
      "train - 0.74361   |   valid - 0.72593\n",
      "train - 0.75350   |   valid - 0.65185\n",
      "train - 0.73042   |   valid - 0.68889\n",
      "train - 0.75350   |   valid - 0.66667\n",
      "train - 0.73372   |   valid - 0.68889\n",
      "train - 0.74773   |   valid - 0.60741\n",
      "train - 0.76669   |   valid - 0.64444\n",
      "train - 0.73888   |   valid - 0.75373\n",
      "train - 0.76030   |   valid - 0.65672\n",
      "Average accuracy on crossval is 0.68179\n",
      "Std is 0.04308\n",
      "\n",
      "Kombinatsiya 2: max_depth=15, max_features='sqrt'\n",
      "train - 0.89530   |   valid - 0.80741\n",
      "train - 0.85078   |   valid - 0.76296\n",
      "train - 0.85491   |   valid - 0.80000\n",
      "train - 0.84584   |   valid - 0.80741\n",
      "train - 0.87552   |   valid - 0.80000\n",
      "train - 0.84584   |   valid - 0.80000\n",
      "train - 0.87634   |   valid - 0.77037\n",
      "train - 0.88706   |   valid - 0.80741\n",
      "train - 0.82372   |   valid - 0.86567\n",
      "train - 0.84514   |   valid - 0.70896\n",
      "Average accuracy on crossval is 0.79302\n",
      "Std is 0.03812\n"
     ]
    }
   ],
   "source": [
    "max_depth_values = [5, 15, 20, 25]\n",
    "\n",
    "for depth in max_depth_values:\n",
    "    print(f\"\\n--- max_depth: {depth} ---\")\n",
    "    tree_tuned = DecisionTreeClassifier(max_depth=depth, random_state=21)\n",
    "\n",
    "    kf = StratifiedKFold(n_splits=10, random_state=21)\n",
    "\n",
    "    train_scores_depth = []\n",
    "    valid_scores_depth = []\n",
    "\n",
    "    for fold, (train_index, val_index) in enumerate(kf.split(X_train, y_train)):\n",
    "        X_train_fold, X_val_fold = X_train.iloc[train_index], X_train.iloc[val_index]\n",
    "        y_train_fold, y_val_fold = y_train.iloc[train_index], y_train.iloc[val_index]\n",
    "\n",
    "        tree_tuned.fit(X_train_fold, y_train_fold)\n",
    "\n",
    "        # O'quv va validatsiya to'plamlaridagi aniqlikni hisoblash\n",
    "        train_accuracy = tree_tuned.score(X_train_fold, y_train_fold)\n",
    "        val_accuracy = tree_tuned.score(X_val_fold, y_val_fold)\n",
    "\n",
    "        train_scores_depth.append(train_accuracy)\n",
    "        valid_scores_depth.append(val_accuracy)\n",
    "\n",
    "        print(f\"train - {train_accuracy:.5f}   |   valid - {val_accuracy:.5f}\")\n",
    "\n",
    "    average_accuracy = np.mean(valid_scores_depth)\n",
    "    std_accuracy = np.std(valid_scores_depth)\n",
    "\n",
    "    print(f\"Average accuracy on crossval is {average_accuracy:.5f}\")\n",
    "    print(f\"Std is {std_accuracy:.5f}\")\n",
    "\n",
    "\n",
    "print(\"\\n--- Bonus: Boshqa regularizatsiya parametrlari bilan o'ynash ---\")\n",
    "\n",
    "print(\"\\nKombinatsiya 1: max_depth=10, min_samples_split=10, min_samples_leaf=5\")\n",
    "tree_bonus1 = DecisionTreeClassifier(max_depth=10, min_samples_split=10, min_samples_leaf=5, random_state=21)\n",
    "\n",
    "train_scores_b1 = []\n",
    "valid_scores_b1 = []\n",
    "\n",
    "kf = StratifiedKFold(n_splits=10, shuffle=True, random_state=21)\n",
    "\n",
    "for fold, (train_index, val_index) in enumerate(kf.split(X_train, y_train)):\n",
    "    X_train_fold, X_val_fold = X_train.iloc[train_index], X_train.iloc[val_index]\n",
    "    y_train_fold, y_val_fold = y_train.iloc[train_index], y_train.iloc[val_index]\n",
    "\n",
    "    tree_bonus1.fit(X_train_fold, y_train_fold)\n",
    "\n",
    "    train_accuracy = tree_bonus1.score(X_train_fold, y_train_fold)\n",
    "    val_accuracy = tree_bonus1.score(X_val_fold, y_val_fold)\n",
    "\n",
    "    train_scores_b1.append(train_accuracy)\n",
    "    valid_scores_b1.append(val_accuracy)\n",
    "\n",
    "    print(f\"train - {train_accuracy:.5f}   |   valid - {val_accuracy:.5f}\")\n",
    "\n",
    "print(f\"Average accuracy on crossval is {np.mean(valid_scores_b1):.5f}\")\n",
    "print(f\"Std is {np.std(valid_scores_b1):.5f}\")\n",
    "\n",
    "print(\"\\nKombinatsiya 2: max_depth=15, max_features='sqrt'\")\n",
    "tree_bonus2 = DecisionTreeClassifier(max_depth=15, max_features='sqrt', random_state=21) # 'sqrt' - xususiyatlar sonining kvadrat ildizi\n",
    "\n",
    "train_scores_b2 = []\n",
    "valid_scores_b2 = []\n",
    "\n",
    "kf = StratifiedKFold(n_splits=10, shuffle=True, random_state=21)\n",
    "\n",
    "for fold, (train_index, val_index) in enumerate(kf.split(X_train, y_train)):\n",
    "    X_train_fold, X_val_fold = X_train.iloc[train_index], X_train.iloc[val_index]\n",
    "    y_train_fold, y_val_fold = y_train.iloc[train_index], y_train.iloc[val_index]\n",
    "    tree_bonus2.fit(X_train_fold, y_train_fold)\n",
    "\n",
    "    train_accuracy = tree_bonus2.score(X_train_fold, y_train_fold)\n",
    "    val_accuracy = tree_bonus2.score(X_val_fold, y_val_fold)\n",
    "\n",
    "    train_scores_b2.append(train_accuracy)\n",
    "    valid_scores_b2.append(val_accuracy)\n",
    "\n",
    "    print(f\"train - {train_accuracy:.5f}   |   valid - {val_accuracy:.5f}\")\n",
    "\n",
    "print(f\"Average accuracy on crossval is {np.mean(valid_scores_b2):.5f}\")\n",
    "print(f\"Std is {np.std(valid_scores_b2):.5f}\")"
   ]
  },
  {
   "cell_type": "markdown",
   "metadata": {},
   "source": [
    "## 5. Random forest"
   ]
  },
  {
   "cell_type": "markdown",
   "metadata": {},
   "source": [
    "### a. Default regularization"
   ]
  },
  {
   "cell_type": "markdown",
   "metadata": {},
   "source": [
    "1. Train a baseline model with the only parameters `n_estimators=50`, `max_depth=14`, `random_state=21`.\n",
    "2. Use stratified K-fold cross-validation with `10` splits to evaluate the accuracy of the model.\n",
    "3. The format of the result of the code where you trained and evaluated the baseline model should be similar to what you have got for the logreg."
   ]
  },
  {
   "cell_type": "code",
   "execution_count": 13,
   "metadata": {},
   "outputs": [
    {
     "name": "stdout",
     "output_type": "stream",
     "text": [
      "K-fold cross-validation natijalari:\n"
     ]
    },
    {
     "name": "stderr",
     "output_type": "stream",
     "text": [
      "C:\\Users\\hp\\AppData\\Roaming\\Python\\Python38\\site-packages\\sklearn\\model_selection\\_split.py:293: FutureWarning: Setting a random_state has no effect since shuffle is False. This will raise an error in 0.24. You should leave random_state to its default (None), or set shuffle=True.\n",
      "  warnings.warn(\n"
     ]
    },
    {
     "name": "stdout",
     "output_type": "stream",
     "text": [
      "train - 0.96455   |   valid - 0.88148\n",
      "train - 0.96208   |   valid - 0.91852\n",
      "train - 0.96785   |   valid - 0.86667\n",
      "train - 0.96455   |   valid - 0.89630\n",
      "train - 0.96538   |   valid - 0.91111\n",
      "train - 0.96538   |   valid - 0.88148\n",
      "train - 0.97115   |   valid - 0.91852\n",
      "train - 0.96867   |   valid - 0.85185\n",
      "train - 0.97364   |   valid - 0.88060\n",
      "train - 0.97941   |   valid - 0.86567\n",
      "Average accuracy on crossval is 0.88722\n",
      "Std is 0.02204\n"
     ]
    }
   ],
   "source": [
    "# n_estimators=50 - o'rmondagi daraxtlar soni.\n",
    "forest_baseline = RandomForestClassifier(n_estimators=50, max_depth=14, random_state=21)\n",
    "\n",
    "kf = StratifiedKFold(n_splits=10, random_state=21)\n",
    "\n",
    "train_scores = []\n",
    "valid_scores = []\n",
    "\n",
    "print(\"K-fold cross-validation natijalari:\")\n",
    "\n",
    "for fold, (train_index, val_index) in enumerate(kf.split(X_train, y_train)):\n",
    "    X_train_fold, X_val_fold = X_train.iloc[train_index], X_train.iloc[val_index]\n",
    "    y_train_fold, y_val_fold = y_train.iloc[train_index], y_train.iloc[val_index]\n",
    "\n",
    "    # Modelni o'rgatish\n",
    "    forest_baseline.fit(X_train_fold, y_train_fold)\n",
    "\n",
    "    # O'quv va validatsiya to'plamlaridagi aniqlikni hisoblash\n",
    "    train_accuracy = forest_baseline.score(X_train_fold, y_train_fold)\n",
    "    val_accuracy = forest_baseline.score(X_val_fold, y_val_fold)\n",
    "\n",
    "    train_scores.append(train_accuracy)\n",
    "    valid_scores.append(val_accuracy)\n",
    "\n",
    "    print(f\"train - {train_accuracy:.5f}   |   valid - {val_accuracy:.5f}\")\n",
    "\n",
    "average_accuracy = np.mean(valid_scores)\n",
    "std_accuracy = np.std(valid_scores)\n",
    "\n",
    "print(f\"Average accuracy on crossval is {average_accuracy:.5f}\")\n",
    "print(f\"Std is {std_accuracy:.5f}\")"
   ]
  },
  {
   "cell_type": "markdown",
   "metadata": {},
   "source": [
    "### b. Optimizing regularization parameters"
   ]
  },
  {
   "cell_type": "markdown",
   "metadata": {},
   "source": [
    "1. In the new cells try different values of the parameters `max_depth` and `n_estimators`.\n",
    "2. As a bonus, play with other regularization parameters trying to find the best combination."
   ]
  },
  {
   "cell_type": "code",
   "execution_count": 14,
   "metadata": {},
   "outputs": [
    {
     "name": "stdout",
     "output_type": "stream",
     "text": [
      "\n",
      "--- n_estimators: 30, max_depth: 10 ---\n",
      "train - 0.82852   |   valid - 0.76296\n",
      "train - 0.85408   |   valid - 0.80741\n"
     ]
    },
    {
     "name": "stderr",
     "output_type": "stream",
     "text": [
      "C:\\Users\\hp\\AppData\\Roaming\\Python\\Python38\\site-packages\\sklearn\\model_selection\\_split.py:293: FutureWarning: Setting a random_state has no effect since shuffle is False. This will raise an error in 0.24. You should leave random_state to its default (None), or set shuffle=True.\n",
      "  warnings.warn(\n"
     ]
    },
    {
     "name": "stdout",
     "output_type": "stream",
     "text": [
      "train - 0.87139   |   valid - 0.80741\n",
      "train - 0.86480   |   valid - 0.80000\n",
      "train - 0.88458   |   valid - 0.86667\n",
      "train - 0.88046   |   valid - 0.76296\n",
      "train - 0.85573   |   valid - 0.80741\n",
      "train - 0.85491   |   valid - 0.72593\n",
      "train - 0.89456   |   valid - 0.80597\n",
      "train - 0.87974   |   valid - 0.76119\n",
      "Average accuracy on crossval is 0.79079\n",
      "Std is 0.03679\n",
      "\n",
      "--- n_estimators: 30, max_depth: 18 ---\n",
      "train - 0.99340   |   valid - 0.89630\n",
      "train - 0.99176   |   valid - 0.94074\n"
     ]
    },
    {
     "name": "stderr",
     "output_type": "stream",
     "text": [
      "C:\\Users\\hp\\AppData\\Roaming\\Python\\Python38\\site-packages\\sklearn\\model_selection\\_split.py:293: FutureWarning: Setting a random_state has no effect since shuffle is False. This will raise an error in 0.24. You should leave random_state to its default (None), or set shuffle=True.\n",
      "  warnings.warn(\n"
     ]
    },
    {
     "name": "stdout",
     "output_type": "stream",
     "text": [
      "train - 0.99176   |   valid - 0.89630\n",
      "train - 0.99258   |   valid - 0.90370\n",
      "train - 0.98681   |   valid - 0.91111\n",
      "train - 0.99588   |   valid - 0.89630\n",
      "train - 0.99423   |   valid - 0.91111\n",
      "train - 0.99505   |   valid - 0.88148\n",
      "train - 0.99588   |   valid - 0.90299\n",
      "train - 0.98929   |   valid - 0.88806\n",
      "Average accuracy on crossval is 0.90281\n",
      "Std is 0.01542\n",
      "\n",
      "--- n_estimators: 30, max_depth: 25 ---\n"
     ]
    },
    {
     "name": "stderr",
     "output_type": "stream",
     "text": [
      "C:\\Users\\hp\\AppData\\Roaming\\Python\\Python38\\site-packages\\sklearn\\model_selection\\_split.py:293: FutureWarning: Setting a random_state has no effect since shuffle is False. This will raise an error in 0.24. You should leave random_state to its default (None), or set shuffle=True.\n",
      "  warnings.warn(\n"
     ]
    },
    {
     "name": "stdout",
     "output_type": "stream",
     "text": [
      "train - 0.99918   |   valid - 0.90370\n",
      "train - 0.99835   |   valid - 0.93333\n",
      "train - 0.99753   |   valid - 0.88889\n",
      "train - 0.99918   |   valid - 0.94074\n",
      "train - 0.99753   |   valid - 0.91852\n",
      "train - 0.99918   |   valid - 0.88889\n",
      "train - 0.99918   |   valid - 0.92593\n",
      "train - 0.99918   |   valid - 0.89630\n",
      "train - 0.99918   |   valid - 0.91045\n",
      "train - 0.99918   |   valid - 0.89552\n",
      "Average accuracy on crossval is 0.91023\n",
      "Std is 0.01773\n",
      "\n",
      "--- n_estimators: 70, max_depth: 10 ---\n"
     ]
    },
    {
     "name": "stderr",
     "output_type": "stream",
     "text": [
      "C:\\Users\\hp\\AppData\\Roaming\\Python\\Python38\\site-packages\\sklearn\\model_selection\\_split.py:293: FutureWarning: Setting a random_state has no effect since shuffle is False. This will raise an error in 0.24. You should leave random_state to its default (None), or set shuffle=True.\n",
      "  warnings.warn(\n"
     ]
    },
    {
     "name": "stdout",
     "output_type": "stream",
     "text": [
      "train - 0.86315   |   valid - 0.77778\n",
      "train - 0.87634   |   valid - 0.83704\n",
      "train - 0.88788   |   valid - 0.80000\n",
      "train - 0.90107   |   valid - 0.82222\n",
      "train - 0.88293   |   valid - 0.85185\n",
      "train - 0.87881   |   valid - 0.77037\n",
      "train - 0.87716   |   valid - 0.82963\n",
      "train - 0.86562   |   valid - 0.75556\n",
      "train - 0.89127   |   valid - 0.82090\n",
      "train - 0.89292   |   valid - 0.76866\n",
      "Average accuracy on crossval is 0.80340\n",
      "Std is 0.03175\n",
      "\n",
      "--- n_estimators: 70, max_depth: 18 ---\n"
     ]
    },
    {
     "name": "stderr",
     "output_type": "stream",
     "text": [
      "C:\\Users\\hp\\AppData\\Roaming\\Python\\Python38\\site-packages\\sklearn\\model_selection\\_split.py:293: FutureWarning: Setting a random_state has no effect since shuffle is False. This will raise an error in 0.24. You should leave random_state to its default (None), or set shuffle=True.\n",
      "  warnings.warn(\n"
     ]
    },
    {
     "name": "stdout",
     "output_type": "stream",
     "text": [
      "train - 0.99176   |   valid - 0.90370\n",
      "train - 0.99423   |   valid - 0.94074\n",
      "train - 0.99340   |   valid - 0.89630\n",
      "train - 0.99505   |   valid - 0.92593\n",
      "train - 0.99176   |   valid - 0.91852\n",
      "train - 0.99423   |   valid - 0.88148\n",
      "train - 0.99423   |   valid - 0.91852\n",
      "train - 0.99670   |   valid - 0.87407\n",
      "train - 0.99423   |   valid - 0.91791\n",
      "train - 0.99094   |   valid - 0.89552\n",
      "Average accuracy on crossval is 0.90727\n",
      "Std is 0.01968\n",
      "\n",
      "--- n_estimators: 70, max_depth: 25 ---\n"
     ]
    },
    {
     "name": "stderr",
     "output_type": "stream",
     "text": [
      "C:\\Users\\hp\\AppData\\Roaming\\Python\\Python38\\site-packages\\sklearn\\model_selection\\_split.py:293: FutureWarning: Setting a random_state has no effect since shuffle is False. This will raise an error in 0.24. You should leave random_state to its default (None), or set shuffle=True.\n",
      "  warnings.warn(\n"
     ]
    },
    {
     "name": "stdout",
     "output_type": "stream",
     "text": [
      "train - 0.99918   |   valid - 0.90370\n",
      "train - 0.99918   |   valid - 0.95556\n",
      "train - 0.99918   |   valid - 0.90370\n",
      "train - 0.99918   |   valid - 0.94074\n",
      "train - 0.99918   |   valid - 0.91852\n",
      "train - 0.99753   |   valid - 0.89630\n",
      "train - 0.99918   |   valid - 0.92593\n",
      "train - 0.99918   |   valid - 0.88889\n",
      "train - 1.00000   |   valid - 0.92537\n",
      "train - 1.00000   |   valid - 0.91045\n",
      "Average accuracy on crossval is 0.91692\n",
      "Std is 0.01954\n",
      "\n",
      "--- n_estimators: 100, max_depth: 10 ---\n",
      "train - 0.86562   |   valid - 0.77037\n"
     ]
    },
    {
     "name": "stderr",
     "output_type": "stream",
     "text": [
      "C:\\Users\\hp\\AppData\\Roaming\\Python\\Python38\\site-packages\\sklearn\\model_selection\\_split.py:293: FutureWarning: Setting a random_state has no effect since shuffle is False. This will raise an error in 0.24. You should leave random_state to its default (None), or set shuffle=True.\n",
      "  warnings.warn(\n"
     ]
    },
    {
     "name": "stdout",
     "output_type": "stream",
     "text": [
      "train - 0.88293   |   valid - 0.85185\n",
      "train - 0.89118   |   valid - 0.80000\n",
      "train - 0.90107   |   valid - 0.82963\n",
      "train - 0.87634   |   valid - 0.84444\n",
      "train - 0.87716   |   valid - 0.77037\n",
      "train - 0.87057   |   valid - 0.81481\n",
      "train - 0.87799   |   valid - 0.76296\n",
      "train - 0.88056   |   valid - 0.79104\n",
      "train - 0.88056   |   valid - 0.78358\n",
      "Average accuracy on crossval is 0.80191\n",
      "Std is 0.03034\n",
      "\n",
      "--- n_estimators: 100, max_depth: 18 ---\n"
     ]
    },
    {
     "name": "stderr",
     "output_type": "stream",
     "text": [
      "C:\\Users\\hp\\AppData\\Roaming\\Python\\Python38\\site-packages\\sklearn\\model_selection\\_split.py:293: FutureWarning: Setting a random_state has no effect since shuffle is False. This will raise an error in 0.24. You should leave random_state to its default (None), or set shuffle=True.\n",
      "  warnings.warn(\n"
     ]
    },
    {
     "name": "stdout",
     "output_type": "stream",
     "text": [
      "train - 0.99258   |   valid - 0.89630\n",
      "train - 0.99505   |   valid - 0.93333\n",
      "train - 0.99340   |   valid - 0.89630\n",
      "train - 0.99588   |   valid - 0.92593\n",
      "train - 0.99093   |   valid - 0.91852\n",
      "train - 0.99423   |   valid - 0.88889\n",
      "train - 0.99340   |   valid - 0.91111\n",
      "train - 0.99505   |   valid - 0.88889\n",
      "train - 0.99423   |   valid - 0.92537\n",
      "train - 0.99259   |   valid - 0.89552\n",
      "Average accuracy on crossval is 0.90802\n",
      "Std is 0.01595\n",
      "\n",
      "--- n_estimators: 100, max_depth: 25 ---\n"
     ]
    },
    {
     "name": "stderr",
     "output_type": "stream",
     "text": [
      "C:\\Users\\hp\\AppData\\Roaming\\Python\\Python38\\site-packages\\sklearn\\model_selection\\_split.py:293: FutureWarning: Setting a random_state has no effect since shuffle is False. This will raise an error in 0.24. You should leave random_state to its default (None), or set shuffle=True.\n",
      "  warnings.warn(\n"
     ]
    },
    {
     "name": "stdout",
     "output_type": "stream",
     "text": [
      "train - 0.99918   |   valid - 0.90370\n",
      "train - 0.99918   |   valid - 0.96296\n",
      "train - 0.99918   |   valid - 0.89630\n",
      "train - 1.00000   |   valid - 0.94074\n",
      "train - 0.99918   |   valid - 0.91852\n",
      "train - 0.99835   |   valid - 0.89630\n",
      "train - 0.99918   |   valid - 0.92593\n",
      "train - 0.99918   |   valid - 0.89630\n",
      "train - 1.00000   |   valid - 0.93284\n",
      "train - 1.00000   |   valid - 0.90299\n",
      "Average accuracy on crossval is 0.91766\n",
      "Std is 0.02160\n"
     ]
    }
   ],
   "source": [
    "n_estimators_values = [30, 70, 100]\n",
    "max_depth_values = [10, 18, 25]\n",
    "\n",
    "for n_est in n_estimators_values:\n",
    "    for depth in max_depth_values:\n",
    "        print(f\"\\n--- n_estimators: {n_est}, max_depth: {depth} ---\")\n",
    "        forest_tuned = RandomForestClassifier(n_estimators=n_est, max_depth=depth, random_state=21)\n",
    "\n",
    "        kf = StratifiedKFold(n_splits=10, random_state=21)\n",
    "\n",
    "        train_scores_comb = []\n",
    "        valid_scores_comb = []\n",
    "\n",
    "        for fold, (train_index, val_index) in enumerate(kf.split(X_train, y_train)):\n",
    "            X_train_fold, X_val_fold = X_train.iloc[train_index], X_train.iloc[val_index]\n",
    "            y_train_fold, y_val_fold = y_train.iloc[train_index], y_train.iloc[val_index]\n",
    "\n",
    "            # Modelni o'rgatish\n",
    "            forest_tuned.fit(X_train_fold, y_train_fold)\n",
    "\n",
    "            # O'quv va validatsiya to'plamlaridagi aniqlikni hisoblash\n",
    "            train_accuracy = forest_tuned.score(X_train_fold, y_train_fold)\n",
    "            val_accuracy = forest_tuned.score(X_val_fold, y_val_fold)\n",
    "\n",
    "            train_scores_comb.append(train_accuracy)\n",
    "            valid_scores_comb.append(val_accuracy)\n",
    "\n",
    "            print(f\"train - {train_accuracy:.5f}   |   valid - {val_accuracy:.5f}\")\n",
    "\n",
    "        average_accuracy = np.mean(valid_scores_comb)\n",
    "        std_accuracy = np.std(valid_scores_comb)\n",
    "\n",
    "        print(f\"Average accuracy on crossval is {average_accuracy:.5f}\")\n",
    "        print(f\"Std is {std_accuracy:.5f}\")"
   ]
  },
  {
   "cell_type": "code",
   "execution_count": 15,
   "metadata": {},
   "outputs": [
    {
     "name": "stdout",
     "output_type": "stream",
     "text": [
      "\n",
      "Kombinatsiya 1: n_estimators=70, max_depth=18, min_samples_split=5, min_samples_leaf=2\n",
      "train - 0.92333   |   valid - 0.84444\n"
     ]
    },
    {
     "name": "stderr",
     "output_type": "stream",
     "text": [
      "C:\\Users\\hp\\AppData\\Roaming\\Python\\Python38\\site-packages\\sklearn\\model_selection\\_split.py:293: FutureWarning: Setting a random_state has no effect since shuffle is False. This will raise an error in 0.24. You should leave random_state to its default (None), or set shuffle=True.\n",
      "  warnings.warn(\n"
     ]
    },
    {
     "name": "stdout",
     "output_type": "stream",
     "text": [
      "train - 0.93570   |   valid - 0.88889\n",
      "train - 0.93405   |   valid - 0.85185\n",
      "train - 0.93487   |   valid - 0.85926\n",
      "train - 0.93487   |   valid - 0.89630\n",
      "train - 0.92168   |   valid - 0.85926\n",
      "train - 0.93322   |   valid - 0.89630\n",
      "train - 0.92828   |   valid - 0.81481\n",
      "train - 0.92751   |   valid - 0.86567\n",
      "train - 0.93328   |   valid - 0.85075\n",
      "Average accuracy on crossval is 0.86275\n",
      "Std is 0.02421\n"
     ]
    }
   ],
   "source": [
    "print(\"\\nKombinatsiya 1: n_estimators=70, max_depth=18, min_samples_split=5, min_samples_leaf=2\")\n",
    "forest_bonus1 = RandomForestClassifier(n_estimators=70, max_depth=18, min_samples_split=5, min_samples_leaf=2, random_state=21)\n",
    "\n",
    "train_scores_b1 = []\n",
    "valid_scores_b1 = []\n",
    "\n",
    "kf = StratifiedKFold(n_splits=10, random_state=21)\n",
    "\n",
    "for fold, (train_index, val_index) in enumerate(kf.split(X_train, y_train)):\n",
    "    X_train_fold, X_val_fold = X_train.iloc[train_index], X_train.iloc[val_index]\n",
    "    y_train_fold, y_val_fold = y_train.iloc[train_index], y_train.iloc[val_index]\n",
    "\n",
    "    forest_bonus1.fit(X_train_fold, y_train_fold)\n",
    "\n",
    "    train_accuracy = forest_bonus1.score(X_train_fold, y_train_fold)\n",
    "    val_accuracy = forest_bonus1.score(X_val_fold, y_val_fold)\n",
    "\n",
    "    train_scores_b1.append(train_accuracy)\n",
    "    valid_scores_b1.append(val_accuracy)\n",
    "\n",
    "    print(f\"train - {train_accuracy:.5f}   |   valid - {val_accuracy:.5f}\")\n",
    "\n",
    "print(f\"Average accuracy on crossval is {np.mean(valid_scores_b1):.5f}\")\n",
    "print(f\"Std is {np.std(valid_scores_b1):.5f}\")"
   ]
  },
  {
   "cell_type": "code",
   "execution_count": 16,
   "metadata": {},
   "outputs": [
    {
     "name": "stdout",
     "output_type": "stream",
     "text": [
      "\n",
      "Kombinatsiya 2: n_estimators=100, max_depth=14, max_features='sqrt', bootstrap=False\n",
      "train - 0.97527   |   valid - 0.90370\n"
     ]
    },
    {
     "name": "stderr",
     "output_type": "stream",
     "text": [
      "C:\\Users\\hp\\AppData\\Roaming\\Python\\Python38\\site-packages\\sklearn\\model_selection\\_split.py:293: FutureWarning: Setting a random_state has no effect since shuffle is False. This will raise an error in 0.24. You should leave random_state to its default (None), or set shuffle=True.\n",
      "  warnings.warn(\n"
     ]
    },
    {
     "name": "stdout",
     "output_type": "stream",
     "text": [
      "train - 0.97692   |   valid - 0.90370\n",
      "train - 0.98434   |   valid - 0.89630\n",
      "train - 0.97692   |   valid - 0.89630\n",
      "train - 0.97444   |   valid - 0.91111\n",
      "train - 0.98516   |   valid - 0.86667\n",
      "train - 0.97774   |   valid - 0.91111\n",
      "train - 0.97527   |   valid - 0.88889\n",
      "train - 0.97694   |   valid - 0.88060\n",
      "train - 0.98188   |   valid - 0.88060\n",
      "Average accuracy on crossval is 0.89390\n",
      "Std is 0.01385\n"
     ]
    }
   ],
   "source": [
    "print(\"\\nKombinatsiya 2: n_estimators=100, max_depth=14, max_features='sqrt', bootstrap=False\")\n",
    "# bootstrap=False - har bir daraxt butun o'quv ma'lumotlar to'plamida o'qitiladi (o'rin almashtirmasdan namuna olinmaydi)\n",
    "forest_bonus2 = RandomForestClassifier(n_estimators=100, max_depth=14, max_features='sqrt', bootstrap=False, random_state=21)\n",
    "\n",
    "train_scores_b2 = []\n",
    "valid_scores_b2 = []\n",
    "\n",
    "kf = StratifiedKFold(n_splits=10, random_state=21)\n",
    "\n",
    "for fold, (train_index, val_index) in enumerate(kf.split(X_train, y_train)):\n",
    "    X_train_fold, X_val_fold = X_train.iloc[train_index], X_train.iloc[val_index]\n",
    "    y_train_fold, y_val_fold = y_train.iloc[train_index], y_train.iloc[val_index]\n",
    "\n",
    "    forest_bonus2.fit(X_train_fold, y_train_fold)\n",
    "\n",
    "    train_accuracy = forest_bonus2.score(X_train_fold, y_train_fold)\n",
    "    val_accuracy = forest_bonus2.score(X_val_fold, y_val_fold)\n",
    "\n",
    "    train_scores_b2.append(train_accuracy)\n",
    "    valid_scores_b2.append(val_accuracy)\n",
    "\n",
    "    print(f\"train - {train_accuracy:.5f}   |   valid - {val_accuracy:.5f}\")\n",
    "\n",
    "print(f\"Average accuracy on crossval is {np.mean(valid_scores_b2):.5f}\")\n",
    "print(f\"Std is {np.std(valid_scores_b2):.5f}\")"
   ]
  },
  {
   "cell_type": "markdown",
   "metadata": {},
   "source": [
    "## 6. Predictions"
   ]
  },
  {
   "cell_type": "markdown",
   "metadata": {},
   "source": [
    "1. Choose the best model and use it to make predictions for the test dataset.\n",
    "2. Calculate the final accuracy.\n",
    "3. Analyze: for which weekday your model makes the most errors (in % of the total number of samples of that class in your test dataset).\n",
    "4. Save the model."
   ]
  },
  {
   "cell_type": "code",
   "execution_count": 17,
   "metadata": {},
   "outputs": [
    {
     "name": "stdout",
     "output_type": "stream",
     "text": [
      "Modelning test ma'lumotlar to'plamidagi yakuniy aniqligi: 0.93787\n",
      "              precision    recall  f1-score   support\n",
      "\n",
      "           0       0.87      0.74      0.80        27\n",
      "           1       1.00      0.95      0.97        55\n",
      "           2       1.00      0.93      0.97        30\n",
      "           3       0.94      0.97      0.96        80\n",
      "           4       0.90      0.86      0.88        21\n",
      "           5       0.88      0.94      0.91        54\n",
      "           6       0.95      0.99      0.97        71\n",
      "\n",
      "    accuracy                           0.94       338\n",
      "   macro avg       0.93      0.91      0.92       338\n",
      "weighted avg       0.94      0.94      0.94       338\n",
      "\n"
     ]
    }
   ],
   "source": [
    "# Eng yaxshi modelni aniqlash\n",
    "best_model = RandomForestClassifier(n_estimators=100, max_depth=25, random_state=21, max_features='sqrt', bootstrap=False)\n",
    "best_model.fit(X_train, y_train)\n",
    "y_pred = best_model.predict(X_test)\n",
    "final_accuracy = accuracy_score(y_test, y_pred)\n",
    "print(f\"Modelning test ma'lumotlar to'plamidagi yakuniy aniqligi: {final_accuracy:.5f}\")\n",
    "print(classification_report(y_test, y_pred))"
   ]
  },
  {
   "cell_type": "code",
   "execution_count": 18,
   "metadata": {},
   "outputs": [
    {
     "name": "stdout",
     "output_type": "stream",
     "text": [
      "\n",
      "Modelning haftaning kunlari bo'yicha xato foizlari:\n",
      "Hafta kuni 0: 7 ta xato / 27 ta umumiy namuna (25.93%)\n",
      "Hafta kuni 1: 3 ta xato / 55 ta umumiy namuna (5.45%)\n",
      "Hafta kuni 2: 2 ta xato / 30 ta umumiy namuna (6.67%)\n",
      "Hafta kuni 3: 2 ta xato / 80 ta umumiy namuna (2.50%)\n",
      "Hafta kuni 4: 3 ta xato / 21 ta umumiy namuna (14.29%)\n",
      "Hafta kuni 5: 3 ta xato / 54 ta umumiy namuna (5.56%)\n",
      "Hafta kuni 6: 1 ta xato / 71 ta umumiy namuna (1.41%)\n",
      "\n",
      "Model eng ko'p xatolarni Haftaning kuni 0 uchun qildi: 25.93% xato.\n"
     ]
    }
   ],
   "source": [
    "# Har bir sinf bo'yicha xatolarni tahlil qilish\n",
    "errors_by_class = {}\n",
    "total_by_class = y_test.value_counts().sort_index() # Har bir sinfning test to'plamidagi umumiy soni\n",
    "\n",
    "for i in range(len(y_test)):\n",
    "    true_label = y_test.iloc[i]\n",
    "    predicted_label = y_pred[i]\n",
    "\n",
    "    if true_label != predicted_label:\n",
    "        if true_label not in errors_by_class:\n",
    "            errors_by_class[true_label] = 0\n",
    "        errors_by_class[true_label] += 1\n",
    "\n",
    "print(\"\\nModelning haftaning kunlari bo'yicha xato foizlari:\")\n",
    "for weekday, error_count in sorted(errors_by_class.items()):\n",
    "    total_samples = total_by_class[weekday]\n",
    "    error_percentage = (error_count / total_samples) * 100\n",
    "    print(f\"Hafta kuni {weekday}: {error_count} ta xato / {total_samples} ta umumiy namuna ({error_percentage:.2f}%)\")\n",
    "\n",
    "# Qaysi haftaning kuni eng ko'p xato qilganini aniqlash\n",
    "if errors_by_class:\n",
    "    most_errors_weekday = max(errors_by_class, key=errors_by_class.get)\n",
    "    most_errors_percentage = (errors_by_class[most_errors_weekday] / total_by_class[most_errors_weekday]) * 100\n",
    "    print(f\"\\nModel eng ko'p xatolarni Haftaning kuni {most_errors_weekday} uchun qildi: {most_errors_percentage:.2f}% xato.\")\n",
    "else:\n",
    "    print(\"\\nModel test ma'lumotlarida xato qilmadi (bu juda kam ehtimol).\")"
   ]
  },
  {
   "cell_type": "code",
   "execution_count": 19,
   "metadata": {},
   "outputs": [
    {
     "data": {
      "text/plain": [
       "['best_regularized_model.pkl']"
      ]
     },
     "execution_count": 19,
     "metadata": {},
     "output_type": "execute_result"
    }
   ],
   "source": [
    "model_filename = \"best_regularized_model.pkl\"\n",
    "joblib.dump(best_model, model_filename)"
   ]
  }
 ],
 "metadata": {
  "kernelspec": {
   "display_name": "Python 3",
   "language": "python",
   "name": "python3"
  },
  "language_info": {
   "codemirror_mode": {
    "name": "ipython",
    "version": 3
   },
   "file_extension": ".py",
   "mimetype": "text/x-python",
   "name": "python",
   "nbconvert_exporter": "python",
   "pygments_lexer": "ipython3",
   "version": "3.8.10"
  }
 },
 "nbformat": 4,
 "nbformat_minor": 4
}
