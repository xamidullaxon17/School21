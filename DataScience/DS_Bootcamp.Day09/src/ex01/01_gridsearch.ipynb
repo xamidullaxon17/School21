{
 "cells": [
  {
   "cell_type": "markdown",
   "metadata": {
    "id": "gJm_8nRDyUp7"
   },
   "source": [
    "# Day 09. Exercise 01\n",
    "# Gridsearch"
   ]
  },
  {
   "cell_type": "markdown",
   "metadata": {
    "id": "OLB1I9UiyUp-"
   },
   "source": [
    "## 0. Imports"
   ]
  },
  {
   "cell_type": "code",
   "execution_count": 1,
   "metadata": {
    "id": "rjrDzFRzyUp_"
   },
   "outputs": [],
   "source": [
    "import pandas as pd\n",
    "from sklearn.model_selection import train_test_split\n",
    "from sklearn.svm import SVC\n",
    "from sklearn.model_selection import GridSearchCV\n",
    "import warnings\n",
    "from sklearn.tree import DecisionTreeClassifier\n",
    "import numpy as np\n",
    "from sklearn.ensemble import RandomForestClassifier\n",
    "from tqdm.notebook import tqdm\n",
    "from sklearn.model_selection import cross_val_score, StratifiedKFold\n",
    "from sklearn.metrics import accuracy_score\n",
    "import joblib"
   ]
  },
  {
   "cell_type": "markdown",
   "metadata": {
    "id": "F8zodjDJyUqA"
   },
   "source": [
    "## 1. Preprocessing"
   ]
  },
  {
   "cell_type": "markdown",
   "metadata": {
    "id": "PWR10A1TyUqA"
   },
   "source": [
    "1. Read the file [`day-of-week-not-scaled.csv`](https://drive.google.com/file/d/1AlGvsJDSzPT_70caausx8bFuupIEZkfh/view?usp=sharing). It is similar to the one from the previous exercise, but this time we did not scale continuous features (we are not going to use logreg anymore). Don't forget to enrich the table with the 'dayofweek' column from the previous day's .csv-file.\n",
    "2. Using `train_test_split` with parameters `test_size=0.2`, `random_state=21` get `X_train`, `y_train`, `X_test`, `y_test`. Use the additional parameter `stratify`."
   ]
  },
  {
   "cell_type": "code",
   "execution_count": 2,
   "metadata": {
    "id": "c8RWKHJbyUqA"
   },
   "outputs": [
    {
     "data": {
      "text/html": [
       "<div>\n",
       "<style scoped>\n",
       "    .dataframe tbody tr th:only-of-type {\n",
       "        vertical-align: middle;\n",
       "    }\n",
       "\n",
       "    .dataframe tbody tr th {\n",
       "        vertical-align: top;\n",
       "    }\n",
       "\n",
       "    .dataframe thead th {\n",
       "        text-align: right;\n",
       "    }\n",
       "</style>\n",
       "<table border=\"1\" class=\"dataframe\">\n",
       "  <thead>\n",
       "    <tr style=\"text-align: right;\">\n",
       "      <th></th>\n",
       "      <th>numTrials</th>\n",
       "      <th>hour</th>\n",
       "      <th>uid_user_0</th>\n",
       "      <th>uid_user_1</th>\n",
       "      <th>uid_user_10</th>\n",
       "      <th>uid_user_11</th>\n",
       "      <th>uid_user_12</th>\n",
       "      <th>uid_user_13</th>\n",
       "      <th>uid_user_14</th>\n",
       "      <th>uid_user_15</th>\n",
       "      <th>...</th>\n",
       "      <th>labname_lab03</th>\n",
       "      <th>labname_lab03s</th>\n",
       "      <th>labname_lab05s</th>\n",
       "      <th>labname_laba04</th>\n",
       "      <th>labname_laba04s</th>\n",
       "      <th>labname_laba05</th>\n",
       "      <th>labname_laba06</th>\n",
       "      <th>labname_laba06s</th>\n",
       "      <th>labname_project1</th>\n",
       "      <th>dayofweek</th>\n",
       "    </tr>\n",
       "  </thead>\n",
       "  <tbody>\n",
       "    <tr>\n",
       "      <th>0</th>\n",
       "      <td>1</td>\n",
       "      <td>5</td>\n",
       "      <td>0.0</td>\n",
       "      <td>0.0</td>\n",
       "      <td>0.0</td>\n",
       "      <td>0.0</td>\n",
       "      <td>0.0</td>\n",
       "      <td>0.0</td>\n",
       "      <td>0.0</td>\n",
       "      <td>0.0</td>\n",
       "      <td>...</td>\n",
       "      <td>0.0</td>\n",
       "      <td>0.0</td>\n",
       "      <td>0.0</td>\n",
       "      <td>0.0</td>\n",
       "      <td>0.0</td>\n",
       "      <td>0.0</td>\n",
       "      <td>0.0</td>\n",
       "      <td>0.0</td>\n",
       "      <td>1.0</td>\n",
       "      <td>4</td>\n",
       "    </tr>\n",
       "    <tr>\n",
       "      <th>1</th>\n",
       "      <td>2</td>\n",
       "      <td>5</td>\n",
       "      <td>0.0</td>\n",
       "      <td>0.0</td>\n",
       "      <td>0.0</td>\n",
       "      <td>0.0</td>\n",
       "      <td>0.0</td>\n",
       "      <td>0.0</td>\n",
       "      <td>0.0</td>\n",
       "      <td>0.0</td>\n",
       "      <td>...</td>\n",
       "      <td>0.0</td>\n",
       "      <td>0.0</td>\n",
       "      <td>0.0</td>\n",
       "      <td>0.0</td>\n",
       "      <td>0.0</td>\n",
       "      <td>0.0</td>\n",
       "      <td>0.0</td>\n",
       "      <td>0.0</td>\n",
       "      <td>1.0</td>\n",
       "      <td>4</td>\n",
       "    </tr>\n",
       "    <tr>\n",
       "      <th>2</th>\n",
       "      <td>3</td>\n",
       "      <td>5</td>\n",
       "      <td>0.0</td>\n",
       "      <td>0.0</td>\n",
       "      <td>0.0</td>\n",
       "      <td>0.0</td>\n",
       "      <td>0.0</td>\n",
       "      <td>0.0</td>\n",
       "      <td>0.0</td>\n",
       "      <td>0.0</td>\n",
       "      <td>...</td>\n",
       "      <td>0.0</td>\n",
       "      <td>0.0</td>\n",
       "      <td>0.0</td>\n",
       "      <td>0.0</td>\n",
       "      <td>0.0</td>\n",
       "      <td>0.0</td>\n",
       "      <td>0.0</td>\n",
       "      <td>0.0</td>\n",
       "      <td>1.0</td>\n",
       "      <td>4</td>\n",
       "    </tr>\n",
       "    <tr>\n",
       "      <th>3</th>\n",
       "      <td>4</td>\n",
       "      <td>5</td>\n",
       "      <td>0.0</td>\n",
       "      <td>0.0</td>\n",
       "      <td>0.0</td>\n",
       "      <td>0.0</td>\n",
       "      <td>0.0</td>\n",
       "      <td>0.0</td>\n",
       "      <td>0.0</td>\n",
       "      <td>0.0</td>\n",
       "      <td>...</td>\n",
       "      <td>0.0</td>\n",
       "      <td>0.0</td>\n",
       "      <td>0.0</td>\n",
       "      <td>0.0</td>\n",
       "      <td>0.0</td>\n",
       "      <td>0.0</td>\n",
       "      <td>0.0</td>\n",
       "      <td>0.0</td>\n",
       "      <td>1.0</td>\n",
       "      <td>4</td>\n",
       "    </tr>\n",
       "    <tr>\n",
       "      <th>4</th>\n",
       "      <td>5</td>\n",
       "      <td>5</td>\n",
       "      <td>0.0</td>\n",
       "      <td>0.0</td>\n",
       "      <td>0.0</td>\n",
       "      <td>0.0</td>\n",
       "      <td>0.0</td>\n",
       "      <td>0.0</td>\n",
       "      <td>0.0</td>\n",
       "      <td>0.0</td>\n",
       "      <td>...</td>\n",
       "      <td>0.0</td>\n",
       "      <td>0.0</td>\n",
       "      <td>0.0</td>\n",
       "      <td>0.0</td>\n",
       "      <td>0.0</td>\n",
       "      <td>0.0</td>\n",
       "      <td>0.0</td>\n",
       "      <td>0.0</td>\n",
       "      <td>1.0</td>\n",
       "      <td>4</td>\n",
       "    </tr>\n",
       "    <tr>\n",
       "      <th>...</th>\n",
       "      <td>...</td>\n",
       "      <td>...</td>\n",
       "      <td>...</td>\n",
       "      <td>...</td>\n",
       "      <td>...</td>\n",
       "      <td>...</td>\n",
       "      <td>...</td>\n",
       "      <td>...</td>\n",
       "      <td>...</td>\n",
       "      <td>...</td>\n",
       "      <td>...</td>\n",
       "      <td>...</td>\n",
       "      <td>...</td>\n",
       "      <td>...</td>\n",
       "      <td>...</td>\n",
       "      <td>...</td>\n",
       "      <td>...</td>\n",
       "      <td>...</td>\n",
       "      <td>...</td>\n",
       "      <td>...</td>\n",
       "      <td>...</td>\n",
       "    </tr>\n",
       "    <tr>\n",
       "      <th>1681</th>\n",
       "      <td>9</td>\n",
       "      <td>20</td>\n",
       "      <td>0.0</td>\n",
       "      <td>0.0</td>\n",
       "      <td>0.0</td>\n",
       "      <td>0.0</td>\n",
       "      <td>0.0</td>\n",
       "      <td>0.0</td>\n",
       "      <td>0.0</td>\n",
       "      <td>0.0</td>\n",
       "      <td>...</td>\n",
       "      <td>0.0</td>\n",
       "      <td>0.0</td>\n",
       "      <td>0.0</td>\n",
       "      <td>0.0</td>\n",
       "      <td>0.0</td>\n",
       "      <td>0.0</td>\n",
       "      <td>0.0</td>\n",
       "      <td>1.0</td>\n",
       "      <td>0.0</td>\n",
       "      <td>3</td>\n",
       "    </tr>\n",
       "    <tr>\n",
       "      <th>1682</th>\n",
       "      <td>6</td>\n",
       "      <td>20</td>\n",
       "      <td>0.0</td>\n",
       "      <td>1.0</td>\n",
       "      <td>0.0</td>\n",
       "      <td>0.0</td>\n",
       "      <td>0.0</td>\n",
       "      <td>0.0</td>\n",
       "      <td>0.0</td>\n",
       "      <td>0.0</td>\n",
       "      <td>...</td>\n",
       "      <td>0.0</td>\n",
       "      <td>0.0</td>\n",
       "      <td>0.0</td>\n",
       "      <td>0.0</td>\n",
       "      <td>0.0</td>\n",
       "      <td>0.0</td>\n",
       "      <td>0.0</td>\n",
       "      <td>1.0</td>\n",
       "      <td>0.0</td>\n",
       "      <td>3</td>\n",
       "    </tr>\n",
       "    <tr>\n",
       "      <th>1683</th>\n",
       "      <td>7</td>\n",
       "      <td>20</td>\n",
       "      <td>0.0</td>\n",
       "      <td>1.0</td>\n",
       "      <td>0.0</td>\n",
       "      <td>0.0</td>\n",
       "      <td>0.0</td>\n",
       "      <td>0.0</td>\n",
       "      <td>0.0</td>\n",
       "      <td>0.0</td>\n",
       "      <td>...</td>\n",
       "      <td>0.0</td>\n",
       "      <td>0.0</td>\n",
       "      <td>0.0</td>\n",
       "      <td>0.0</td>\n",
       "      <td>0.0</td>\n",
       "      <td>0.0</td>\n",
       "      <td>0.0</td>\n",
       "      <td>1.0</td>\n",
       "      <td>0.0</td>\n",
       "      <td>3</td>\n",
       "    </tr>\n",
       "    <tr>\n",
       "      <th>1684</th>\n",
       "      <td>8</td>\n",
       "      <td>20</td>\n",
       "      <td>0.0</td>\n",
       "      <td>1.0</td>\n",
       "      <td>0.0</td>\n",
       "      <td>0.0</td>\n",
       "      <td>0.0</td>\n",
       "      <td>0.0</td>\n",
       "      <td>0.0</td>\n",
       "      <td>0.0</td>\n",
       "      <td>...</td>\n",
       "      <td>0.0</td>\n",
       "      <td>0.0</td>\n",
       "      <td>0.0</td>\n",
       "      <td>0.0</td>\n",
       "      <td>0.0</td>\n",
       "      <td>0.0</td>\n",
       "      <td>0.0</td>\n",
       "      <td>1.0</td>\n",
       "      <td>0.0</td>\n",
       "      <td>3</td>\n",
       "    </tr>\n",
       "    <tr>\n",
       "      <th>1685</th>\n",
       "      <td>9</td>\n",
       "      <td>20</td>\n",
       "      <td>0.0</td>\n",
       "      <td>1.0</td>\n",
       "      <td>0.0</td>\n",
       "      <td>0.0</td>\n",
       "      <td>0.0</td>\n",
       "      <td>0.0</td>\n",
       "      <td>0.0</td>\n",
       "      <td>0.0</td>\n",
       "      <td>...</td>\n",
       "      <td>0.0</td>\n",
       "      <td>0.0</td>\n",
       "      <td>0.0</td>\n",
       "      <td>0.0</td>\n",
       "      <td>0.0</td>\n",
       "      <td>0.0</td>\n",
       "      <td>0.0</td>\n",
       "      <td>1.0</td>\n",
       "      <td>0.0</td>\n",
       "      <td>3</td>\n",
       "    </tr>\n",
       "  </tbody>\n",
       "</table>\n",
       "<p>1686 rows × 44 columns</p>\n",
       "</div>"
      ],
      "text/plain": [
       "      numTrials  hour  uid_user_0  uid_user_1  uid_user_10  uid_user_11  \\\n",
       "0             1     5         0.0         0.0          0.0          0.0   \n",
       "1             2     5         0.0         0.0          0.0          0.0   \n",
       "2             3     5         0.0         0.0          0.0          0.0   \n",
       "3             4     5         0.0         0.0          0.0          0.0   \n",
       "4             5     5         0.0         0.0          0.0          0.0   \n",
       "...         ...   ...         ...         ...          ...          ...   \n",
       "1681          9    20         0.0         0.0          0.0          0.0   \n",
       "1682          6    20         0.0         1.0          0.0          0.0   \n",
       "1683          7    20         0.0         1.0          0.0          0.0   \n",
       "1684          8    20         0.0         1.0          0.0          0.0   \n",
       "1685          9    20         0.0         1.0          0.0          0.0   \n",
       "\n",
       "      uid_user_12  uid_user_13  uid_user_14  uid_user_15  ...  labname_lab03  \\\n",
       "0             0.0          0.0          0.0          0.0  ...            0.0   \n",
       "1             0.0          0.0          0.0          0.0  ...            0.0   \n",
       "2             0.0          0.0          0.0          0.0  ...            0.0   \n",
       "3             0.0          0.0          0.0          0.0  ...            0.0   \n",
       "4             0.0          0.0          0.0          0.0  ...            0.0   \n",
       "...           ...          ...          ...          ...  ...            ...   \n",
       "1681          0.0          0.0          0.0          0.0  ...            0.0   \n",
       "1682          0.0          0.0          0.0          0.0  ...            0.0   \n",
       "1683          0.0          0.0          0.0          0.0  ...            0.0   \n",
       "1684          0.0          0.0          0.0          0.0  ...            0.0   \n",
       "1685          0.0          0.0          0.0          0.0  ...            0.0   \n",
       "\n",
       "      labname_lab03s  labname_lab05s  labname_laba04  labname_laba04s  \\\n",
       "0                0.0             0.0             0.0              0.0   \n",
       "1                0.0             0.0             0.0              0.0   \n",
       "2                0.0             0.0             0.0              0.0   \n",
       "3                0.0             0.0             0.0              0.0   \n",
       "4                0.0             0.0             0.0              0.0   \n",
       "...              ...             ...             ...              ...   \n",
       "1681             0.0             0.0             0.0              0.0   \n",
       "1682             0.0             0.0             0.0              0.0   \n",
       "1683             0.0             0.0             0.0              0.0   \n",
       "1684             0.0             0.0             0.0              0.0   \n",
       "1685             0.0             0.0             0.0              0.0   \n",
       "\n",
       "      labname_laba05  labname_laba06  labname_laba06s  labname_project1  \\\n",
       "0                0.0             0.0              0.0               1.0   \n",
       "1                0.0             0.0              0.0               1.0   \n",
       "2                0.0             0.0              0.0               1.0   \n",
       "3                0.0             0.0              0.0               1.0   \n",
       "4                0.0             0.0              0.0               1.0   \n",
       "...              ...             ...              ...               ...   \n",
       "1681             0.0             0.0              1.0               0.0   \n",
       "1682             0.0             0.0              1.0               0.0   \n",
       "1683             0.0             0.0              1.0               0.0   \n",
       "1684             0.0             0.0              1.0               0.0   \n",
       "1685             0.0             0.0              1.0               0.0   \n",
       "\n",
       "      dayofweek  \n",
       "0             4  \n",
       "1             4  \n",
       "2             4  \n",
       "3             4  \n",
       "4             4  \n",
       "...         ...  \n",
       "1681          3  \n",
       "1682          3  \n",
       "1683          3  \n",
       "1684          3  \n",
       "1685          3  \n",
       "\n",
       "[1686 rows x 44 columns]"
      ]
     },
     "execution_count": 2,
     "metadata": {},
     "output_type": "execute_result"
    }
   ],
   "source": [
    "df_not_scaled = pd.read_csv('data/day-of-week-not-scaled.csv')\n",
    "df_dayofweek = pd.read_csv('../ex00/data/dayofweek.csv')\n",
    "df_not_scaled['dayofweek'] = df_dayofweek['dayofweek']\n",
    "df_not_scaled"
   ]
  },
  {
   "cell_type": "code",
   "execution_count": 3,
   "metadata": {
    "id": "D5f4G8reyUqB"
   },
   "outputs": [
    {
     "name": "stdout",
     "output_type": "stream",
     "text": [
      "\n",
      "X_train shakli: (1348, 43)\n",
      "y_train shakli: (1348,)\n",
      "X_test shakli: (338, 43)\n",
      "y_test shakli: (338,)\n"
     ]
    }
   ],
   "source": [
    "X = df_not_scaled.drop('dayofweek', axis=1)\n",
    "y = df_not_scaled['dayofweek']\n",
    "\n",
    "X_train, X_test, y_train, y_test = train_test_split(X, y, test_size=0.2, random_state=21, stratify=y) # test_size=0.2 (20% test uchun)\n",
    "\n",
    "print(f\"\\nX_train shakli: {X_train.shape}\")\n",
    "print(f\"y_train shakli: {y_train.shape}\")\n",
    "print(f\"X_test shakli: {X_test.shape}\")\n",
    "print(f\"y_test shakli: {y_test.shape}\")"
   ]
  },
  {
   "cell_type": "markdown",
   "metadata": {
    "id": "Qx6PXWY3yUqB"
   },
   "source": [
    "## 2. SVM gridsearch"
   ]
  },
  {
   "cell_type": "markdown",
   "metadata": {
    "id": "Z6zo8cHCyUqB"
   },
   "source": [
    "1. Using `GridSearchCV` try different parameters of kernel (`linear`, `rbf`, `sigmoid`), C (`0.01`, `0.1`, `1`, `1.5`, `5`, `10`), gamma (`scale`, `auto`), class_weight (`balanced`, `None`) use `random_state=21` and `probability=True` and get the best combination of them in terms of accuracy.\n",
    "2. Create a dataframe from the results of the gridsearch and sort it ascendingly by the `rank_test_score`. Check if there is a huge difference between different combinations (sometimes a simpler model may give a comparable result)."
   ]
  },
  {
   "cell_type": "code",
   "execution_count": 4,
   "metadata": {
    "id": "dBiuP78ayUqB"
   },
   "outputs": [],
   "source": [
    "warnings.filterwarnings('ignore')"
   ]
  },
  {
   "cell_type": "code",
   "execution_count": 5,
   "metadata": {
    "id": "4NL1AfU0yUqC"
   },
   "outputs": [
    {
     "name": "stdout",
     "output_type": "stream",
     "text": [
      "Fitting 10 folds for each of 72 candidates, totalling 720 fits\n"
     ]
    },
    {
     "name": "stderr",
     "output_type": "stream",
     "text": [
      "[Parallel(n_jobs=-1)]: Using backend LokyBackend with 8 concurrent workers.\n",
      "[Parallel(n_jobs=-1)]: Done  34 tasks      | elapsed:   19.1s\n",
      "[Parallel(n_jobs=-1)]: Done 184 tasks      | elapsed:  1.1min\n",
      "[Parallel(n_jobs=-1)]: Done 434 tasks      | elapsed:  6.5min\n",
      "[Parallel(n_jobs=-1)]: Done 720 out of 720 | elapsed: 19.9min finished\n"
     ]
    },
    {
     "name": "stdout",
     "output_type": "stream",
     "text": [
      "Eng yaxshi aniqlik (Best Score): 0.88575\n",
      "Eng yaxshi parametrlar kombinatsiyasi (Best Parameters): {'C': 10, 'class_weight': None, 'gamma': 'auto', 'kernel': 'rbf', 'probability': True, 'random_state': 21}\n"
     ]
    }
   ],
   "source": [
    "svm = SVC(random_state=21, probability=True)\n",
    "\n",
    "param_grid = {\n",
    "    'kernel': ['linear', 'rbf', 'sigmoid'],\n",
    "    'C': [0.01, 0.1, 1, 1.5, 5, 10],\n",
    "    'gamma': ['scale', 'auto'],\n",
    "    'class_weight': ['balanced', None]\n",
    "}\n",
    "\n",
    "# cv=10 StratifiedKFold bilan bir xil ishlaydi, chunki GridSearchCV ichida ham shunday mexanizm mavjud.\n",
    "# n_jobs=-1 - barcha mavjud CPU yadrolarini ishlatadi, bu tezroq ishlashga yordam beradi.\n",
    "grid_search_svm = GridSearchCV(estimator=svm, param_grid=param_grid, cv=10, scoring='accuracy', n_jobs=-1, verbose=1)\n",
    "\n",
    "grid_search_svm.fit(X_train, y_train)\n",
    "\n",
    "best_params_found = grid_search_svm.best_params_\n",
    "fixed_params = {'probability': True, 'random_state': 21}\n",
    "\n",
    "full_best_params = {**best_params_found, **fixed_params}\n",
    "\n",
    "print(f\"Eng yaxshi aniqlik (Best Score): {grid_search_svm.best_score_:.5f}\")\n",
    "print(f\"Eng yaxshi parametrlar kombinatsiyasi (Best Parameters): {full_best_params}\")"
   ]
  },
  {
   "cell_type": "code",
   "execution_count": 6,
   "metadata": {
    "id": "GoMznS9wyUqC"
   },
   "outputs": [
    {
     "name": "stdout",
     "output_type": "stream",
     "text": [
      "\n",
      "GridSearchCV natijalari (eng yaxshi reyting bo'yicha saralangan):\n",
      "   param_C param_class_weight param_gamma param_kernel  mean_test_score  \\\n",
      "70      10               None        auto          rbf         0.885749   \n",
      "64      10           balanced        auto          rbf         0.873875   \n",
      "58       5               None        auto          rbf         0.832349   \n",
      "52       5           balanced        auto          rbf         0.820453   \n",
      "66      10               None       scale       linear         0.728452   \n",
      "69      10               None        auto       linear         0.728452   \n",
      "60      10           balanced       scale       linear         0.720260   \n",
      "63      10           balanced        auto       linear         0.720260   \n",
      "48       5           balanced       scale       linear         0.713577   \n",
      "51       5           balanced        auto       linear         0.713577   \n",
      "\n",
      "    std_test_score  rank_test_score  \n",
      "70        0.018843                1  \n",
      "64        0.022551                2  \n",
      "58        0.036143                3  \n",
      "52        0.031530                4  \n",
      "66        0.043573                5  \n",
      "69        0.043573                5  \n",
      "60        0.042044                7  \n",
      "63        0.042044                7  \n",
      "48        0.049549                9  \n",
      "51        0.049549                9  \n",
      "\n",
      "Natijalarni tahlil qilish:\n",
      "Eng yaxshi natija: C=10, kernel='rbf', gamma='auto', class_weight=None\n",
      "O'rtacha aniqlik: 0.88575, Standart og'ish: 0.01884\n",
      "Eng yaxshi va ikkinchi eng yaxshi natija o'rtasidagi farq: 0.01187\n"
     ]
    }
   ],
   "source": [
    "results_df_svm = pd.DataFrame(grid_search_svm.cv_results_)\n",
    "\n",
    "# 'rank_test_score' - test to'plamidagi aniqlik reytingi (1 eng yaxshi)\n",
    "# 'mean_test_score' - kross-validatsiyada o'rtacha aniqlik\n",
    "# 'std_test_score' - kross-validatsiyada aniqlikning standart og'ishi\n",
    "results_df_svm_sorted = results_df_svm.sort_values(by='rank_test_score')\n",
    "\n",
    "columns_to_show = [\n",
    "    'param_C',\n",
    "    'param_class_weight',\n",
    "    'param_gamma',\n",
    "    'param_kernel',\n",
    "    'mean_test_score',\n",
    "    'std_test_score',\n",
    "    'rank_test_score'\n",
    "]\n",
    "\n",
    "print(\"\\nGridSearchCV natijalari (eng yaxshi reyting bo'yicha saralangan):\")\n",
    "print(results_df_svm_sorted[columns_to_show].head(10))\n",
    "\n",
    "# 'mean_test_score' va 'rank_test_score' ustunlariga e'tibor bering.\n",
    "# Eng yaxshi natija (rank_test_score=1) va unga yaqin bo'lgan boshqa natijalarni solishtiring.\n",
    "# Agar 1-o'rindagi model va 2-3-o'rindagi modellar orasida 'mean_test_score' bo'yicha katta farq bo'lmasa,\n",
    "# ba'zida soddaroq parametrlar (masalan, kichikroq C yoki 'linear' kernel) afzalroq bo'lishi mumkin.\n",
    "\n",
    "print(\"\\nNatijalarni tahlil qilish:\")\n",
    "best_row = results_df_svm_sorted.iloc[0]\n",
    "print(f\"Eng yaxshi natija: C={best_row['param_C']}, kernel='{best_row['param_kernel']}', gamma='{best_row['param_gamma']}', class_weight={best_row['param_class_weight']}\")\n",
    "print(f\"O'rtacha aniqlik: {best_row['mean_test_score']:.5f}, Standart og'ish: {best_row['std_test_score']:.5f}\")\n",
    "\n",
    "if len(results_df_svm_sorted) > 1:\n",
    "    second_best_row = results_df_svm_sorted.iloc[1]\n",
    "    score_diff = best_row['mean_test_score'] - second_best_row['mean_test_score']\n",
    "    print(f\"Eng yaxshi va ikkinchi eng yaxshi natija o'rtasidagi farq: {score_diff:.5f}\")\n",
    "    if score_diff < 0.005:\n",
    "        print(\"Eng yaxshi natijalar orasida katta farq yo'q. Soddaroq parametrlarni ham ko'rib chiqish mumkin.\")"
   ]
  },
  {
   "cell_type": "markdown",
   "metadata": {
    "id": "a3w4FpldyUqC"
   },
   "source": [
    "## 3. Decision tree"
   ]
  },
  {
   "cell_type": "markdown",
   "metadata": {
    "id": "ELqxX9sXyUqD"
   },
   "source": [
    "1. Using `GridSearchCV` try different parameters of `max_depth` (from `1` to `49`), `class_weight` (`balanced`, `None`) and `criterion` (`entropy` and `gini`) and get the best combination of them in terms of accuracy. Use `random_state=21`.\n",
    "2. Create a dataframe from the results of the gridsearch and sort it ascendingly by the `rank_test_score`, check if there is a huge difference between different combinations (sometimes a simpler model may give a comparable result)."
   ]
  },
  {
   "cell_type": "code",
   "execution_count": 7,
   "metadata": {
    "id": "Q6YmUeUqyUqD"
   },
   "outputs": [
    {
     "name": "stdout",
     "output_type": "stream",
     "text": [
      "Eng yaxshi aniqlik (Best Score): 0.87386\n",
      "Eng yaxshi parametrlar kombinatsiyasi (Best Parameters): {'class_weight': 'balanced', 'criterion': 'gini', 'max_depth': 21, 'random_state': 21}\n"
     ]
    }
   ],
   "source": [
    "tree = DecisionTreeClassifier(random_state=21)\n",
    "\n",
    "param_grid_tree = {\n",
    "    'max_depth': np.arange(1, 50),\n",
    "    'class_weight': ['balanced', None],\n",
    "    'criterion': ['gini', 'entropy']\n",
    "}\n",
    "\n",
    "grid_search_tree = GridSearchCV(estimator=tree, param_grid=param_grid_tree, scoring='accuracy', n_jobs=-1)\n",
    "\n",
    "grid_search_tree.fit(X_train, y_train)\n",
    "\n",
    "best_params_found = grid_search_tree.best_params_\n",
    "\n",
    "full_best_params = {**best_params_found, 'random_state': 21}\n",
    "\n",
    "print(f\"Eng yaxshi aniqlik (Best Score): {grid_search_tree.best_score_:.5f}\")\n",
    "print(f\"Eng yaxshi parametrlar kombinatsiyasi (Best Parameters): {full_best_params}\")"
   ]
  },
  {
   "cell_type": "code",
   "execution_count": 8,
   "metadata": {
    "id": "7barDuTYyUqD"
   },
   "outputs": [
    {
     "name": "stdout",
     "output_type": "stream",
     "text": [
      "\n",
      "GridSearchCV natijalari (eng yaxshi reyting bo'yicha saralangan):\n",
      "   param_max_depth param_class_weight param_criterion  mean_test_score  \\\n",
      "20              21           balanced            gini         0.873865   \n",
      "24              25           balanced            gini         0.873854   \n",
      "21              22           balanced            gini         0.872378   \n",
      "30              31           balanced            gini         0.872372   \n",
      "28              29           balanced            gini         0.872372   \n",
      "27              28           balanced            gini         0.872372   \n",
      "26              27           balanced            gini         0.872372   \n",
      "22              23           balanced            gini         0.872372   \n",
      "32              33           balanced            gini         0.872372   \n",
      "33              34           balanced            gini         0.872372   \n",
      "\n",
      "    std_test_score  rank_test_score  \n",
      "20        0.025066                1  \n",
      "24        0.025018                2  \n",
      "21        0.025263                3  \n",
      "30        0.025179                4  \n",
      "28        0.025179                4  \n",
      "27        0.025179                4  \n",
      "26        0.025179                4  \n",
      "22        0.025179                4  \n",
      "32        0.025179                4  \n",
      "33        0.025179                4  \n",
      "Eng yaxshi natija: max_depth=21, class_weight=balanced, criterion='gini'\n",
      "O'rtacha aniqlik: 0.87386, Standart og'ish: 0.02507\n",
      "Eng yaxshi va ikkinchi eng yaxshi natija o'rtasidagi farq: 0.00001\n",
      "Eng yaxshi natijalar orasida katta farq yo'q. Ehtimol, kichikroq max_depth qiymati bilan ham yaxshi natija olish mumkin.\n"
     ]
    }
   ],
   "source": [
    "results_df_tree = pd.DataFrame(grid_search_tree.cv_results_)\n",
    "\n",
    "results_df_tree_sorted = results_df_tree.sort_values(by='rank_test_score')\n",
    "\n",
    "# Faqat muhim ustunlarni ko'rsatish\n",
    "columns_to_show_tree = [\n",
    "    'param_max_depth',\n",
    "    'param_class_weight',\n",
    "    'param_criterion',\n",
    "    'mean_test_score',\n",
    "    'std_test_score',\n",
    "    'rank_test_score'\n",
    "]\n",
    "\n",
    "print(\"\\nGridSearchCV natijalari (eng yaxshi reyting bo'yicha saralangan):\")\n",
    "print(results_df_tree_sorted[columns_to_show_tree].head(10))\n",
    "\n",
    "best_row_tree = results_df_tree_sorted.iloc[0]\n",
    "print(f\"Eng yaxshi natija: max_depth={best_row_tree['param_max_depth']}, class_weight={best_row_tree['param_class_weight']}, criterion='{best_row_tree['param_criterion']}'\")\n",
    "print(f\"O'rtacha aniqlik: {best_row_tree['mean_test_score']:.5f}, Standart og'ish: {best_row_tree['std_test_score']:.5f}\")\n",
    "\n",
    "# Eng yaxshi va ikkinchi eng yaxshi natija orasidagi farqni tekshirish\n",
    "if len(results_df_tree_sorted) > 1:\n",
    "    second_best_row_tree = results_df_tree_sorted.iloc[1]\n",
    "    score_diff_tree = best_row_tree['mean_test_score'] - second_best_row_tree['mean_test_score']\n",
    "    print(f\"Eng yaxshi va ikkinchi eng yaxshi natija o'rtasidagi farq: {score_diff_tree:.5f}\")\n",
    "    if score_diff_tree < 0.005: # Kichik farqni ko'rsatuvchi shart\n",
    "        print(\"Eng yaxshi natijalar orasida katta farq yo'q. Ehtimol, kichikroq max_depth qiymati bilan ham yaxshi natija olish mumkin.\")\n",
    "    else:\n",
    "        print(\"Eng yaxshi natija sezilarli darajada ustun.\")"
   ]
  },
  {
   "cell_type": "markdown",
   "metadata": {
    "id": "dLFxJKtiyUqE"
   },
   "source": [
    "## 4. Random forest"
   ]
  },
  {
   "cell_type": "markdown",
   "metadata": {
    "id": "V6ADE7RuyUqE"
   },
   "source": [
    "1. Using `GridSearchCV` try different parameters of `n_estimators` (`5`, `10`, `50`, `100`), `max_depth` (from `1` to `49`), `class_weight` (`balanced`, `None`) and `criterion` (`entropy` and `gini`) and get the best combination of them in terms of accuracy. Use random_state=21.\n",
    "2. Create a dataframe from the results of the gridsearch and sort it ascendengly by the `rank_test_score`, check if there is a huge difference between different combinations (sometimes a simpler model may give a comparable result)."
   ]
  },
  {
   "cell_type": "code",
   "execution_count": 9,
   "metadata": {
    "id": "VOyEfEctyUqE"
   },
   "outputs": [
    {
     "name": "stdout",
     "output_type": "stream",
     "text": [
      "Eng yaxshi aniqlik (Best Score): 0.90429\n",
      "Eng yaxshi parametrlar kombinatsiyasi (Best Parameters): {'class_weight': 'balanced', 'criterion': 'entropy', 'max_depth': 24, 'n_estimators': 100, 'random_state': 21}\n"
     ]
    }
   ],
   "source": [
    "forest = RandomForestClassifier(random_state=21)\n",
    "\n",
    "param_grid_forest = {\n",
    "    'n_estimators': [5, 10, 50, 100],\n",
    "    'max_depth': np.arange(1, 50),\n",
    "    'class_weight': ['balanced', None],\n",
    "    'criterion': ['entropy', 'gini']\n",
    "}\n",
    "\n",
    "grid_search_forest = GridSearchCV(estimator=forest, param_grid=param_grid_forest, scoring='accuracy', n_jobs=-1)\n",
    "\n",
    "grid_search_forest.fit(X_train, y_train)\n",
    "\n",
    "best_params_found = grid_search_forest.best_params_\n",
    "\n",
    "full_best_params = {**best_params_found, 'random_state': 21}\n",
    "\n",
    "print(f\"Eng yaxshi aniqlik (Best Score): {grid_search_forest.best_score_:.5f}\")\n",
    "print(f\"Eng yaxshi parametrlar kombinatsiyasi (Best Parameters): {full_best_params}\")"
   ]
  },
  {
   "cell_type": "code",
   "execution_count": 10,
   "metadata": {
    "id": "otVWJ4CqyUqE"
   },
   "outputs": [
    {
     "name": "stdout",
     "output_type": "stream",
     "text": [
      "\n",
      "GridSearchCV natijalari (eng yaxshi reyting bo'yicha saralangan):\n",
      "    param_n_estimators param_max_depth param_class_weight param_criterion  \\\n",
      "95                 100              24           balanced         entropy   \n",
      "115                100              29           balanced         entropy   \n",
      "698                 50              28               None            gini   \n",
      "314                 50              30           balanced            gini   \n",
      "711                100              31               None            gini   \n",
      "99                 100              25           balanced         entropy   \n",
      "326                 50              33           balanced            gini   \n",
      "767                100              45               None            gini   \n",
      "779                100              48               None            gini   \n",
      "775                100              47               None            gini   \n",
      "\n",
      "     mean_test_score  std_test_score  rank_test_score  \n",
      "95          0.904293        0.012361                1  \n",
      "115         0.904290        0.012156                2  \n",
      "698         0.904290        0.010961                2  \n",
      "314         0.903549        0.012056                4  \n",
      "711         0.903547        0.014380                5  \n",
      "99          0.902809        0.013639                6  \n",
      "326         0.902809        0.013628                7  \n",
      "767         0.902806        0.010460                8  \n",
      "779         0.902806        0.010460                8  \n",
      "775         0.902806        0.010460                8  \n",
      "\n",
      "Natijalarni tahlil qilish:\n",
      "Eng yaxshi natija: n_estimators=100, max_depth=24, class_weight=balanced, criterion='entropy'\n",
      "O'rtacha aniqlik: 0.90429, Standart og'ish: 0.01236\n",
      "Eng yaxshi va ikkinchi eng yaxshi natija o'rtasidagi farq: 0.00000\n",
      "Eng yaxshi natijalar orasida katta farq yo'q.\n"
     ]
    }
   ],
   "source": [
    "results_df_forest = pd.DataFrame(grid_search_forest.cv_results_)\n",
    "\n",
    "results_df_forest_sorted = results_df_forest.sort_values(by='rank_test_score')\n",
    "\n",
    "columns_to_show_forest = [\n",
    "    'param_n_estimators',\n",
    "    'param_max_depth',\n",
    "    'param_class_weight',\n",
    "    'param_criterion',\n",
    "    'mean_test_score',\n",
    "    'std_test_score',\n",
    "    'rank_test_score'\n",
    "]\n",
    "\n",
    "print(\"\\nGridSearchCV natijalari (eng yaxshi reyting bo'yicha saralangan):\")\n",
    "print(results_df_forest_sorted[columns_to_show_forest].head(10))\n",
    "\n",
    "print(\"\\nNatijalarni tahlil qilish:\")\n",
    "best_row_forest = results_df_forest_sorted.iloc[0]\n",
    "print(f\"Eng yaxshi natija: n_estimators={best_row_forest['param_n_estimators']}, max_depth={best_row_forest['param_max_depth']}, class_weight={best_row_forest['param_class_weight']}, criterion='{best_row_forest['param_criterion']}'\")\n",
    "print(f\"O'rtacha aniqlik: {best_row_forest['mean_test_score']:.5f}, Standart og'ish: {best_row_forest['std_test_score']:.5f}\")\n",
    "\n",
    "if len(results_df_forest_sorted) > 1:\n",
    "    second_best_row_forest = results_df_forest_sorted.iloc[1]\n",
    "    score_diff_forest = best_row_forest['mean_test_score'] - second_best_row_forest['mean_test_score']\n",
    "    print(f\"Eng yaxshi va ikkinchi eng yaxshi natija o'rtasidagi farq: {score_diff_forest:.5f}\")\n",
    "    if score_diff_forest < 0.005:\n",
    "        print(\"Eng yaxshi natijalar orasida katta farq yo'q.\")\n",
    "    else:\n",
    "        print(\"Eng yaxshi natija sezilarli darajada ustun.\")"
   ]
  },
  {
   "cell_type": "markdown",
   "metadata": {
    "id": "WWa7ucWxyUqF"
   },
   "source": [
    "## 5. Progress bar"
   ]
  },
  {
   "cell_type": "markdown",
   "metadata": {
    "id": "u2Q8KPBiyUqF"
   },
   "source": [
    "Gridsearch can be a quite long process and you may find yourself wondering when it will end.\n",
    "1. Create a manual gridsearch for the same parameters values of random forest iterating through the list of the possible values and calculating `cross_val_score` for each combination. Try to increase `n_jobs`. The value `cv` for `cross_val_score` is 5.\n",
    "2. Track the progress using the library `tqdm.notebook`.\n",
    "3. Create a dataframe from the results of the gridsearch with the columns corresponding to the names of the parameters and `mean_accuracy` and `std_accuracy`.\n",
    "4. Sort it descendingly by the `mean_accuracy`, check if there is a huge difference between different combinations (sometimes a simpler model may give a comparable result)."
   ]
  },
  {
   "cell_type": "code",
   "execution_count": 11,
   "metadata": {
    "id": "a1x6AdqTyUqG"
   },
   "outputs": [
    {
     "name": "stdout",
     "output_type": "stream",
     "text": [
      "Jami kombinatsiyalar soni: 784\n"
     ]
    },
    {
     "data": {
      "application/vnd.jupyter.widget-view+json": {
       "model_id": "d9324c5c2b5449f89b8dfacc5cc7c8ea",
       "version_major": 2,
       "version_minor": 0
      },
      "text/plain": [
       "HBox(children=(FloatProgress(value=0.0, description='Grid Search Progress', max=784.0, style=ProgressStyle(des…"
      ]
     },
     "metadata": {},
     "output_type": "display_data"
    },
    {
     "name": "stdout",
     "output_type": "stream",
     "text": [
      "\n"
     ]
    }
   ],
   "source": [
    "n_estimators_values = [5, 10, 50, 100]\n",
    "max_depth_values = np.arange(1, 50)\n",
    "class_weight_values = ['balanced', None]\n",
    "criterion_values = ['entropy', 'gini']\n",
    "\n",
    "results = []\n",
    "\n",
    "# Barcha kombinatsiyalar sonini hisoblash (tqdm uchun umumiy iteratsiya soni)\n",
    "total_combinations = (len(n_estimators_values) *\n",
    "                      len(max_depth_values) *\n",
    "                      len(class_weight_values) *\n",
    "                      len(criterion_values))\n",
    "\n",
    "print(f\"Jami kombinatsiyalar soni: {total_combinations}\")\n",
    "\n",
    "# Progress bar bilan qo'lda GridSearch\n",
    "with tqdm(total=total_combinations, desc=\"Grid Search Progress\") as pbar:\n",
    "    for n_est in n_estimators_values:\n",
    "        for depth in max_depth_values:\n",
    "            for cw in class_weight_values:\n",
    "                for crit in criterion_values:\n",
    "                    model = RandomForestClassifier(n_estimators=n_est,\n",
    "                                                   max_depth=depth,\n",
    "                                                   class_weight=cw,\n",
    "                                                   criterion=crit,\n",
    "                                                   random_state=21)\n",
    "\n",
    "                    scores = cross_val_score(model, X_train, y_train, scoring='accuracy', n_jobs=-1)\n",
    "\n",
    "                    results.append({\n",
    "                        'n_estimators': n_est,\n",
    "                        'max_depth': depth,\n",
    "                        'class_weight': cw,\n",
    "                        'criterion': crit,\n",
    "                        'mean_accuracy': np.mean(scores),\n",
    "                        'std_accuracy': np.std(scores)\n",
    "                    })\n",
    "                    pbar.update(1)"
   ]
  },
  {
   "cell_type": "code",
   "execution_count": 12,
   "metadata": {
    "id": "UCBvyIm-yUqG"
   },
   "outputs": [
    {
     "data": {
      "text/html": [
       "<div>\n",
       "<style scoped>\n",
       "    .dataframe tbody tr th:only-of-type {\n",
       "        vertical-align: middle;\n",
       "    }\n",
       "\n",
       "    .dataframe tbody tr th {\n",
       "        vertical-align: top;\n",
       "    }\n",
       "\n",
       "    .dataframe thead th {\n",
       "        text-align: right;\n",
       "    }\n",
       "</style>\n",
       "<table border=\"1\" class=\"dataframe\">\n",
       "  <thead>\n",
       "    <tr style=\"text-align: right;\">\n",
       "      <th></th>\n",
       "      <th>n_estimators</th>\n",
       "      <th>max_depth</th>\n",
       "      <th>class_weight</th>\n",
       "      <th>criterion</th>\n",
       "      <th>mean_accuracy</th>\n",
       "      <th>std_accuracy</th>\n",
       "    </tr>\n",
       "  </thead>\n",
       "  <tbody>\n",
       "    <tr>\n",
       "      <th>0</th>\n",
       "      <td>5</td>\n",
       "      <td>1</td>\n",
       "      <td>balanced</td>\n",
       "      <td>entropy</td>\n",
       "      <td>0.270794</td>\n",
       "      <td>0.024718</td>\n",
       "    </tr>\n",
       "    <tr>\n",
       "      <th>1</th>\n",
       "      <td>5</td>\n",
       "      <td>1</td>\n",
       "      <td>balanced</td>\n",
       "      <td>gini</td>\n",
       "      <td>0.283390</td>\n",
       "      <td>0.011062</td>\n",
       "    </tr>\n",
       "    <tr>\n",
       "      <th>2</th>\n",
       "      <td>5</td>\n",
       "      <td>1</td>\n",
       "      <td>None</td>\n",
       "      <td>entropy</td>\n",
       "      <td>0.353832</td>\n",
       "      <td>0.016467</td>\n",
       "    </tr>\n",
       "    <tr>\n",
       "      <th>3</th>\n",
       "      <td>5</td>\n",
       "      <td>1</td>\n",
       "      <td>None</td>\n",
       "      <td>gini</td>\n",
       "      <td>0.364219</td>\n",
       "      <td>0.021651</td>\n",
       "    </tr>\n",
       "    <tr>\n",
       "      <th>4</th>\n",
       "      <td>5</td>\n",
       "      <td>2</td>\n",
       "      <td>balanced</td>\n",
       "      <td>entropy</td>\n",
       "      <td>0.353110</td>\n",
       "      <td>0.021165</td>\n",
       "    </tr>\n",
       "    <tr>\n",
       "      <th>...</th>\n",
       "      <td>...</td>\n",
       "      <td>...</td>\n",
       "      <td>...</td>\n",
       "      <td>...</td>\n",
       "      <td>...</td>\n",
       "      <td>...</td>\n",
       "    </tr>\n",
       "    <tr>\n",
       "      <th>779</th>\n",
       "      <td>100</td>\n",
       "      <td>48</td>\n",
       "      <td>None</td>\n",
       "      <td>gini</td>\n",
       "      <td>0.902806</td>\n",
       "      <td>0.010460</td>\n",
       "    </tr>\n",
       "    <tr>\n",
       "      <th>780</th>\n",
       "      <td>100</td>\n",
       "      <td>49</td>\n",
       "      <td>balanced</td>\n",
       "      <td>entropy</td>\n",
       "      <td>0.898359</td>\n",
       "      <td>0.013872</td>\n",
       "    </tr>\n",
       "    <tr>\n",
       "      <th>781</th>\n",
       "      <td>100</td>\n",
       "      <td>49</td>\n",
       "      <td>balanced</td>\n",
       "      <td>gini</td>\n",
       "      <td>0.894652</td>\n",
       "      <td>0.015726</td>\n",
       "    </tr>\n",
       "    <tr>\n",
       "      <th>782</th>\n",
       "      <td>100</td>\n",
       "      <td>49</td>\n",
       "      <td>None</td>\n",
       "      <td>entropy</td>\n",
       "      <td>0.898362</td>\n",
       "      <td>0.014986</td>\n",
       "    </tr>\n",
       "    <tr>\n",
       "      <th>783</th>\n",
       "      <td>100</td>\n",
       "      <td>49</td>\n",
       "      <td>None</td>\n",
       "      <td>gini</td>\n",
       "      <td>0.902806</td>\n",
       "      <td>0.010460</td>\n",
       "    </tr>\n",
       "  </tbody>\n",
       "</table>\n",
       "<p>784 rows × 6 columns</p>\n",
       "</div>"
      ],
      "text/plain": [
       "     n_estimators  max_depth class_weight criterion  mean_accuracy  \\\n",
       "0               5          1     balanced   entropy       0.270794   \n",
       "1               5          1     balanced      gini       0.283390   \n",
       "2               5          1         None   entropy       0.353832   \n",
       "3               5          1         None      gini       0.364219   \n",
       "4               5          2     balanced   entropy       0.353110   \n",
       "..            ...        ...          ...       ...            ...   \n",
       "779           100         48         None      gini       0.902806   \n",
       "780           100         49     balanced   entropy       0.898359   \n",
       "781           100         49     balanced      gini       0.894652   \n",
       "782           100         49         None   entropy       0.898362   \n",
       "783           100         49         None      gini       0.902806   \n",
       "\n",
       "     std_accuracy  \n",
       "0        0.024718  \n",
       "1        0.011062  \n",
       "2        0.016467  \n",
       "3        0.021651  \n",
       "4        0.021165  \n",
       "..            ...  \n",
       "779      0.010460  \n",
       "780      0.013872  \n",
       "781      0.015726  \n",
       "782      0.014986  \n",
       "783      0.010460  \n",
       "\n",
       "[784 rows x 6 columns]"
      ]
     },
     "execution_count": 12,
     "metadata": {},
     "output_type": "execute_result"
    }
   ],
   "source": [
    "results_df_manual = pd.DataFrame(results)\n",
    "results_df_manual"
   ]
  },
  {
   "cell_type": "code",
   "execution_count": 13,
   "metadata": {
    "id": "pXNzb1QnyUqG"
   },
   "outputs": [
    {
     "name": "stdout",
     "output_type": "stream",
     "text": [
      "\n",
      "Natijalar (eng yuqori o'rtacha aniqlik bo'yicha saralangan):\n",
      "     n_estimators  max_depth class_weight criterion  mean_accuracy  \\\n",
      "680           100         24     balanced   entropy       0.904293   \n",
      "503            50         28         None      gini       0.904290   \n",
      "700           100         29     balanced   entropy       0.904290   \n",
      "509            50         30     balanced      gini       0.903549   \n",
      "711           100         31         None      gini       0.903547   \n",
      "684           100         25     balanced   entropy       0.902809   \n",
      "521            50         33     balanced      gini       0.902809   \n",
      "783           100         49         None      gini       0.902806   \n",
      "507            50         29         None      gini       0.902806   \n",
      "731           100         36         None      gini       0.902806   \n",
      "\n",
      "     std_accuracy  \n",
      "680      0.012361  \n",
      "503      0.010961  \n",
      "700      0.012156  \n",
      "509      0.012056  \n",
      "711      0.014380  \n",
      "684      0.013639  \n",
      "521      0.013628  \n",
      "783      0.010460  \n",
      "507      0.011698  \n",
      "731      0.010460  \n",
      "\n",
      "Natijalarni tahlil qilish:\n",
      "Eng yaxshi natija: n_estimators=100, max_depth=24, class_weight=balanced, criterion='entropy'\n",
      "O'rtacha aniqlik: 0.90429, Standart og'ish: 0.01236\n",
      "Eng yaxshi va ikkinchi eng yaxshi natija o'rtasidagi farq: 0.00000\n",
      "Eng yaxshi natijalar orasida katta farq yo'q.\n"
     ]
    }
   ],
   "source": [
    "results_df_manual_sorted = results_df_manual.sort_values(by='mean_accuracy', ascending=False)\n",
    "\n",
    "print(\"\\nNatijalar (eng yuqori o'rtacha aniqlik bo'yicha saralangan):\")\n",
    "print(results_df_manual_sorted.head(10))\n",
    "\n",
    "print(\"\\nNatijalarni tahlil qilish:\")\n",
    "best_row_manual = results_df_manual_sorted.iloc[0]\n",
    "print(f\"Eng yaxshi natija: n_estimators={best_row_manual['n_estimators']}, max_depth={best_row_manual['max_depth']}, class_weight={best_row_manual['class_weight']}, criterion='{best_row_manual['criterion']}'\")\n",
    "print(f\"O'rtacha aniqlik: {best_row_manual['mean_accuracy']:.5f}, Standart og'ish: {best_row_manual['std_accuracy']:.5f}\")\n",
    "\n",
    "if len(results_df_manual_sorted) > 1:\n",
    "    second_best_row_manual = results_df_manual_sorted.iloc[1]\n",
    "    score_diff_manual = best_row_manual['mean_accuracy'] - second_best_row_manual['mean_accuracy']\n",
    "    print(f\"Eng yaxshi va ikkinchi eng yaxshi natija o'rtasidagi farq: {score_diff_manual:.5f}\")\n",
    "    if score_diff_manual < 0.005:\n",
    "        print(\"Eng yaxshi natijalar orasida katta farq yo'q.\")\n",
    "    else:\n",
    "        print(\"Eng yaxshi natija sezilarli darajada ustun.\")"
   ]
  },
  {
   "cell_type": "markdown",
   "metadata": {
    "id": "SQMTOQynyUqG"
   },
   "source": [
    "## 6. Predictions"
   ]
  },
  {
   "cell_type": "markdown",
   "metadata": {
    "id": "FF5VVXbGyUqG"
   },
   "source": [
    "1. Choose the best model and use it to make predictions for the test dataset.\n",
    "2. Calculate the final accuracy."
   ]
  },
  {
   "cell_type": "code",
   "execution_count": 14,
   "metadata": {
    "id": "-vW7NVMOyUqG"
   },
   "outputs": [
    {
     "name": "stdout",
     "output_type": "stream",
     "text": [
      "Tanlangan Random Forest modeli parametrlari: {'bootstrap': True, 'ccp_alpha': 0.0, 'class_weight': 'balanced', 'criterion': 'gini', 'max_depth': 21, 'max_features': 'auto', 'max_leaf_nodes': None, 'max_samples': None, 'min_impurity_decrease': 0.0, 'min_impurity_split': None, 'min_samples_leaf': 1, 'min_samples_split': 2, 'min_weight_fraction_leaf': 0.0, 'n_estimators': 100, 'n_jobs': None, 'oob_score': False, 'random_state': 21, 'verbose': 0, 'warm_start': False}\n"
     ]
    }
   ],
   "source": [
    "# Eng yaxshi Random Forest modelini tanlash va yaratish\n",
    "# Yuqorida GridSearch dan olingan eng yaxshi parametrlarni ishlatamiz\n",
    "best_random_forest_model = RandomForestClassifier(\n",
    "    n_estimators=100,         \n",
    "    max_depth=21,        \n",
    "    class_weight='balanced',\n",
    "    criterion='gini',\n",
    "    random_state=21\n",
    ")\n",
    "\n",
    "print(\"Tanlangan Random Forest modeli parametrlari:\", best_random_forest_model.get_params())\n",
    "\n",
    "best_random_forest_model.fit(X_train, y_train)\n",
    "\n",
    "y_pred = best_random_forest_model.predict(X_test)"
   ]
  },
  {
   "cell_type": "code",
   "execution_count": 15,
   "metadata": {
    "id": "qO--d7bmyUqG"
   },
   "outputs": [
    {
     "name": "stdout",
     "output_type": "stream",
     "text": [
      "\n",
      "Modelning test ma'lumotlar to'plamidagi yakuniy aniqligi: 0.92899\n"
     ]
    }
   ],
   "source": [
    "final_accuracy = accuracy_score(y_test, y_pred)\n",
    "print(f\"\\nModelning test ma'lumotlar to'plamidagi yakuniy aniqligi: {final_accuracy:.5f}\")"
   ]
  }
 ],
 "metadata": {
  "colab": {
   "provenance": []
  },
  "kernelspec": {
   "display_name": "Python 3",
   "language": "python",
   "name": "python3"
  },
  "language_info": {
   "codemirror_mode": {
    "name": "ipython",
    "version": 3
   },
   "file_extension": ".py",
   "mimetype": "text/x-python",
   "name": "python",
   "nbconvert_exporter": "python",
   "pygments_lexer": "ipython3",
   "version": "3.8.10"
  }
 },
 "nbformat": 4,
 "nbformat_minor": 0
}
