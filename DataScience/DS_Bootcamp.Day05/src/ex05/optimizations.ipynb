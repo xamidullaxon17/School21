{
 "cells": [
  {
   "cell_type": "markdown",
   "id": "aff6a002",
   "metadata": {},
   "source": [
    "## Pandas optimizations"
   ]
  },
  {
   "cell_type": "code",
   "execution_count": 1,
   "id": "f4490bd2",
   "metadata": {},
   "outputs": [],
   "source": [
    "import pandas as pd\n",
    "import gc"
   ]
  },
  {
   "cell_type": "code",
   "execution_count": 2,
   "id": "76ca7706",
   "metadata": {},
   "outputs": [
    {
     "data": {
      "text/html": [
       "<div>\n",
       "<style scoped>\n",
       "    .dataframe tbody tr th:only-of-type {\n",
       "        vertical-align: middle;\n",
       "    }\n",
       "\n",
       "    .dataframe tbody tr th {\n",
       "        vertical-align: top;\n",
       "    }\n",
       "\n",
       "    .dataframe thead th {\n",
       "        text-align: right;\n",
       "    }\n",
       "</style>\n",
       "<table border=\"1\" class=\"dataframe\">\n",
       "  <thead>\n",
       "    <tr style=\"text-align: right;\">\n",
       "      <th></th>\n",
       "      <th>CarNumber</th>\n",
       "      <th>Refund</th>\n",
       "      <th>Fines</th>\n",
       "      <th>Make</th>\n",
       "      <th>Model</th>\n",
       "      <th>Year</th>\n",
       "    </tr>\n",
       "  </thead>\n",
       "  <tbody>\n",
       "    <tr>\n",
       "      <th>0</th>\n",
       "      <td>Y163O8161RUS</td>\n",
       "      <td>2.0</td>\n",
       "      <td>3200.0</td>\n",
       "      <td>Ford</td>\n",
       "      <td>Focus</td>\n",
       "      <td>1989</td>\n",
       "    </tr>\n",
       "    <tr>\n",
       "      <th>1</th>\n",
       "      <td>E432XX77RUS</td>\n",
       "      <td>1.0</td>\n",
       "      <td>6500.0</td>\n",
       "      <td>Toyota</td>\n",
       "      <td>Camry</td>\n",
       "      <td>1995</td>\n",
       "    </tr>\n",
       "    <tr>\n",
       "      <th>2</th>\n",
       "      <td>7184TT36RUS</td>\n",
       "      <td>1.0</td>\n",
       "      <td>2100.0</td>\n",
       "      <td>Ford</td>\n",
       "      <td>Focus</td>\n",
       "      <td>1984</td>\n",
       "    </tr>\n",
       "    <tr>\n",
       "      <th>3</th>\n",
       "      <td>X582HE161RUS</td>\n",
       "      <td>2.0</td>\n",
       "      <td>2000.0</td>\n",
       "      <td>Ford</td>\n",
       "      <td>Focus</td>\n",
       "      <td>2015</td>\n",
       "    </tr>\n",
       "    <tr>\n",
       "      <th>4</th>\n",
       "      <td>92918M178RUS</td>\n",
       "      <td>1.0</td>\n",
       "      <td>5700.0</td>\n",
       "      <td>Ford</td>\n",
       "      <td>Focus</td>\n",
       "      <td>2014</td>\n",
       "    </tr>\n",
       "    <tr>\n",
       "      <th>...</th>\n",
       "      <td>...</td>\n",
       "      <td>...</td>\n",
       "      <td>...</td>\n",
       "      <td>...</td>\n",
       "      <td>...</td>\n",
       "      <td>...</td>\n",
       "    </tr>\n",
       "    <tr>\n",
       "      <th>925</th>\n",
       "      <td>X123YZ77RUS</td>\n",
       "      <td>1.0</td>\n",
       "      <td>5000.0</td>\n",
       "      <td>Honda</td>\n",
       "      <td>Civic</td>\n",
       "      <td>1995</td>\n",
       "    </tr>\n",
       "    <tr>\n",
       "      <th>926</th>\n",
       "      <td>Y456AB77RUS</td>\n",
       "      <td>2.0</td>\n",
       "      <td>3200.0</td>\n",
       "      <td>Nissan</td>\n",
       "      <td>Sentra</td>\n",
       "      <td>2005</td>\n",
       "    </tr>\n",
       "    <tr>\n",
       "      <th>927</th>\n",
       "      <td>Z789CD77RUS</td>\n",
       "      <td>1.0</td>\n",
       "      <td>4100.0</td>\n",
       "      <td>Kia</td>\n",
       "      <td>Rio</td>\n",
       "      <td>2010</td>\n",
       "    </tr>\n",
       "    <tr>\n",
       "      <th>928</th>\n",
       "      <td>A012EF77RUS</td>\n",
       "      <td>2.0</td>\n",
       "      <td>2800.0</td>\n",
       "      <td>Hyundai</td>\n",
       "      <td>Elantra</td>\n",
       "      <td>2015</td>\n",
       "    </tr>\n",
       "    <tr>\n",
       "      <th>929</th>\n",
       "      <td>B345GH77RUS</td>\n",
       "      <td>1.0</td>\n",
       "      <td>7500.0</td>\n",
       "      <td>Mazda</td>\n",
       "      <td>3</td>\n",
       "      <td>2018</td>\n",
       "    </tr>\n",
       "  </tbody>\n",
       "</table>\n",
       "<p>930 rows × 6 columns</p>\n",
       "</div>"
      ],
      "text/plain": [
       "        CarNumber  Refund   Fines     Make    Model  Year\n",
       "0    Y163O8161RUS     2.0  3200.0     Ford    Focus  1989\n",
       "1     E432XX77RUS     1.0  6500.0   Toyota    Camry  1995\n",
       "2     7184TT36RUS     1.0  2100.0     Ford    Focus  1984\n",
       "3    X582HE161RUS     2.0  2000.0     Ford    Focus  2015\n",
       "4    92918M178RUS     1.0  5700.0     Ford    Focus  2014\n",
       "..            ...     ...     ...      ...      ...   ...\n",
       "925   X123YZ77RUS     1.0  5000.0    Honda    Civic  1995\n",
       "926   Y456AB77RUS     2.0  3200.0   Nissan   Sentra  2005\n",
       "927   Z789CD77RUS     1.0  4100.0      Kia      Rio  2010\n",
       "928   A012EF77RUS     2.0  2800.0  Hyundai  Elantra  2015\n",
       "929   B345GH77RUS     1.0  7500.0    Mazda        3  2018\n",
       "\n",
       "[930 rows x 6 columns]"
      ]
     },
     "execution_count": 2,
     "metadata": {},
     "output_type": "execute_result"
    }
   ],
   "source": [
    "df = pd.read_csv(\"../ex04/fines.csv\")\n",
    "df"
   ]
  },
  {
   "cell_type": "markdown",
   "id": "0391b657",
   "metadata": {},
   "source": [
    "### Iterations:"
   ]
  },
  {
   "cell_type": "markdown",
   "id": "e464189b",
   "metadata": {},
   "source": [
    "### For Loop + iloc + append"
   ]
  },
  {
   "cell_type": "code",
   "execution_count": 3,
   "id": "7c012ad6",
   "metadata": {},
   "outputs": [
    {
     "name": "stdout",
     "output_type": "stream",
     "text": [
      "106 ms ± 2.45 ms per loop (mean ± std. dev. of 7 runs, 10 loops each)\n"
     ]
    }
   ],
   "source": [
    "%%timeit\n",
    "new_column = []\n",
    "for i in range(len(df)):\n",
    "    new_column.append(df.iloc[i]['Fines'] / df.iloc[i]['Refund'] * df.iloc[i]['Year'])\n",
    "\n",
    "df['Calculated'] = new_column"
   ]
  },
  {
   "cell_type": "markdown",
   "id": "cf610810",
   "metadata": {},
   "source": [
    "### iterrows()"
   ]
  },
  {
   "cell_type": "code",
   "execution_count": 4,
   "id": "005ffb78",
   "metadata": {},
   "outputs": [
    {
     "name": "stdout",
     "output_type": "stream",
     "text": [
      "34.8 ms ± 327 μs per loop (mean ± std. dev. of 7 runs, 10 loops each)\n"
     ]
    }
   ],
   "source": [
    "%%timeit\n",
    "new_column = []\n",
    "for _, row in df.iterrows():\n",
    "    new_column.append(row['Fines'] / row['Refund'] * row['Year'])\n",
    "\n",
    "df['Calculated'] = new_column"
   ]
  },
  {
   "cell_type": "markdown",
   "id": "54515f4b",
   "metadata": {},
   "source": [
    "### apply() and lambda"
   ]
  },
  {
   "cell_type": "code",
   "execution_count": 5,
   "id": "4b3fde24",
   "metadata": {},
   "outputs": [
    {
     "name": "stdout",
     "output_type": "stream",
     "text": [
      "7.07 ms ± 111 μs per loop (mean ± std. dev. of 7 runs, 100 loops each)\n"
     ]
    }
   ],
   "source": [
    "%%timeit\n",
    "df['Calculated'] = df.apply(lambda row: row['Fines'] / row['Refund'] * row['Year'], axis=1)"
   ]
  },
  {
   "cell_type": "markdown",
   "id": "6a3969af",
   "metadata": {},
   "source": [
    "### Series Objects"
   ]
  },
  {
   "cell_type": "code",
   "execution_count": 6,
   "id": "70a27658",
   "metadata": {},
   "outputs": [
    {
     "name": "stdout",
     "output_type": "stream",
     "text": [
      "178 μs ± 4.56 μs per loop (mean ± std. dev. of 7 runs, 10,000 loops each)\n"
     ]
    }
   ],
   "source": [
    "%%timeit\n",
    "df['Calculated'] = (df['Fines'] / df['Refund'] * df['Year'])  # eng tezi"
   ]
  },
  {
   "cell_type": "markdown",
   "id": "11ecd595",
   "metadata": {},
   "source": [
    "### .values"
   ]
  },
  {
   "cell_type": "code",
   "execution_count": 7,
   "id": "0597b84d",
   "metadata": {},
   "outputs": [
    {
     "name": "stdout",
     "output_type": "stream",
     "text": [
      "84.3 μs ± 2.11 μs per loop (mean ± std. dev. of 7 runs, 10,000 loops each)\n"
     ]
    }
   ],
   "source": [
    "%%timeit\n",
    "fines = df['Fines'].values\n",
    "refund = df['Refund'].values\n",
    "year = df['Year'].values\n",
    "\n",
    "df['Calculated'] = (fines / refund * year)"
   ]
  },
  {
   "cell_type": "markdown",
   "id": "af0c2ceb",
   "metadata": {},
   "source": [
    "### Indexing:"
   ]
  },
  {
   "cell_type": "markdown",
   "id": "0af3e7bf",
   "metadata": {},
   "source": [
    "### Get a row"
   ]
  },
  {
   "cell_type": "code",
   "execution_count": 8,
   "id": "72a48487",
   "metadata": {},
   "outputs": [
    {
     "name": "stdout",
     "output_type": "stream",
     "text": [
      "659 μs ± 42.8 μs per loop (mean ± std. dev. of 7 runs, 1,000 loops each)\n"
     ]
    }
   ],
   "source": [
    "%%timeit\n",
    "df.reset_index(inplace=True)\n",
    "df.set_index('CarNumber', inplace=True)\n",
    "car_row = df.loc['O136HO197RUS']"
   ]
  },
  {
   "cell_type": "markdown",
   "id": "4ccb78bd",
   "metadata": {},
   "source": [
    "### Re-set Index"
   ]
  },
  {
   "cell_type": "code",
   "execution_count": 9,
   "id": "5907c5cf-d4e8-4a1f-93a5-f6f2a4284a5e",
   "metadata": {},
   "outputs": [],
   "source": [
    "df.reset_index(inplace=True)\n",
    "df.set_index('CarNumber', inplace=True)\n",
    "car_row = df.loc['O136HO197RUS']"
   ]
  },
  {
   "cell_type": "code",
   "execution_count": 10,
   "id": "1988535d",
   "metadata": {},
   "outputs": [
    {
     "data": {
      "text/html": [
       "<div>\n",
       "<style scoped>\n",
       "    .dataframe tbody tr th:only-of-type {\n",
       "        vertical-align: middle;\n",
       "    }\n",
       "\n",
       "    .dataframe tbody tr th {\n",
       "        vertical-align: top;\n",
       "    }\n",
       "\n",
       "    .dataframe thead th {\n",
       "        text-align: right;\n",
       "    }\n",
       "</style>\n",
       "<table border=\"1\" class=\"dataframe\">\n",
       "  <thead>\n",
       "    <tr style=\"text-align: right;\">\n",
       "      <th></th>\n",
       "      <th>index</th>\n",
       "      <th>Refund</th>\n",
       "      <th>Fines</th>\n",
       "      <th>Make</th>\n",
       "      <th>Model</th>\n",
       "      <th>Year</th>\n",
       "      <th>Calculated</th>\n",
       "    </tr>\n",
       "    <tr>\n",
       "      <th>CarNumber</th>\n",
       "      <th></th>\n",
       "      <th></th>\n",
       "      <th></th>\n",
       "      <th></th>\n",
       "      <th></th>\n",
       "      <th></th>\n",
       "      <th></th>\n",
       "    </tr>\n",
       "  </thead>\n",
       "  <tbody>\n",
       "    <tr>\n",
       "      <th>O136HO197RUS</th>\n",
       "      <td>715</td>\n",
       "      <td>2.0</td>\n",
       "      <td>7800.0</td>\n",
       "      <td>Toyota</td>\n",
       "      <td>Corolla</td>\n",
       "      <td>1999</td>\n",
       "      <td>7796100.0</td>\n",
       "    </tr>\n",
       "    <tr>\n",
       "      <th>O136HO197RUS</th>\n",
       "      <td>902</td>\n",
       "      <td>1.0</td>\n",
       "      <td>300.0</td>\n",
       "      <td>Toyota</td>\n",
       "      <td>Corolla</td>\n",
       "      <td>1991</td>\n",
       "      <td>597300.0</td>\n",
       "    </tr>\n",
       "  </tbody>\n",
       "</table>\n",
       "</div>"
      ],
      "text/plain": [
       "              index  Refund   Fines    Make    Model  Year  Calculated\n",
       "CarNumber                                                             \n",
       "O136HO197RUS    715     2.0  7800.0  Toyota  Corolla  1999   7796100.0\n",
       "O136HO197RUS    902     1.0   300.0  Toyota  Corolla  1991    597300.0"
      ]
     },
     "execution_count": 10,
     "metadata": {},
     "output_type": "execute_result"
    }
   ],
   "source": [
    "car_row"
   ]
  },
  {
   "cell_type": "markdown",
   "id": "fe44dd85",
   "metadata": {},
   "source": [
    "### Downcasting"
   ]
  },
  {
   "cell_type": "code",
   "execution_count": 11,
   "id": "ddfe38a7-43fe-46ee-96c4-ebaabb5ffa1a",
   "metadata": {},
   "outputs": [
    {
     "name": "stdout",
     "output_type": "stream",
     "text": [
      "<class 'pandas.core.frame.DataFrame'>\n",
      "Index: 930 entries, Y163O8161RUS to B345GH77RUS\n",
      "Data columns (total 7 columns):\n",
      " #   Column      Non-Null Count  Dtype  \n",
      "---  ------      --------------  -----  \n",
      " 0   index       930 non-null    int64  \n",
      " 1   Refund      930 non-null    float64\n",
      " 2   Fines       930 non-null    float64\n",
      " 3   Make        930 non-null    object \n",
      " 4   Model       919 non-null    object \n",
      " 5   Year        930 non-null    int64  \n",
      " 6   Calculated  930 non-null    float64\n",
      "dtypes: float64(3), int64(2), object(2)\n",
      "memory usage: 221.5 KB\n"
     ]
    }
   ],
   "source": [
    "df.info(memory_usage='deep')"
   ]
  },
  {
   "cell_type": "markdown",
   "id": "8697da80",
   "metadata": {},
   "source": [
    "### Downcast from float64 to float32"
   ]
  },
  {
   "cell_type": "code",
   "execution_count": 12,
   "id": "9f7550fd",
   "metadata": {},
   "outputs": [
    {
     "name": "stdout",
     "output_type": "stream",
     "text": [
      "<class 'pandas.core.frame.DataFrame'>\n",
      "Index: 930 entries, Y163O8161RUS to B345GH77RUS\n",
      "Data columns (total 7 columns):\n",
      " #   Column      Non-Null Count  Dtype  \n",
      "---  ------      --------------  -----  \n",
      " 0   index       930 non-null    int64  \n",
      " 1   Refund      930 non-null    float32\n",
      " 2   Fines       930 non-null    float32\n",
      " 3   Make        930 non-null    object \n",
      " 4   Model       919 non-null    object \n",
      " 5   Year        930 non-null    int64  \n",
      " 6   Calculated  930 non-null    float64\n",
      "dtypes: float32(2), float64(1), int64(2), object(2)\n",
      "memory usage: 214.3 KB\n"
     ]
    }
   ],
   "source": [
    "# Float ustunlarini float64 dan float32 ga o‘zgartiramiz:\n",
    "df_optimized = df.copy()\n",
    "\n",
    "# Float ustunlarini downcast qilish\n",
    "df_optimized['Fines'] = pd.to_numeric(df_optimized['Fines'], downcast='float')\n",
    "df_optimized['Refund'] = pd.to_numeric(df_optimized['Refund'], downcast='float')\n",
    "\n",
    "# Info ni qayta tekshiramiz\n",
    "df_optimized.info(memory_usage='deep')"
   ]
  },
  {
   "cell_type": "markdown",
   "id": "79d6f958",
   "metadata": {},
   "source": [
    "### Downcast from int64 to smallest numerical dtype"
   ]
  },
  {
   "cell_type": "code",
   "execution_count": 13,
   "id": "e9419d3b",
   "metadata": {},
   "outputs": [
    {
     "name": "stdout",
     "output_type": "stream",
     "text": [
      "<class 'pandas.core.frame.DataFrame'>\n",
      "Index: 930 entries, Y163O8161RUS to B345GH77RUS\n",
      "Data columns (total 7 columns):\n",
      " #   Column      Non-Null Count  Dtype  \n",
      "---  ------      --------------  -----  \n",
      " 0   index       930 non-null    int64  \n",
      " 1   Refund      930 non-null    float32\n",
      " 2   Fines       930 non-null    float32\n",
      " 3   Make        930 non-null    object \n",
      " 4   Model       919 non-null    object \n",
      " 5   Year        930 non-null    int16  \n",
      " 6   Calculated  930 non-null    float64\n",
      "dtypes: float32(2), float64(1), int16(1), int64(1), object(2)\n",
      "memory usage: 208.8 KB\n"
     ]
    }
   ],
   "source": [
    "# Butun sonlarni (integer) eng kichik turga o‘zgartiramiz:\n",
    "# integer sonlarni eng kichik turga o‘zgartirish\n",
    "df_optimized['Year'] = pd.to_numeric(df_optimized['Year'], downcast='integer')\n",
    "\n",
    "# Info ni qayta tekshiramiz\n",
    "df_optimized.info(memory_usage='deep')"
   ]
  },
  {
   "cell_type": "markdown",
   "id": "18ea4ee6",
   "metadata": {},
   "source": [
    "### Categories"
   ]
  },
  {
   "cell_type": "code",
   "execution_count": 14,
   "id": "07322f54",
   "metadata": {},
   "outputs": [
    {
     "name": "stdout",
     "output_type": "stream",
     "text": [
      "<class 'pandas.core.frame.DataFrame'>\n",
      "RangeIndex: 930 entries, 0 to 929\n",
      "Data columns (total 8 columns):\n",
      " #   Column      Non-Null Count  Dtype   \n",
      "---  ------      --------------  -----   \n",
      " 0   CarNumber   930 non-null    category\n",
      " 1   index       930 non-null    int64   \n",
      " 2   Refund      930 non-null    float32 \n",
      " 3   Fines       930 non-null    float32 \n",
      " 4   Make        930 non-null    object  \n",
      " 5   Model       919 non-null    object  \n",
      " 6   Year        930 non-null    int16   \n",
      " 7   Calculated  930 non-null    float64 \n",
      "dtypes: category(1), float32(2), float64(1), int16(1), int64(1), object(2)\n",
      "memory usage: 171.2 KB\n"
     ]
    }
   ],
   "source": [
    "# Matn ustunlarini category tipiga o'zgartirish, xotira tejash uchun\n",
    "df_optimized.reset_index(inplace=True)\n",
    "df_optimized['CarNumber'] = df_optimized['CarNumber'].astype('category')\n",
    "\n",
    "df_optimized.info(memory_usage='deep')"
   ]
  },
  {
   "cell_type": "markdown",
   "id": "23e896b1",
   "metadata": {},
   "source": [
    "###  Memory Clean"
   ]
  },
  {
   "cell_type": "code",
   "execution_count": 15,
   "id": "8c49de9f",
   "metadata": {},
   "outputs": [
    {
     "data": {
      "text/plain": [
       "0"
      ]
     },
     "execution_count": 15,
     "metadata": {},
     "output_type": "execute_result"
    }
   ],
   "source": [
    "# Faqat boshlang'ich DataFrame'ni tozalaydi\n",
    "del df\n",
    "gc.collect()"
   ]
  }
 ],
 "metadata": {
  "kernelspec": {
   "display_name": "Python 3",
   "language": "python",
   "name": "python3"
  },
  "language_info": {
   "codemirror_mode": {
    "name": "ipython",
    "version": 3
   },
   "file_extension": ".py",
   "mimetype": "text/x-python",
   "name": "python",
   "nbconvert_exporter": "python",
   "pygments_lexer": "ipython3",
   "version": "3.12.2"
  }
 },
 "nbformat": 4,
 "nbformat_minor": 5
}
