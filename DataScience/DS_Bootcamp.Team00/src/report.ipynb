{
 "cells": [
  {
   "cell_type": "markdown",
   "id": "5b9f71a7-5997-42ec-9be3-adbf287b5b0a",
   "metadata": {},
   "source": [
    "### Import and Initialize Modules\n",
    "\n",
    "This cell imports the necessary classes from custom modules (`Movies`, `Links`, `Ratings`, and `Tags`) and initializes the `Movies` class with data from the `movies.csv` file.  The `Movies` class likely provides functionality to analyze movie data."
   ]
  },
  {
   "cell_type": "code",
   "execution_count": null,
   "id": "d6f3cf46",
   "metadata": {},
   "outputs": [
    {
     "name": "stdout",
     "output_type": "stream",
     "text": [
      "Top 10 frequent and longest tags (intersection):\n",
      "\n"
     ]
    }
   ],
   "source": [
    "from movies import Movies \n",
    "movie_data = Movies(\"../datasets/movies.csv\")"
   ]
  },
  {
   "cell_type": "code",
   "execution_count": 6,
   "id": "13f0580d-951f-4dc9-bb11-64a0224b2836",
   "metadata": {},
   "outputs": [
    {
     "name": "stdout",
     "output_type": "stream",
     "text": [
      "992 μs ± 34.8 μs per loop (mean ± std. dev. of 7 runs, 100 loops each)\n",
      "Top years of movies:\n",
      "1995 : 224\n",
      "1994 : 184\n",
      "1996 : 181\n",
      "1993 : 101\n",
      "1992 : 23\n",
      "1990 : 15\n",
      "1991 : 15\n",
      "1989 : 14\n",
      "1986 : 9\n",
      "1982 : 8\n",
      "1940 : 8\n",
      "1957 : 8\n",
      "1987 : 8\n",
      "1980 : 8\n",
      "1981 : 7\n",
      "1988 : 7\n",
      "1979 : 7\n",
      "1955 : 6\n",
      "1959 : 6\n",
      "1968 : 6\n",
      "1997 : 6\n",
      "1939 : 6\n",
      "1985 : 6\n",
      "1967 : 5\n",
      "1965 : 5\n",
      "1951 : 5\n",
      "1958 : 5\n",
      "1944 : 5\n",
      "1941 : 5\n",
      "1975 : 5\n",
      "1971 : 5\n",
      "1984 : 5\n",
      "1964 : 4\n",
      "1973 : 4\n",
      "1954 : 4\n",
      "1934 : 4\n",
      "1960 : 4\n",
      "1963 : 4\n",
      "1950 : 4\n",
      "1974 : 4\n",
      "1983 : 4\n",
      "1977 : 3\n",
      "1937 : 3\n",
      "1972 : 3\n",
      "1952 : 3\n",
      "1961 : 3\n",
      "1953 : 3\n",
      "1946 : 3\n",
      "1938 : 3\n",
      "1956 : 3\n",
      "1962 : 3\n",
      "1976 : 2\n",
      "1969 : 2\n",
      "1970 : 2\n",
      "1942 : 2\n",
      "1945 : 2\n",
      "1947 : 2\n",
      "1935 : 2\n",
      "1936 : 2\n",
      "1949 : 2\n",
      "1978 : 2\n",
      "1943 : 1\n",
      "1932 : 1\n",
      "1966 : 1\n",
      "1948 : 1\n",
      "1933 : 1\n",
      "1931 : 1\n"
     ]
    }
   ],
   "source": [
    "%timeit movie_data.dist_by_release()\n",
    "dist_by_release = movie_data.dist_by_release()\n",
    "print(\"Top years of movies:\")\n",
    "for i, j in dist_by_release.items():\n",
    "    print(f\"{i} : {j}\")"
   ]
  },
  {
   "cell_type": "markdown",
   "id": "0360710e-2387-4b7a-ddb771d12291",
   "metadata": {},
   "source": [
    "### Movie Distribution by Genre\n",
    "\n",
    "This cell calculates and prints the distribution of movies across different genres using the `dist_by_genres` method of the `movie_data` object."
   ]
  },
  {
   "cell_type": "code",
   "execution_count": null,
   "id": "082a4ce7",
   "metadata": {},
   "outputs": [
    {
     "name": "stdout",
     "output_type": "stream",
     "text": [
      "493 μs ± 45.4 μs per loop (mean ± std. dev. of 7 runs, 1,000 loops each)\n",
      "Top genres of movies:\n",
      "Drama : 507\n",
      "Comedy : 365\n",
      "Romance : 208\n",
      "Thriller : 179\n",
      "Action : 158\n",
      "Adventure : 126\n",
      "Crime : 122\n",
      "Children : 100\n",
      "Fantasy : 69\n",
      "Sci-Fi : 69\n",
      "Mystery : 58\n",
      "Musical : 53\n",
      "Horror : 51\n",
      "War : 48\n",
      "Animation : 37\n",
      "Documentary : 25\n",
      "Western : 23\n",
      "Film-Noir : 18\n",
      "IMAX : 3\n"
     ]
    }
   ],
   "source": [
    "%timeit movie_data.dist_by_genres()\n",
    "dist_by_genres = movie_data.dist_by_genres()\n",
    "print(\"Top genres of movies:\")\n",
    "for i, j in dist_by_genres.items():\n",
    "    print(f\"{i} : {j}\")"
   ]
  },
  {
   "cell_type": "markdown",
   "id": "c0412342-b37a-4e6d-a1bf-4b2f00551dc6",
   "metadata": {},
   "source": [
    "# Frequent Genres in Top 10 Movies\n",
    "\n",
    "This cell identifies the most frequent genres among the top 10 movies, using the `most_genres` method of the `movie_data` object."
   ]
  },
  {
   "cell_type": "code",
   "execution_count": null,
   "id": "c7950b39",
   "metadata": {},
   "outputs": [
    {
     "name": "stdout",
     "output_type": "stream",
     "text": [
      "327 μs ± 109 μs per loop (mean ± std. dev. of 7 runs, 1,000 loops each)\n",
      "Most genres of movies:\n",
      "Strange Days (1995) : 6\n",
      "Lion King, The (1994) : 6\n",
      "Getaway, The (1994) : 6\n",
      "Super Mario Bros. (1993) : 6\n",
      "Beauty and the Beast (1991) : 6\n",
      "All Dogs Go to Heaven 2 (1996) : 6\n",
      "Space Jam (1996) : 6\n",
      "Aladdin and the King of Thieves (1996) : 6\n",
      "Toy Story (1995) : 5\n",
      "Money Train (1995) : 5\n"
     ]
    }
   ],
   "source": [
    "%timeit movie_data.most_genres(10)\n",
    "movie_dist = movie_data.most_genres(10)\n",
    "print(\"Most genres of movies:\")\n",
    "for i, j in movie_dist.items():\n",
    "    print(f\"{i} : {j}\")"
   ]
  },
  {
   "cell_type": "markdown",
   "id": "73fcf78c-0ecf-40e2-98d9-88615568f284",
   "metadata": {},
   "source": [
    "### Initialize Links Data\n",
    "\n",
    "This cell imports the `Links` class, defines a list of movie IDs, specifies the fields to retrieve from the links data, and creates an instance of the `Links` class using the `links.csv` file."
   ]
  },
  {
   "cell_type": "code",
   "execution_count": null,
   "id": "87e231c2",
   "metadata": {},
   "outputs": [],
   "source": [
    "# %%timeit\n",
    "from links import Links \n",
    "movie_id = [1,2,3,4,5,6,7,8,9,10,11,123]\n",
    "fields = [\"movie_id\", \"title\", \"Director\", \"imdb_id\", \"Budget\", \"Cumulative Worldwide Gross\", \"Runtime\"] \n",
    "links_data = Links(\"../datasets/links.csv\") "
   ]
  },
  {
   "cell_type": "markdown",
   "id": "a6e81932-5172-427f-8b0a-24c9324ffd90",
   "metadata": {},
   "source": [
    "### Retrieve IMDb Data\n",
    "\n",
    "This cell retrieves and prints IMDb data for the specified movie IDs and fields using the `get_imdb` method of the `links_data` object."
   ]
  },
  {
   "cell_type": "code",
   "execution_count": null,
   "id": "bb46960c",
   "metadata": {},
   "outputs": [
    {
     "name": "stdout",
     "output_type": "stream",
     "text": [
      "3.69 ms ± 736 μs per loop (mean ± std. dev. of 7 runs, 100 loops each)\n",
      "All imdb data:\n",
      "[1, 'Toy Story (1995)', 'John Lasseter', '0114709', '$30,000,000 (estimated)', '$394,436,586', '1 hour 21 minutes']\n",
      "[2, 'Jumanji (1995)', 'Joe Johnston', '0113497', '$65,000,000 (estimated)', '$262,821,940', '1 hour 44 minutes']\n",
      "[3, 'Grumpier Old Men (1995)', 'Howard Deutch', '0113228', '$25,000,000 (estimated)', '$71,518,503', '1 hour 41 minutes']\n",
      "[4, 'Waiting to Exhale (1995)', 'Forest Whitaker', '0114885', '$16,000,000 (estimated)', '$81,452,156', '2 hours 4 minutes']\n",
      "[5, 'Father of the Bride Part II (1995)', 'Charles Shyer', '0113041', '$30,000,000 (estimated)', '$76,594,107', '1 hour 46 minutes']\n",
      "[6, 'Heat (1995)', 'Michael Mann', '0113277', '$60,000,000 (estimated)', '$187,436,818', '2 hours 50 minutes']\n",
      "[7, 'Sabrina (1995)', 'Sydney Pollack', '0114319', '$58,000,000 (estimated)', '$53,696,959', '2 hours 7 minutes']\n",
      "[8, 'Tom and Huck (1995)', 'Peter Hewitt', '0112302', 'N/A', '$23,920,048', '1 hour 37 minutes']\n",
      "[9, 'Sudden Death (1995)', 'Peter Hyams', '0114576', '$35,000,000 (estimated)', '$64,350,171', '1 hour 51 minutes']\n",
      "[10, 'GoldenEye (1995)', 'Martin Campbell', '0113189', '$60,000,000 (estimated)', '$352,194,034', '2 hours 10 minutes']\n",
      "[11, 'American President, The (1995)', 'Rob Reiner', '0112346', '$62,000,000 (estimated)', '$107,879,496', '1 hour 54 minutes']\n",
      "[123, 'Chungking Express (Chung Hing sam lam) (1994)', 'Wong Kar-Wai', '0109424', 'N/A', '$3,275,063', '1 hour 42 minutes']\n"
     ]
    }
   ],
   "source": [
    "%timeit links_data.get_imdb(movie_id, fields)\n",
    "result = links_data.get_imdb(movie_id, fields)\n",
    "print(\"All imdb data:\")\n",
    "for i in result:\n",
    "    print(i)"
   ]
  },
  {
   "cell_type": "markdown",
   "id": "75acfd5f-e169-4dc4-8204-8e4497b9e96e",
   "metadata": {},
   "source": [
    "### Top Directors\n",
    "\n",
    "This cell finds and prints the top 10 directors, likely based on the number of movies they have directed, using the `top_directors` method of the `links_data` object."
   ]
  },
  {
   "cell_type": "code",
   "execution_count": null,
   "id": "b10be612",
   "metadata": {},
   "outputs": [
    {
     "name": "stdout",
     "output_type": "stream",
     "text": [
      "4.4 ms ± 559 μs per loop (mean ± std. dev. of 7 runs, 100 loops each)\n",
      "Top directors:\n",
      "Alfred Hitchcock : 11\n",
      "Directors : 9\n",
      "Woody Allen : 8\n",
      "Stanley Kubrick : 6\n",
      "Frank Capra : 6\n",
      "Robert Stevenson : 6\n",
      "Rob Reiner : 5\n",
      "Martin Scorsese : 5\n",
      "Tony Scott : 5\n",
      "John Carpenter : 5\n"
     ]
    }
   ],
   "source": [
    "%timeit links_data.top_directors(10)\n",
    "top_directors = links_data.top_directors(10)\n",
    "print(\"Top directors:\")\n",
    "for i, j in top_directors.items():\n",
    "    print(f\"{i} : {j}\")"
   ]
  },
  {
   "cell_type": "markdown",
   "id": "d4d330f8-1be2-4d03-bcb0-4a3655e69c2a",
   "metadata": {},
   "source": [
    "### Most Expensive Movies\n",
    "\n",
    "This cell identifies and prints the 10 most expensive movies using the `most_expensive` method of the `links_data` object."
   ]
  },
  {
   "cell_type": "code",
   "execution_count": null,
   "id": "43524c7a",
   "metadata": {},
   "outputs": [
    {
     "name": "stdout",
     "output_type": "stream",
     "text": [
      "8.25 ms ± 752 μs per loop (mean ± std. dev. of 7 runs, 100 loops each)\n",
      "Most expensive:\n",
      "Akira (1988) : 1100000000\n",
      "Ghost in the Shell (Kôkaku kidôtai) (1995) : 330000000\n",
      "Waterworld (1995) : 175000000\n",
      "Germinal (1993) : 164000000\n",
      "Cold Fever (Á köldum klaka) (1995) : 130000000\n",
      "True Lies (1994) : 115000000\n",
      "Terminator 2: Judgment Day (1991) : 102000000\n",
      "Batman Forever (1995) : 100000000\n",
      "Hunchback of Notre Dame, The (1996) : 100000000\n",
      "Eraser (1996) : 100000000\n"
     ]
    }
   ],
   "source": [
    "%timeit links_data.most_expensive(10)\n",
    "most_expensive = links_data.most_expensive(10)\n",
    "print(\"Most expensive:\")\n",
    "for i, j in most_expensive.items():\n",
    "    print(f\"{i} : {j}\")"
   ]
  },
  {
   "cell_type": "markdown",
   "id": "3b75dfb7-c82c-406f-a9a0-2e38f2bba816",
   "metadata": {},
   "source": [
    "### Most Profitable Movies\n",
    "\n",
    "This cell finds and prints the 10 most profitable movies using the `most_profitable` method of the `links_data` object."
   ]
  },
  {
   "cell_type": "code",
   "execution_count": null,
   "id": "ec9aa3e0",
   "metadata": {},
   "outputs": [
    {
     "name": "stdout",
     "output_type": "stream",
     "text": [
      "11.5 ms ± 615 μs per loop (mean ± std. dev. of 7 runs, 100 loops each)\n",
      "Most profitable:\n",
      "Jurassic Park (1993) : 1041379926\n",
      "Lion King, The (1994) : 934161373\n",
      "E.T. the Extra-Terrestrial (1982) : 786807407\n",
      "Star Wars: Episode IV - A New Hope (1977) : 764398507\n",
      "Independence Day (a.k.a. ID4) (1996) : 742400891\n",
      "Forrest Gump (1994) : 623226465\n",
      "Star Wars: Episode V - The Empire Strikes Back (1980) : 532016086\n",
      "Ghost (1990) : 483703557\n",
      "Aladdin (1992) : 476050219\n",
      "Home Alone (1990) : 458684675\n"
     ]
    }
   ],
   "source": [
    "%timeit links_data.most_profitable(10)\n",
    "most_profitable = links_data.most_profitable(10)\n",
    "print(\"Most profitable:\")\n",
    "for i, j in most_profitable.items():\n",
    "    print(f\"{i} : {j}\")"
   ]
  },
  {
   "cell_type": "markdown",
   "id": "1d885641-fb03-481c-af32-ff0a2eb7f248",
   "metadata": {},
   "source": [
    "### Longest Movies\n",
    "\n",
    "This cell finds and prints the 10 longest movies using the `longest` method of the `links_data` object."
   ]
  },
  {
   "cell_type": "code",
   "execution_count": null,
   "id": "be0f4369",
   "metadata": {},
   "outputs": [
    {
     "name": "stdout",
     "output_type": "stream",
     "text": [
      "5.29 ms ± 708 μs per loop (mean ± std. dev. of 7 runs, 100 loops each)\n",
      "The longest:\n",
      "Wallace & Gromit: A Close Shave (1995) : 1800\n",
      "Wallace & Gromit: The Wrong Trousers (1993) : 1740\n",
      "Some Folks Call It a Sling Blade (1993) : 1500\n",
      "Winnie the Pooh and the Blustery Day (1968) : 1500\n",
      "Grand Day Out with Wallace and Gromit, A (1989) : 1380\n",
      "Gone with the Wind (1939) : 238\n",
      "Once Upon a Time in America (1984) : 229\n",
      "Lawrence of Arabia (1962) : 227\n",
      "Ben-Hur (1959) : 212\n",
      "Godfather: Part II, The (1974) : 202\n"
     ]
    }
   ],
   "source": [
    "%timeit links_data.longest(10)\n",
    "longest = links_data.longest(10)\n",
    "print(\"The longest:\")\n",
    "for i, j in longest.items():\n",
    "    print(f\"{i} : {j}\")"
   ]
  },
  {
   "cell_type": "markdown",
   "id": "1440a5c1-4784-4c0d-88c8-03a98073cd80",
   "metadata": {},
   "source": [
    "### Highest Cost Per Minute\n",
    "\n",
    "This cell finds and prints the top 10 movies with the highest cost per minute, calculated using the `top_cost_per_minute` method of the `links_data` object."
   ]
  },
  {
   "cell_type": "code",
   "execution_count": null,
   "id": "620a843a",
   "metadata": {},
   "outputs": [
    {
     "name": "stdout",
     "output_type": "stream",
     "text": [
      "11.2 ms ± 1.05 ms per loop (mean ± std. dev. of 7 runs, 100 loops each)\n",
      "Top cost per minute:\n",
      "Akira (1988) : 8870967.74\n",
      "Ghost in the Shell (Kôkaku kidôtai) (1995) : 3975903.61\n",
      "Cold Fever (Á köldum klaka) (1995) : 1566265.06\n",
      "Waterworld (1995) : 1296296.3\n",
      "Hunchback of Notre Dame, The (1996) : 1098901.1\n",
      "Germinal (1993) : 1025000.0\n",
      "Judge Dredd (1995) : 937500.0\n",
      "Space Jam (1996) : 909090.91\n",
      "Eraser (1996) : 869565.22\n",
      "Batman Forever (1995) : 826446.28\n"
     ]
    }
   ],
   "source": [
    "%timeit links_data.top_cost_per_minute(10)\n",
    "top_cost_per_minute = links_data.top_cost_per_minute(10)\n",
    "print(\"Top cost per minute:\")\n",
    "for i, j in top_cost_per_minute.items():\n",
    "    print(f\"{i} : {j}\")"
   ]
  },
  {
   "cell_type": "markdown",
   "id": "81c770ba-a1c3-482c-a2d4-b0f39244c3b1",
   "metadata": {},
   "source": [
    "### Initialize Ratings Data and Related Classes\n",
    "\n",
    "This cell imports the necessary classes for analyzing movie ratings (`Ratings`, `print_data`, `Movies`, and `Users`).  It then initializes instances of these classes using the `ratings.csv` and `movies.csv` files.  This setup enables analysis of movie ratings, including distributions and user statistics."
   ]
  },
  {
   "cell_type": "code",
   "execution_count": null,
   "id": "6814d34f",
   "metadata": {},
   "outputs": [],
   "source": [
    "# %%timeit\n",
    "from ratings import Ratings, print_data, Movie_ratings, User_ratings\n",
    "\n",
    "ratings_data = Ratings(\"../datasets/ratings.csv\", \"../datasets/movies.csv\")\n",
    "movies_instance = Movie_ratings(ratings_data)\n",
    "users_instance = User_ratings(ratings_data)"
   ]
  },
  {
   "cell_type": "markdown",
   "id": "66151e07-1215-466c-9c7f-cfc4e1d3572f",
   "metadata": {},
   "source": [
    "### Top Movies by Average Rating\n",
    "\n",
    "This cell prints the top 10 movies based on their average rating, using the `top_by_ratings` method of the `movies_instance` object and the `print_data` function."
   ]
  },
  {
   "cell_type": "code",
   "execution_count": null,
   "id": "91caf637",
   "metadata": {},
   "outputs": [
    {
     "name": "stdout",
     "output_type": "stream",
     "text": [
      "1.1 ms ± 5.71 μs per loop (mean ± std. dev. of 7 runs, 1,000 loops each)\n",
      "Top Movies by Average Rating:\n",
      "Bottle Rocket (1996) : 5.0\n",
      "Canadian Bacon (1995) : 5.0\n",
      "Star Wars: Episode IV - A New Hope (1977) : 5.0\n",
      "James and the Giant Peach (1996) : 5.0\n",
      "Wizard of Oz : 5.0\n",
      "Citizen Kane (1941) : 5.0\n",
      "Adventures of Robin Hood : 5.0\n",
      "Mr. Smith Goes to Washington (1939) : 5.0\n",
      "Winnie the Pooh and the Blustery Day (1968) : 5.0\n",
      "Three Caballeros : 5.0\n",
      "\n"
     ]
    }
   ],
   "source": [
    "%timeit movies_instance.top_by_ratings(10, metric='average')\n",
    "print_data(movies_instance.top_by_ratings(10, metric='average'), \"Top Movies by Average Rating\")"
   ]
  },
  {
   "cell_type": "markdown",
   "id": "2a553589-c1b4-4699-984b-282690652c02",
   "metadata": {},
   "source": [
    "### Top Movies by Median Rating\n",
    "\n",
    "This cell prints the top 10 movies based on their median rating, using the `top_by_ratings` method of the `movies_instance` object and the `print_data` function."
   ]
  },
  {
   "cell_type": "code",
   "execution_count": null,
   "id": "7302b09c",
   "metadata": {},
   "outputs": [
    {
     "name": "stdout",
     "output_type": "stream",
     "text": [
      "1.28 ms ± 57.2 μs per loop (mean ± std. dev. of 7 runs, 1,000 loops each)\n",
      "Top Movies by Median Rating:\n",
      "Bottle Rocket (1996) : 5.0\n",
      "Canadian Bacon (1995) : 5.0\n",
      "Star Wars: Episode IV - A New Hope (1977) : 5.0\n",
      "Tommy Boy (1995) : 5.0\n",
      "Forrest Gump (1994) : 5.0\n",
      "Fugitive : 5.0\n",
      "Jurassic Park (1993) : 5.0\n",
      "Tombstone (1993) : 5.0\n",
      "Dances with Wolves (1990) : 5.0\n",
      "Pinocchio (1940) : 5.0\n",
      "\n"
     ]
    }
   ],
   "source": [
    "%timeit movies_instance.top_by_ratings(10, metric='median')\n",
    "print_data(movies_instance.top_by_ratings(10, metric='median'), \"Top Movies by Median Rating\")"
   ]
  },
  {
   "cell_type": "markdown",
   "id": "d39a47b2-ff5d-442f-a0d5-ced8f37501a6",
   "metadata": {},
   "source": [
    "### Top Movies by Median Rating (Duplicate)\n",
    "\n",
    "This cell appears to be a duplicate of the previous cell, printing the top 10 movies by median rating again."
   ]
  },
  {
   "cell_type": "code",
   "execution_count": null,
   "id": "ceb1cdd2",
   "metadata": {},
   "outputs": [
    {
     "name": "stdout",
     "output_type": "stream",
     "text": [
      "1.3 ms ± 69.7 μs per loop (mean ± std. dev. of 7 runs, 1,000 loops each)\n",
      "Top Movies by Median Rating:\n",
      "Bottle Rocket (1996) : 5.0\n",
      "Canadian Bacon (1995) : 5.0\n",
      "Star Wars: Episode IV - A New Hope (1977) : 5.0\n",
      "Tommy Boy (1995) : 5.0\n",
      "Forrest Gump (1994) : 5.0\n",
      "Fugitive : 5.0\n",
      "Jurassic Park (1993) : 5.0\n",
      "Tombstone (1993) : 5.0\n",
      "Dances with Wolves (1990) : 5.0\n",
      "Pinocchio (1940) : 5.0\n",
      "\n"
     ]
    }
   ],
   "source": [
    "%timeit movies_instance.top_by_ratings(10, metric='median')\n",
    "print_data(movies_instance.top_by_ratings(10, metric='median'), \"Top Movies by Median Rating\")"
   ]
  },
  {
   "cell_type": "markdown",
   "id": "34761f5a-7c3b-4661-b89f-09b53605e35a",
   "metadata": {},
   "source": [
    "### Most Common Ratings\n",
    "\n",
    "This cell prints the 10 most common movie ratings using the `most_ratings` method of the `movies_instance` object and the `print_data` function."
   ]
  },
  {
   "cell_type": "code",
   "execution_count": null,
   "id": "f18ae411",
   "metadata": {},
   "outputs": [
    {
     "name": "stdout",
     "output_type": "stream",
     "text": [
      "186 μs ± 9.55 μs per loop (mean ± std. dev. of 7 runs, 10,000 loops each)\n",
      "Most Common Ratings:\n",
      "4.0 : 292\n",
      "5.0 : 267\n",
      "3.0 : 253\n",
      "2.0 : 57\n",
      "1.0 : 39\n",
      "4.5 : 33\n",
      "0.5 : 24\n",
      "3.5 : 17\n",
      "1.5 : 11\n",
      "2.5 : 7\n",
      "\n"
     ]
    }
   ],
   "source": [
    "%timeit movies_instance.most_ratings(10)\n",
    "print_data(movies_instance.most_ratings(10), \"Most Common Ratings\")"
   ]
  },
  {
   "cell_type": "markdown",
   "id": "a404328b-bf75-4802-8400-e3b307e97c65",
   "metadata": {},
   "source": [
    "### Movie Ratings Distribution by Year\n",
    "\n",
    "This cell prints the distribution of movie ratings across different years, using the `dist_by_year` method of the `movies_instance` object and the `print_data` function."
   ]
  },
  {
   "cell_type": "code",
   "execution_count": null,
   "id": "6fa94b50",
   "metadata": {},
   "outputs": [
    {
     "name": "stdout",
     "output_type": "stream",
     "text": [
      "771 μs ± 38.4 μs per loop (mean ± std. dev. of 7 runs, 1,000 loops each)\n",
      "Distribution by Year:\n",
      "1996 : 358\n",
      "1999 : 82\n",
      "2000 : 296\n",
      "2001 : 70\n",
      "2005 : 121\n",
      "2006 : 4\n",
      "2007 : 1\n",
      "2011 : 39\n",
      "2015 : 29\n",
      "\n"
     ]
    }
   ],
   "source": [
    "%timeit movies_instance.dist_by_year()\n",
    "print_data(movies_instance.dist_by_year(), \"Distribution by Year\")"
   ]
  },
  {
   "cell_type": "markdown",
   "id": "082a74f8-eee2-4af9-8276-79302d9d0f08",
   "metadata": {},
   "source": [
    "### Most Controversial Movies\n",
    "\n",
    "This cell identifies and prints the 5 most controversial movies based on the variance in their ratings, using the `top_controversial` method of the `movies_instance` object."
   ]
  },
  {
   "cell_type": "code",
   "execution_count": null,
   "id": "adb71862",
   "metadata": {},
   "outputs": [
    {
     "name": "stdout",
     "output_type": "stream",
     "text": [
      "945 μs ± 94 μs per loop (mean ± std. dev. of 7 runs, 1,000 loops each)\n",
      "Most Controversial Movies (by Rating Variance):\n",
      "Bambi (1942) : 5.06\n",
      "Rescuers : 5.06\n",
      "My Fair Lady (1964) : 5.06\n",
      "Matrix : 4.0\n",
      "Schindler's List (1993) : 3.42\n",
      "\n"
     ]
    }
   ],
   "source": [
    "%timeit movies_instance.top_controversial(5)\n",
    "print_data(movies_instance.top_controversial(5), \"Most Controversial Movies (by Rating Variance)\")"
   ]
  },
  {
   "cell_type": "markdown",
   "id": "31171ec7-f292-45f4-8610-d33da5a11117",
   "metadata": {},
   "source": [
    "### User Ratings Count Distribution\n",
    "\n",
    "This cell prints the distribution of the number of ratings given by each user, using the `ratings_distribution` method of the `users_instance` object."
   ]
  },
  {
   "cell_type": "code",
   "execution_count": null,
   "id": "edee1a95",
   "metadata": {},
   "outputs": [
    {
     "name": "stdout",
     "output_type": "stream",
     "text": [
      "291 μs ± 23.4 μs per loop (mean ± std. dev. of 7 runs, 1,000 loops each)\n",
      "Ratings Count Distribution:\n",
      "1 : 232\n",
      "2 : 29\n",
      "3 : 39\n",
      "4 : 216\n",
      "5 : 44\n",
      "6 : 314\n",
      "7 : 126\n",
      "\n"
     ]
    }
   ],
   "source": [
    "%timeit users_instance.ratings_distribution()\n",
    "print_data(users_instance.ratings_distribution(), \"Ratings Count Distribution\")"
   ]
  },
  {
   "cell_type": "markdown",
   "id": "a6a9ea3e-efc3-40d3-b7a6-bdbddd9e318f",
   "metadata": {},
   "source": [
    "### User Median Ratings Distribution\n",
    "\n",
    "This cell prints the distribution of users' median ratings, using the `average_median_ratings_distribution` method of the `users_instance` object."
   ]
  },
  {
   "cell_type": "code",
   "execution_count": null,
   "id": "ed7638e2",
   "metadata": {},
   "outputs": [
    {
     "name": "stdout",
     "output_type": "stream",
     "text": [
      "328 μs ± 5.85 μs per loop (mean ± std. dev. of 7 runs, 1,000 loops each)\n",
      "Median Ratings Distribution:\n",
      "1 : 5.0\n",
      "2 : 4.0\n",
      "3 : 0.5\n",
      "4 : 4.0\n",
      "5 : 4.0\n",
      "6 : 3.0\n",
      "7 : 4.0\n",
      "\n"
     ]
    }
   ],
   "source": [
    "%timeit users_instance.average_median_ratings_distribution(\"median\")\n",
    "print_data(users_instance.average_median_ratings_distribution(\"median\"), \"Median Ratings Distribution\")"
   ]
  },
  {
   "cell_type": "markdown",
   "id": "8246d385-7853-4032-a93b-858c99ed8edd",
   "metadata": {},
   "source": [
    "### User Average Ratings Distribution\n",
    "\n",
    "This cell prints the distribution of users' average ratings, using the `average_median_ratings_distribution` method of the `users_instance` object."
   ]
  },
  {
   "cell_type": "code",
   "execution_count": null,
   "id": "f8f6067c",
   "metadata": {},
   "outputs": [
    {
     "name": "stdout",
     "output_type": "stream",
     "text": [
      "298 μs ± 8.52 μs per loop (mean ± std. dev. of 7 runs, 1,000 loops each)\n",
      "Average Ratings Distribution:\n",
      "1 : 4.37\n",
      "2 : 3.95\n",
      "3 : 2.44\n",
      "4 : 3.56\n",
      "5 : 3.64\n",
      "6 : 3.49\n",
      "7 : 3.35\n",
      "\n"
     ]
    }
   ],
   "source": [
    "%timeit users_instance.average_median_ratings_distribution(metric='average')\n",
    "print_data(users_instance.average_median_ratings_distribution(metric='average'), \"Average Ratings Distribution\")"
   ]
  },
  {
   "cell_type": "markdown",
   "id": "a5b67750-6030-4016-92ae-e805fba82b6b",
   "metadata": {},
   "source": [
    "### Users with Highest Rating Variance\n",
    "\n",
    "This cell prints the top 10 users with the highest variance in their ratings, indicating those with the mostdiverse opinions on movies, using the `top_n_variance_users` method of the `users_instance` object."
   ]
  },
  {
   "cell_type": "code",
   "execution_count": null,
   "id": "f1195606",
   "metadata": {},
   "outputs": [
    {
     "name": "stdout",
     "output_type": "stream",
     "text": [
      "456 μs ± 46.6 μs per loop (mean ± std. dev. of 7 runs, 1,000 loops each)\n",
      "Top 10 Users by Variance:\n",
      "3 : 4.26\n",
      "4 : 1.72\n",
      "7 : 1.65\n",
      "5 : 0.96\n",
      "6 : 0.72\n",
      "1 : 0.64\n",
      "2 : 0.63\n",
      "\n"
     ]
    }
   ],
   "source": [
    "%timeit users_instance.top_n_variance_users(10)\n",
    "print_data(users_instance.top_n_variance_users(10), \"Top 10 Users by Variance\")"
   ]
  },
  {
   "cell_type": "markdown",
   "id": "da861992-a2b0-4604-9968-edd968b71bf4",
   "metadata": {},
   "source": [
    "### Initialize Tag Data\n",
    "\n",
    "This cell imports the `Tags` class, defines the path to the tags data file, specifies a word to search for within the tags, and creates an instance of the `Tags` class using the data from the tags file."
   ]
  },
  {
   "cell_type": "code",
   "execution_count": null,
   "id": "934624c9",
   "metadata": {},
   "outputs": [],
   "source": [
    "# %%timeit\n",
    "from tags import Tags, print_data\n",
    " \n",
    "path_to_file = \"../datasets/tags.csv\"\n",
    "word_to_search = \"oo\"\n",
    " \n",
    "tags_data = Tags(path_to_file)"
   ]
  },
  {
   "cell_type": "markdown",
   "id": "7c26094a-e1c8-49f4-8861-3905b6174ae3",
   "metadata": {},
   "source": [
    "### Most Common Tags\n",
    "\n",
    "This cell prints the 10 most common tags using the `most_words` method of the `tags_data` object and the `print_data` function. (Note: The name `most_words` might be slightly misleading, as it likely refers to the most frequent tags, not necessarily the tags with the most words.)"
   ]
  },
  {
   "cell_type": "code",
   "execution_count": null,
   "id": "93ce6fbb",
   "metadata": {},
   "outputs": [
    {
     "name": "stdout",
     "output_type": "stream",
     "text": [
      "1.44 ms ± 337 μs per loop (mean ± std. dev. of 7 runs, 1,000 loops each)\n",
      "most_common_tags:\n",
      "funny : 15\n",
      "sci-fi : 14\n",
      "twist ending : 12\n",
      "dark comedy : 12\n",
      "atmospheric : 10\n",
      "superhero : 10\n",
      "comedy : 10\n",
      "action : 10\n",
      "suspense : 10\n",
      "Leonardo DiCaprio : 9\n",
      "\n"
     ]
    }
   ],
   "source": [
    "%timeit tags_data.most_words(10)\n",
    "print_data(tags_data.most_words(10), \"most_common_tags\")"
   ]
  },
  {
   "cell_type": "markdown",
   "id": "13a92f1d-dee3-4cb6-ba7a-51b90705bcad",
   "metadata": {},
   "source": [
    "### Longest Tags\n",
    "\n",
    "This cell finds and prints the 10 longest tags, along with their lengths, using the `longest` method of the `tags_data` object."
   ]
  },
  {
   "cell_type": "code",
   "execution_count": null,
   "id": "9adc03ef",
   "metadata": {},
   "outputs": [
    {
     "name": "stdout",
     "output_type": "stream",
     "text": [
      "1.02 ms ± 45.7 μs per loop (mean ± std. dev. of 7 runs, 1,000 loops each)\n",
      "Longest tags:\n",
      "Something for everyone in this one... saw it without and plan on seeing it with kids! : 85\n",
      "the catholic church is the most corrupt organization in history : 63\n",
      "audience intelligence underestimated : 36\n",
      "Oscar (Best Music - Original Score) : 35\n",
      "assassin-in-training (scene) : 28\n",
      "Oscar (Best Cinematography) : 27\n",
      "Everything you want is here : 27\n",
      "political right versus left : 27\n",
      "representation of children : 26\n",
      "Guardians of the Galaxy : 23\n"
     ]
    }
   ],
   "source": [
    "%timeit tags_data.longest(10)\n",
    "longest_tags = tags_data.longest(10)\n",
    "print(\"Longest tags:\")\n",
    "for tag in longest_tags:\n",
    "    print(f\"{tag} : {len(tag)}\")"
   ]
  },
  {
   "cell_type": "markdown",
   "id": "e218a6b8-ebda-48fd-8a67-ce187288d7bb",
   "metadata": {},
   "source": [
    "### Tags Containing 'oo'\n",
    "\n",
    "This cell finds and prints the tags that contain the word 'oo', along with their lengths, using the `tags_with` method of the `tags_data` object."
   ]
  },
  {
   "cell_type": "code",
   "execution_count": null,
   "id": "a244eb3c",
   "metadata": {},
   "outputs": [
    {
     "name": "stdout",
     "output_type": "stream",
     "text": [
      "1.01 ms ± 75.7 μs per loop (mean ± std. dev. of 7 runs, 1,000 loops each)\n",
      "Tags with 'oo':\n",
      "High School : 11\n",
      "Hollywood : 9\n",
      "Orlando Bloom : 13\n",
      "Poor story : 10\n",
      "Woody Harrelson : 15\n",
      "based on a book : 15\n",
      "bloody : 6\n",
      "cartoon : 7\n",
      "comic book : 10\n",
      "courtroom drama : 15\n",
      "feel-good : 9\n",
      "good dialogue : 13\n",
      "good soundtrack : 15\n",
      "good writing : 12\n",
      "goofy : 5\n",
      "high school : 11\n",
      "highschool : 10\n",
      "oldie but goodie : 16\n",
      "poorly paced : 12\n",
      "too long : 8\n",
      "way too long : 12\n"
     ]
    }
   ],
   "source": [
    "%timeit tags_data.tags_with(\"oo\")\n",
    "tags_with_oo = tags_data.tags_with(\"oo\")\n",
    "print(\"Tags with 'oo':\")\n",
    "for tag in tags_with_oo:\n",
    "    print(f\"{tag} : {len(tag)}\")"
   ]
  },
  {
   "cell_type": "markdown",
   "id": "c277918c-297e-4088-a74e-52450419044f",
   "metadata": {},
   "source": [
    "### Longest of Most Common Tags\n",
    "\n",
    "This cell finds and prints the 10 longest tags among the most common tags, along with their lengths, using the `most_words_and_longest` method of the `tags_data` object."
   ]
  },
  {
   "cell_type": "code",
   "execution_count": null,
   "id": "d68d345b",
   "metadata": {},
   "outputs": [
    {
     "name": "stdout",
     "output_type": "stream",
     "text": [
      "3.14 ms ± 1 ms per loop (mean ± std. dev. of 7 runs, 100 loops each)\n",
      "Longest of most common tags:\n"
     ]
    }
   ],
   "source": [
    "%timeit tags_data.most_words_and_longest(10)\n",
    "most_words_and_longest = tags_data.most_words_and_longest(10)\n",
    "print(\"Longest of most common tags:\")\n",
    "for tag in most_words_and_longest:\n",
    "    print(f\"{tag} : {len(tag)}\")"
   ]
  },
  {
   "cell_type": "markdown",
   "id": "eae9917b-87bc-473f-999c-4da4bb65429b",
   "metadata": {},
   "source": [
    "### Most Popular Tags\n",
    "\n",
    "This cell prints the 10 most popular tags using the `most_popular` method of the `tags_data` object and the `print_data` function."
   ]
  },
  {
   "cell_type": "code",
   "execution_count": null,
   "id": "0e00e3fb",
   "metadata": {},
   "outputs": [
    {
     "name": "stdout",
     "output_type": "stream",
     "text": [
      "1.21 ms ± 35.1 μs per loop (mean ± std. dev. of 7 runs, 1,000 loops each)\n",
      "Most popular tags:\n",
      "funny : 15\n",
      "sci-fi : 14\n",
      "twist ending : 12\n",
      "dark comedy : 12\n",
      "atmospheric : 10\n",
      "superhero : 10\n",
      "comedy : 10\n",
      "action : 10\n",
      "suspense : 10\n",
      "Leonardo DiCaprio : 9\n",
      "\n"
     ]
    }
   ],
   "source": [
    "%timeit tags_data.most_popular(10)\n",
    "print_data(tags_data.most_popular(10), \"Most popular tags\")"
   ]
  }
 ],
 "metadata": {
  "kernelspec": {
   "display_name": "Python 3 (ipykernel)",
   "language": "python",
   "name": "python3"
  },
  "language_info": {
   "codemirror_mode": {
    "name": "ipython",
    "version": 3
   },
   "file_extension": ".py",
   "mimetype": "text/x-python",
   "name": "python",
   "nbconvert_exporter": "python",
   "pygments_lexer": "ipython3",
   "version": "3.12.2"
  }
 },
 "nbformat": 4,
 "nbformat_minor": 5
}
